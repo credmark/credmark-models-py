{
 "cells": [
  {
   "cell_type": "code",
   "execution_count": 1,
   "metadata": {},
   "outputs": [
    {
     "ename": "ModelRunRequestError",
     "evalue": "Model ledger.block-number run request response missing both output and error",
     "output_type": "error",
     "traceback": [
      "\u001b[0;31m---------------------------------------------------------------------------\u001b[0m",
      "\u001b[0;31mModelRunRequestError\u001b[0m                      Traceback (most recent call last)",
      "Cell \u001b[0;32mIn[1], line 13\u001b[0m\n\u001b[1;32m      8\u001b[0m cmf_param \u001b[38;5;241m=\u001b[39m {\n\u001b[1;32m      9\u001b[0m     \u001b[38;5;124m'\u001b[39m\u001b[38;5;124mchain_id\u001b[39m\u001b[38;5;124m'\u001b[39m: \u001b[38;5;241m1\u001b[39m,\n\u001b[1;32m     10\u001b[0m }\n\u001b[1;32m     12\u001b[0m os\u001b[38;5;241m.\u001b[39mchdir(\u001b[38;5;124m'\u001b[39m\u001b[38;5;124m/home/thomashepner/credit-cooperative/credmark-models-py/\u001b[39m\u001b[38;5;124m'\u001b[39m)\n\u001b[0;32m---> 13\u001b[0m context, _model_loader \u001b[38;5;241m=\u001b[39m \u001b[43mcreate_cmf\u001b[49m\u001b[43m(\u001b[49m\u001b[43mcmf_param\u001b[49m\u001b[43m)\u001b[49m\n",
      "File \u001b[0;32m~/credit-cooperative/credmark-models-py/credmark/lib/python3.11/site-packages/credmark/cmf/ipython.py:62\u001b[0m, in \u001b[0;36mcreate_cmf\u001b[0;34m(cmf_param, show)\u001b[0m\n\u001b[1;32m     60\u001b[0m \u001b[38;5;28;01mif\u001b[39;00m cmf_param \u001b[38;5;129;01mis\u001b[39;00m \u001b[38;5;28;01mNone\u001b[39;00m:\n\u001b[1;32m     61\u001b[0m     cmf_param \u001b[38;5;241m=\u001b[39m {}\n\u001b[0;32m---> 62\u001b[0m context, _model_loader \u001b[38;5;241m=\u001b[39m \u001b[43mcreate_cmf_context\u001b[49m\u001b[43m(\u001b[49m\u001b[43mcmf_param\u001b[49m\u001b[43m,\u001b[49m\u001b[43m \u001b[49m\u001b[43mshow\u001b[49m\u001b[43m)\u001b[49m\n\u001b[1;32m     64\u001b[0m model_loaded \u001b[38;5;241m=\u001b[39m _model_loader\u001b[38;5;241m.\u001b[39mloaded_model_version_lists()\n\u001b[1;32m     65\u001b[0m \u001b[38;5;28;01mfor\u001b[39;00m _k, cache_value \u001b[38;5;129;01min\u001b[39;00m model_loaded\u001b[38;5;241m.\u001b[39mitems():\n",
      "File \u001b[0;32m~/credit-cooperative/credmark-models-py/credmark/lib/python3.11/site-packages/credmark/cmf/ipython.py:163\u001b[0m, in \u001b[0;36mcreate_cmf_context\u001b[0;34m(cmf_param, show)\u001b[0m\n\u001b[1;32m    159\u001b[0m     \u001b[38;5;28;01mraise\u001b[39;00m \u001b[38;5;167;01mValueError\u001b[39;00m(\n\u001b[1;32m    160\u001b[0m         \u001b[38;5;124mf\u001b[39m\u001b[38;5;124m'\u001b[39m\u001b[38;5;124mProvider URL \u001b[39m\u001b[38;5;132;01m{\u001b[39;00mprovider_url\u001b[38;5;132;01m}\u001b[39;00m\u001b[38;5;124m for \u001b[39m\u001b[38;5;132;01m{\u001b[39;00mcmf_init\u001b[38;5;241m.\u001b[39mchain_id\u001b[38;5;132;01m}\u001b[39;00m\u001b[38;5;124m does not respond.\u001b[39m\u001b[38;5;124m'\u001b[39m)\n\u001b[1;32m    162\u001b[0m model_loader \u001b[38;5;241m=\u001b[39m ModelLoader(model_loader_path, \u001b[38;5;28;01mNone\u001b[39;00m, \u001b[38;5;28;01mTrue\u001b[39;00m)\n\u001b[0;32m--> 163\u001b[0m context \u001b[38;5;241m=\u001b[39m \u001b[43mEngineModelContext\u001b[49m\u001b[38;5;241;43m.\u001b[39;49m\u001b[43mcreate_context\u001b[49m\u001b[43m(\u001b[49m\u001b[43mchain_id\u001b[49m\u001b[38;5;241;43m=\u001b[39;49m\u001b[43mcmf_init\u001b[49m\u001b[38;5;241;43m.\u001b[39;49m\u001b[43mchain_id\u001b[49m\u001b[43m,\u001b[49m\u001b[43m \u001b[49m\u001b[43mblock_number\u001b[49m\u001b[38;5;241;43m=\u001b[39;49m\u001b[43mcmf_init\u001b[49m\u001b[38;5;241;43m.\u001b[39;49m\u001b[43mblock_number\u001b[49m\u001b[43m,\u001b[49m\u001b[43m \u001b[49m\u001b[43mmodel_loader\u001b[49m\u001b[38;5;241;43m=\u001b[39;49m\u001b[43mmodel_loader\u001b[49m\u001b[43m,\u001b[49m\n\u001b[1;32m    164\u001b[0m \u001b[43m                                            \u001b[49m\u001b[43mchain_to_provider_url\u001b[49m\u001b[38;5;241;43m=\u001b[39;49m\u001b[43mcmf_init\u001b[49m\u001b[38;5;241;43m.\u001b[39;49m\u001b[43mchain_to_provider_url\u001b[49m\u001b[43m,\u001b[49m\n\u001b[1;32m    165\u001b[0m \u001b[43m                                            \u001b[49m\u001b[43mapi_url\u001b[49m\u001b[38;5;241;43m=\u001b[39;49m\u001b[43mcmf_init\u001b[49m\u001b[38;5;241;43m.\u001b[39;49m\u001b[43mapi_url\u001b[49m\u001b[43m,\u001b[49m\u001b[43m \u001b[49m\u001b[43mrun_id\u001b[49m\u001b[38;5;241;43m=\u001b[39;49m\u001b[38;5;28;43;01mNone\u001b[39;49;00m\u001b[43m,\u001b[49m\u001b[43m \u001b[49m\u001b[43mconsole\u001b[49m\u001b[38;5;241;43m=\u001b[39;49m\u001b[38;5;28;43;01mTrue\u001b[39;49;00m\u001b[43m,\u001b[49m\u001b[43m \u001b[49m\u001b[43muse_local_models\u001b[49m\u001b[38;5;241;43m=\u001b[39;49m\u001b[43mcmf_init\u001b[49m\u001b[38;5;241;43m.\u001b[39;49m\u001b[43muse_local_models\u001b[49m\u001b[43m)\u001b[49m\n\u001b[1;32m    167\u001b[0m context\u001b[38;5;241m.\u001b[39m_web3 \u001b[38;5;241m=\u001b[39m context\u001b[38;5;241m.\u001b[39m_web3_registry\u001b[38;5;241m.\u001b[39mweb3_for_chain_id(\n\u001b[1;32m    168\u001b[0m     context\u001b[38;5;241m.\u001b[39mchain_id,  {\u001b[38;5;124m'\u001b[39m\u001b[38;5;124mrequest_kwargs\u001b[39m\u001b[38;5;124m'\u001b[39m: {\u001b[38;5;124m'\u001b[39m\u001b[38;5;124mtimeout\u001b[39m\u001b[38;5;124m'\u001b[39m: \u001b[38;5;241m3600\u001b[39m \u001b[38;5;241m*\u001b[39m \u001b[38;5;241m10\u001b[39m}})\n\u001b[1;32m    169\u001b[0m context\u001b[38;5;241m.\u001b[39m_web3\u001b[38;5;241m.\u001b[39meth\u001b[38;5;241m.\u001b[39mdefault_block \u001b[38;5;241m=\u001b[39m \u001b[38;5;28mint\u001b[39m(context\u001b[38;5;241m.\u001b[39mblock_number)\n",
      "File \u001b[0;32m~/credit-cooperative/credmark-models-py/credmark/lib/python3.11/site-packages/credmark/cmf/engine/context.py:192\u001b[0m, in \u001b[0;36mEngineModelContext.create_context\u001b[0;34m(cls, chain_id, block_number, model_loader, chain_to_provider_url, api_url, run_id, depth, client, console, use_local_models, model_cache)\u001b[0m\n\u001b[1;32m    187\u001b[0m     \u001b[38;5;28mcls\u001b[39m\u001b[38;5;241m.\u001b[39mlogger\u001b[38;5;241m.\u001b[39mdebug(\u001b[38;5;124m'\u001b[39m\u001b[38;5;124mUsing local models (requested + dev models): \u001b[39m\u001b[38;5;124m'\u001b[39m\n\u001b[1;32m    188\u001b[0m                      \u001b[38;5;124mf\u001b[39m\u001b[38;5;124m'\u001b[39m\u001b[38;5;132;01m{\u001b[39;00m\u001b[38;5;28mcls\u001b[39m\u001b[38;5;241m.\u001b[39muse_local_models_slugs\u001b[38;5;132;01m}\u001b[39;00m\u001b[38;5;124m'\u001b[39m)\n\u001b[1;32m    190\u001b[0m \u001b[38;5;28;01mif\u001b[39;00m block_number \u001b[38;5;129;01mis\u001b[39;00m \u001b[38;5;28;01mNone\u001b[39;00m:\n\u001b[1;32m    191\u001b[0m     \u001b[38;5;66;03m# Lookup latest block number if none specified\u001b[39;00m\n\u001b[0;32m--> 192\u001b[0m     block_number \u001b[38;5;241m=\u001b[39m \u001b[38;5;28;43mcls\u001b[39;49m\u001b[38;5;241;43m.\u001b[39;49m\u001b[43mget_latest_block_number\u001b[49m\u001b[43m(\u001b[49m\u001b[43mapi\u001b[49m\u001b[43m,\u001b[49m\u001b[43m \u001b[49m\u001b[43mchain_id\u001b[49m\u001b[43m)\u001b[49m\n\u001b[1;32m    193\u001b[0m     \u001b[38;5;28mcls\u001b[39m\u001b[38;5;241m.\u001b[39mlogger\u001b[38;5;241m.\u001b[39minfo(\u001b[38;5;124mf\u001b[39m\u001b[38;5;124m'\u001b[39m\u001b[38;5;124mUsing latest block number \u001b[39m\u001b[38;5;132;01m{\u001b[39;00mblock_number\u001b[38;5;132;01m}\u001b[39;00m\u001b[38;5;124m'\u001b[39m)\n\u001b[1;32m    194\u001b[0m \u001b[38;5;28;01melif\u001b[39;00m \u001b[38;5;28misinstance\u001b[39m(block_number, \u001b[38;5;28mdict\u001b[39m):\n",
      "File \u001b[0;32m~/credit-cooperative/credmark-models-py/credmark/lib/python3.11/site-packages/credmark/cmf/engine/context.py:341\u001b[0m, in \u001b[0;36mEngineModelContext.get_latest_block_number\u001b[0;34m(cls, api, chain_id)\u001b[0m\n\u001b[1;32m    338\u001b[0m \u001b[38;5;129m@classmethod\u001b[39m\n\u001b[1;32m    339\u001b[0m \u001b[38;5;28;01mdef\u001b[39;00m \u001b[38;5;21mget_latest_block_number\u001b[39m(\u001b[38;5;28mcls\u001b[39m, api: ModelApi, chain_id: \u001b[38;5;28mint\u001b[39m):\n\u001b[1;32m    340\u001b[0m     \u001b[38;5;28;01mif\u001b[39;00m Network(chain_id)\u001b[38;5;241m.\u001b[39mhas_ledger:\n\u001b[0;32m--> 341\u001b[0m         _s, _v, output, _e, _d \u001b[38;5;241m=\u001b[39m \u001b[43mapi\u001b[49m\u001b[38;5;241;43m.\u001b[39;49m\u001b[43mrun_model\u001b[49m\u001b[43m(\u001b[49m\u001b[43mLEDGER_BLOCK_NUMBER_SLUG\u001b[49m\u001b[43m,\u001b[49m\n\u001b[1;32m    342\u001b[0m \u001b[43m                                               \u001b[49m\u001b[38;5;28;43;01mNone\u001b[39;49;00m\u001b[43m,\u001b[49m\u001b[43m \u001b[49m\u001b[43mchain_id\u001b[49m\u001b[43m,\u001b[49m\u001b[43m \u001b[49m\u001b[38;5;241;43m0\u001b[39;49m\u001b[43m,\u001b[49m\u001b[43m \u001b[49m\u001b[43m{\u001b[49m\u001b[43m}\u001b[49m\u001b[43m,\u001b[49m\u001b[43m \u001b[49m\u001b[43mraise_error_results\u001b[49m\u001b[38;5;241;43m=\u001b[39;49m\u001b[38;5;28;43;01mTrue\u001b[39;49;00m\u001b[43m)\u001b[49m\n\u001b[1;32m    343\u001b[0m         \u001b[38;5;28;01mif\u001b[39;00m output \u001b[38;5;129;01mis\u001b[39;00m \u001b[38;5;28;01mNone\u001b[39;00m:\n\u001b[1;32m    344\u001b[0m             \u001b[38;5;28;01mraise\u001b[39;00m \u001b[38;5;167;01mException\u001b[39;00m(\u001b[38;5;124m'\u001b[39m\u001b[38;5;124mError response getting latest block number\u001b[39m\u001b[38;5;124m'\u001b[39m)\n",
      "File \u001b[0;32m~/credit-cooperative/credmark-models-py/credmark/lib/python3.11/site-packages/credmark/cmf/engine/model_api.py:184\u001b[0m, in \u001b[0;36mModelApi.run_model\u001b[0;34m(self, slug, version, chain_id, block_number, input_jsonify, run_id, depth, client, raise_error_results)\u001b[0m\n\u001b[1;32m    181\u001b[0m             \u001b[38;5;28;01mraise\u001b[39;00m create_instance_from_error_dict(err_obj) \u001b[38;5;28;01mfrom\u001b[39;00m \u001b[38;5;28;01mNone\u001b[39;00m\n\u001b[1;32m    183\u001b[0m     \u001b[38;5;28;01mif\u001b[39;00m \u001b[38;5;124m'\u001b[39m\u001b[38;5;124moutput\u001b[39m\u001b[38;5;124m'\u001b[39m \u001b[38;5;129;01mnot\u001b[39;00m \u001b[38;5;129;01min\u001b[39;00m resp_obj \u001b[38;5;129;01mand\u001b[39;00m \u001b[38;5;124m'\u001b[39m\u001b[38;5;124merror\u001b[39m\u001b[38;5;124m'\u001b[39m \u001b[38;5;129;01mnot\u001b[39;00m \u001b[38;5;129;01min\u001b[39;00m resp_obj:\n\u001b[0;32m--> 184\u001b[0m         \u001b[38;5;28;01mraise\u001b[39;00m ModelRunRequestError(\n\u001b[1;32m    185\u001b[0m             \u001b[38;5;124mf\u001b[39m\u001b[38;5;124m'\u001b[39m\u001b[38;5;124mModel \u001b[39m\u001b[38;5;132;01m{\u001b[39;00mslug\u001b[38;5;132;01m}\u001b[39;00m\u001b[38;5;124m run request response missing both output and error\u001b[39m\u001b[38;5;124m'\u001b[39m, \u001b[38;5;28mstr\u001b[39m(\u001b[38;5;241m201\u001b[39m)) \u001b[38;5;28;01mfrom\u001b[39;00m \u001b[38;5;28;01mNone\u001b[39;00m\n\u001b[1;32m    187\u001b[0m     \u001b[38;5;28;01mreturn\u001b[39;00m resp_obj[\u001b[38;5;124m'\u001b[39m\u001b[38;5;124mslug\u001b[39m\u001b[38;5;124m'\u001b[39m], resp_obj[\u001b[38;5;124m'\u001b[39m\u001b[38;5;124mversion\u001b[39m\u001b[38;5;124m'\u001b[39m], resp_obj\u001b[38;5;241m.\u001b[39mget(\u001b[38;5;124m'\u001b[39m\u001b[38;5;124moutput\u001b[39m\u001b[38;5;124m'\u001b[39m), resp_obj\u001b[38;5;241m.\u001b[39mget(\u001b[38;5;124m'\u001b[39m\u001b[38;5;124merror\u001b[39m\u001b[38;5;124m'\u001b[39m), resp_obj[\u001b[38;5;124m'\u001b[39m\u001b[38;5;124mdependencies\u001b[39m\u001b[38;5;124m'\u001b[39m]\n\u001b[1;32m    189\u001b[0m \u001b[38;5;28;01mexcept\u001b[39;00m requests\u001b[38;5;241m.\u001b[39mexceptions\u001b[38;5;241m.\u001b[39mConnectionError \u001b[38;5;28;01mas\u001b[39;00m err:\n",
      "\u001b[0;31mModelRunRequestError\u001b[0m: Model ledger.block-number run request response missing both output and error"
     ]
    }
   ],
   "source": [
    "from credmark.cmf.ipython import create_cmf\n",
    "from credmark.cmf.types import Token, Contract, Address, Account, BlockNumber, Records, JoinType\n",
    "import requests\n",
    "import pandas as pd\n",
    "from dotenv import load_dotenv\n",
    "import os\n",
    "\n",
    "cmf_param = {\n",
    "    'chain_id': 1,\n",
    "}\n",
    "\n",
    "os.chdir('/home/thomashepner/credit-cooperative/credmark-models-py/')\n",
    "context, _model_loader = create_cmf(cmf_param)"
   ]
  },
  {
   "cell_type": "code",
   "execution_count": null,
   "metadata": {},
   "outputs": [],
   "source": [
    "rain_mainnet_factory = Contract('0x389c6f04D39fF038cC99F94BcE338D2f5Eb64a67')\n",
    "rain_factory_proxy = Contract('0x31EBf70312f488D0bdAc374b340f0D01dBf153B5')\n",
    "\n",
    "rain_controller = Contract('0xE5D3d7da4b24bc9D2FDA0e206680CD8A00C0FeBD')\n",
    "usdc_addr = Token(\"USDC\")\n",
    "\n",
    "load_dotenv()\n",
    "\n",
    "RAIN_DEVELOPER_API_KEY = os.environ.get('RAIN_DEVELOPER_API_KEY')\n",
    "RAIN_CARD_SPEND_ENDPOINT = os.environ.get('RAIN_CARD_SPEND_ENDPOINT')\n",
    "\n",
    "\n",
    "start_date = BlockNumber.from_ymd(2022, 10, 1)\n",
    "current_date=context.block_number\n"
   ]
  },
  {
   "cell_type": "code",
   "execution_count": null,
   "metadata": {},
   "outputs": [],
   "source": [
    "# rain_mainnet_factory.ledger.events.NewRainCollateral\n",
    "rain_factory_proxy.ledger.events.NewRainCollateral"
   ]
  },
  {
   "cell_type": "markdown",
   "metadata": {},
   "source": [
    "### Get Rain Collateral Contracts"
   ]
  },
  {
   "cell_type": "code",
   "execution_count": null,
   "metadata": {},
   "outputs": [],
   "source": [
    "with rain_factory_proxy.ledger.events.NewRainCollateral as q:\n",
    "    rain_collateral_contracts_df = q.select(columns=[q.EVT__COLLATERALPROXY],\n",
    "                    order_by=q.BLOCK_NUMBER.desc(),\n",
    "                    limit=1000).to_dataframe()\n",
    "\n",
    "rain_collateral_contracts_df.head(n=10)\n"
   ]
  },
  {
   "cell_type": "markdown",
   "metadata": {},
   "source": [
    "### Get Transaction History for each Rain Collateral Contract"
   ]
  },
  {
   "cell_type": "code",
   "execution_count": null,
   "metadata": {},
   "outputs": [],
   "source": [
    "# create new dataframe to store the historical transfers of USDC to and from the collateral proxy\n",
    "transfers_df = pd.DataFrame(columns=['block_number', 'to_address', 'from_address', 'token_address', 'transaction_hash', 'value', 'contract_address'])\n",
    "\n",
    "# iterate through each Rain collateral contract\n",
    "for index, row in rain_collateral_contracts_df.iterrows():\n",
    "    # print(row['evt__collateralProxy'])\n",
    "    collateral_proxy = Address(row['evt__collateralProxy'])\n",
    "    print('Collateral Proxy: ' + collateral_proxy)\n",
    "    print('Num Rows: ', transfers_df.shape[0])\n",
    "\n",
    "    # for each row, get historical transfers of USDC to and from the collateral proxy\n",
    "    with context.ledger.TokenTransfer as q:\n",
    "        transfers = q.select(\n",
    "            columns=[q.BLOCK_NUMBER,\n",
    "                    q.TO_ADDRESS,\n",
    "                    q.FROM_ADDRESS,\n",
    "                    q.TOKEN_ADDRESS,\n",
    "                    q.TRANSACTION_HASH],\n",
    "            aggregates=[((f'CASE WHEN {q.TO_ADDRESS.eq(collateral_proxy)} '\n",
    "                      f'THEN {q.VALUE} ELSE {q.VALUE.neg_()} END'),\n",
    "                    'value'),\n",
    "                    ((f'CASE WHEN {q.TO_ADDRESS.eq(collateral_proxy)} '\n",
    "                      f'THEN {q.TO_ADDRESS} ELSE {q.FROM_ADDRESS} END'),\n",
    "                    'contract_address'),\n",
    "                    ],\n",
    "            where=q.TOKEN_ADDRESS.eq('0xA0b86991c6218b36c1d19D4a2e9Eb0cE3606eB48').and_(q.TO_ADDRESS.eq(collateral_proxy)\n",
    "                            .or_(q.FROM_ADDRESS.eq(collateral_proxy)).parentheses_())).to_dataframe()\n",
    "\n",
    "        # concatenate the transfers to the transfers dataframe\n",
    "        # if (transfers.shape[0] > 0):\n",
    "        print(transfers_df.columns)\n",
    "        print(transfers.columns)\n",
    "            # transfers_df = pd.concat([transfers_df, transfers])\n",
    "\n",
    "\n",
    "# # Reorder the columns\n",
    "# transfers_df = transfers_df[['block_number', 'contract_address', 'to_address', 'from_address', 'token_address', 'transaction_hash', 'value']]\n",
    "\n",
    "# transfers_df.head(n=10)\n"
   ]
  },
  {
   "cell_type": "code",
   "execution_count": null,
   "metadata": {},
   "outputs": [],
   "source": [
    "collateral_proxy = Address('0x8FB0d9b49B8493cF77c6AE70d40d34A81078F29a')\n",
    "\n",
    "with context.ledger.TokenTransfer as q:\n",
    "    transfers = q.select(\n",
    "        columns=[q.BLOCK_NUMBER,\n",
    "                    q.TO_ADDRESS,\n",
    "                    q.FROM_ADDRESS,\n",
    "                    q.TOKEN_ADDRESS,\n",
    "                    q.TRANSACTION_HASH],\n",
    "        aggregates=[((f'CASE WHEN {q.TO_ADDRESS.eq(collateral_proxy)} '\n",
    "                      f'THEN {q.VALUE} ELSE {q.VALUE.neg_()} END'),\n",
    "                    'value'),\n",
    "                    ((f'CASE WHEN {q.TO_ADDRESS.eq(collateral_proxy)} '\n",
    "                      f'THEN {q.TO_ADDRESS} ELSE {q.FROM_ADDRESS} END'),\n",
    "                    'contract_address'),\n",
    "                    ],\n",
    "        where=q.TOKEN_ADDRESS.eq('0xA0b86991c6218b36c1d19D4a2e9Eb0cE3606eB48').and_(q.TO_ADDRESS.eq(collateral_proxy)\n",
    "                            .or_(q.FROM_ADDRESS.eq(collateral_proxy)).parentheses_())).to_dataframe()\n",
    "\n",
    "transfers.head(n=20)"
   ]
  },
  {
   "cell_type": "code",
   "execution_count": null,
   "metadata": {},
   "outputs": [],
   "source": [
    "with rain_factory_proxy.ledger.events.NewRainCollateral as q:\n",
    "    res = q.select(columns=[q.EVT__COLLATERALPROXY],\n",
    "                    order_by=q.BLOCK_NUMBER.desc(),\n",
    "                    limit=1000).to_dataframe()\n",
    "\n",
    "print(res)\n",
    "\n",
    "# iterate through each row in res\n",
    "\n",
    "# for each row, get the balance of the collateral proxy\n",
    "\n",
    "# for index, row in res.iterrows():\n",
    "#     # print(row['evt__collateralProxy'])\n",
    "#     collateral_proxy = Address(row['evt__collateralProxy'])\n",
    "#     balance = usdc_addr.functions.balanceOf(collateral_proxy).call()\n",
    "#     print(balance)\n",
    "#     # with collateral_proxy.balance_of(usdc_addr) as q:\n",
    "#     #     res = q.select(columns=[q.EVT__VALUE],\n",
    "#     #                 order_by=q.BLOCK_NUMBER.desc(),\n",
    "#     #                 limit=200).to_dataframe()\n",
    "#     # print(res)\n",
    "#     # # iterate through each row in res\n",
    "#     # # for each row, get the balance of the collateral proxy\n",
    "#     # for index, row in res.iterrows():\n",
    "#     #     print(row['VALUE'])\n",
    "#     #     # if the balance is greater than 0, then we need to call the rain card spend endpoint\n",
    "#     #     if row['VALUE'] > 0:\n",
    "#     #         print('calling rain card spend endpoint')\n",
    "#     #         # call the rain card spend endpoint\n",
    "\n"
   ]
  },
  {
   "cell_type": "code",
   "execution_count": null,
   "metadata": {},
   "outputs": [],
   "source": [
    "\n",
    "\n",
    "transfers_df.loc[''].head(n=20)"
   ]
  },
  {
   "cell_type": "code",
   "execution_count": null,
   "metadata": {},
   "outputs": [],
   "source": [
    "rain_collateral_contract = Address('0x8FB0d9b49B8493cF77c6AE70d40d34A81078F29a')"
   ]
  },
  {
   "cell_type": "code",
   "execution_count": null,
   "metadata": {},
   "outputs": [],
   "source": [
    "print(context.ledger.tables())\n",
    "print(context.ledger.table(\"TokenTransfer\").columns)"
   ]
  },
  {
   "cell_type": "code",
   "execution_count": null,
   "metadata": {},
   "outputs": [],
   "source": [
    "with context.ledger.TokenTransfer as q:\n",
    "    transfers = q.select(\n",
    "        columns=[q.BLOCK_NUMBER,\n",
    "                 #  BlockNumber(q.BLOCK_NUMBER).timestamp_datetime.strftime(\"%Y-%M-%d\"),\n",
    "                 q.VALUE,\n",
    "                 q.TO_ADDRESS,\n",
    "                 q.FROM_ADDRESS,\n",
    "                 q.TOKEN_ADDRESS,\n",
    "                 q.TRANSACTION_HASH],\n",
    "        aggregates=[((f'CASE WHEN {q.TO_ADDRESS.eq(rain_collateral_contract)} '\n",
    "                      f'THEN {q.VALUE} ELSE {q.VALUE.neg_()} END'),\n",
    "                    'value'),\n",
    "                    ],\n",
    "        where=q.TOKEN_ADDRESS.eq('0xA0b86991c6218b36c1d19D4a2e9Eb0cE3606eB48').and_(q.TO_ADDRESS.eq(rain_collateral_contract)\n",
    "                          .or_(q.FROM_ADDRESS.eq(rain_collateral_contract)).parentheses_())).to_dataframe()\n",
    "\n",
    "\n",
    "transfers.head(n=20)"
   ]
  },
  {
   "cell_type": "code",
   "execution_count": null,
   "metadata": {},
   "outputs": [],
   "source": [
    "# Make cumulative dataframe\n",
    "transfers_w_cumulative = transfers.copy()\n",
    "transfers_w_cumulative['cumulative'] = transfers['value'].cumsum()\n",
    "transfers_w_cumulative['value_usdc'] = transfers['value'] / 10**6\n",
    "transfers_w_cumulative['cumulative_usdc'] = transfers_w_cumulative['cumulative'] / 10**6\n",
    "\n",
    "transfers_w_cumulative.head(n=20)"
   ]
  },
  {
   "cell_type": "markdown",
   "metadata": {},
   "source": []
  },
  {
   "cell_type": "code",
   "execution_count": null,
   "metadata": {},
   "outputs": [],
   "source": [
    "rain_controller.ledger"
   ]
  },
  {
   "cell_type": "code",
   "execution_count": null,
   "metadata": {},
   "outputs": [],
   "source": [
    "rain_controller.ledger.events.Liquidation"
   ]
  },
  {
   "cell_type": "code",
   "execution_count": null,
   "metadata": {},
   "outputs": [],
   "source": [
    "with rain_controller.ledger.events.Liquidation as q:\n",
    "    liquidations = (q.select(\n",
    "        columns=[\n",
    "            q.EVT__COLLATERALPROXY,\n",
    "            q.EVT__ASSETS,\n",
    "            q.EVT__AMOUNTS\n",
    "        ],\n",
    "        where=q.BLOCK_NUMBER.between_(start_date, current_date)\n",
    "    )).to_dataframe()\n",
    "\n",
    "display(liquidations)"
   ]
  },
  {
   "cell_type": "code",
   "execution_count": null,
   "metadata": {},
   "outputs": [],
   "source": [
    "rain_controller.ledger.events.Payment"
   ]
  },
  {
   "cell_type": "code",
   "execution_count": null,
   "metadata": {},
   "outputs": [],
   "source": [
    "with rain_controller.ledger.events.Payment as q:\n",
    "    payments = (q.select(\n",
    "        columns=[\n",
    "            q.EVT__COLLATERALPROXY,\n",
    "            q.EVT__ASSETS,\n",
    "            q.EVT__AMOUNTS\n",
    "        ],\n",
    "        where=q.BLOCK_NUMBER.between_(start_date, current_date)\n",
    "    )).to_dataframe()\n",
    "\n",
    "display(payments)"
   ]
  },
  {
   "cell_type": "code",
   "execution_count": null,
   "metadata": {},
   "outputs": [],
   "source": [
    "rain_controller.ledger.events.Withdrawal"
   ]
  },
  {
   "cell_type": "code",
   "execution_count": null,
   "metadata": {},
   "outputs": [],
   "source": [
    "with rain_controller.ledger.events.Withdrawal as q:\n",
    "    withdrawals = (q.select(\n",
    "        columns=[\n",
    "            q.EVT__COLLATERALPROXY,\n",
    "            q.EVT__ASSET,\n",
    "            q.EVT__AMOUNT\n",
    "        ],\n",
    "        where=q.BLOCK_NUMBER.between_(start_date, current_date)\n",
    "    )).to_dataframe()\n",
    "\n",
    "display(withdrawals)"
   ]
  },
  {
   "cell_type": "code",
   "execution_count": null,
   "metadata": {},
   "outputs": [],
   "source": [
    "def get_card_spend_dataframe():\n",
    "    # Headers (if required)\n",
    "    headers = {\n",
    "        'API-Key': RAIN_DEVELOPER_API_KEY,\n",
    "        'accept': 'application/json'\n",
    "    }\n",
    "\n",
    "    # Make the GET request\n",
    "    response = requests.get(RAIN_CARD_SPEND_ENDPOINT, headers=headers)\n",
    "\n",
    "    # Check if the request was successful\n",
    "    if response.status_code == 200:\n",
    "        # Process the response if successful\n",
    "        data = response.json()\n",
    "        print(data)\n",
    "    else:\n",
    "        # Handle errors (you can print or log the error response)\n",
    "        print(f\"Error: {response.status_code}\")\n",
    "\n",
    "    # create dataframe\n",
    "    df = pd.DataFrame([data])\n",
    "\n",
    "    # add date column\n",
    "    df.insert(0, 'date', current_date)\n",
    "\n",
    "\n",
    "    # drop dueBalance\n",
    "    df = df.drop(columns=['dueBalance'])\n",
    "\n",
    "    # add totalBalance\n",
    "    df['totalBalance'] = df['pendingBalance'] + df['postedBalance']\n",
    "\n",
    "    return df"
   ]
  },
  {
   "cell_type": "code",
   "execution_count": null,
   "metadata": {},
   "outputs": [],
   "source": [
    "latest_card_spend_df = get_card_spend_dataframe()"
   ]
  }
 ],
 "metadata": {
  "kernelspec": {
   "display_name": "Python 3 (ipykernel)",
   "language": "python",
   "name": "python3"
  },
  "language_info": {
   "codemirror_mode": {
    "name": "ipython",
    "version": 3
   },
   "file_extension": ".py",
   "mimetype": "text/x-python",
   "name": "python",
   "nbconvert_exporter": "python",
   "pygments_lexer": "ipython3",
   "version": "3.11.0rc1"
  }
 },
 "nbformat": 4,
 "nbformat_minor": 4
}
