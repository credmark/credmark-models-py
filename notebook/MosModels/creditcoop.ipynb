{
 "cells": [
  {
   "cell_type": "code",
   "execution_count": 4,
   "metadata": {},
   "outputs": [],
   "source": [
    "from credmark.cmf.ipython import create_cmf\n",
    "from credmark.cmf.types import Token, Contract, Address, Account, BlockNumber, Records, JoinType \n",
    "from models.tmp_abi_lookup import RAIN_LOC, ESCROW \n",
    "import datetime\n",
    "\n",
    "\n",
    "cmf_param = {\n",
    "    'chain_id': 1,\n",
    "}\n",
    "\n",
    "context, _model_loader = create_cmf(cmf_param)"
   ]
  },
  {
   "cell_type": "code",
   "execution_count": 9,
   "metadata": {},
   "outputs": [
    {
     "name": "stdout",
     "output_type": "stream",
     "text": [
      "Outstanding principal (USDC): 182998.379075\n",
      "Accrued Interest (USDC): 230.663928\n",
      "Total Outstanding Debt (USDC): 183229.043003\n",
      "Funds Available to Draw (USDC): 417001.620925\n",
      "Interest Available to Withdraw (USDC): 6140.349075\n",
      "Dealdine:  2024-04-12 20:22:23+00:00\n",
      "Collateral:  0\n"
     ]
    }
   ],
   "source": [
    "RainCCLoC = Contract('0xbf2d49ecfe657132f34863263d654d8e2eb1d72e').set_abi(RAIN_LOC, set_loaded=True)\n",
    "\n",
    "escrow = RainCCLoC.functions.escrow().call()\n",
    "\n",
    "escrowContract = Contract(escrow).set_abi(ESCROW, set_loaded=True)\n",
    "\n",
    "collateral = escrowContract.functions.getCollateralValue().call()\n",
    "\n",
    "id = RainCCLoC.functions.ids(0).call()\n",
    "\n",
    "credit = RainCCLoC.functions.credits(id).call()\n",
    "\n",
    "interstAccrued = RainCCLoC.functions.interestAccrued(id).call()\n",
    "\n",
    "avaialbleCredit = RainCCLoC.functions.available(id).call()\n",
    "\n",
    "deadline = RainCCLoC.functions.deadline().call()\n",
    "normalDeadline = datetime.datetime.fromtimestamp(deadline, datetime.UTC)\n",
    "\n",
    "arbiter = RainCCLoC.functions.arbiter().call()\n",
    "\n",
    "\n",
    "# 0 - deposit, 1 - principal, 2 - interestAccrued, 3 - interestRepaid, 4 - decimals, 5 - token, 6 - lender, 7 - isOpen\n",
    "\n",
    "print(\"Outstanding principal (USDC):\", credit[1]/(10**credit[4]))\n",
    "print(\"Accrued Interest (USDC):\", interstAccrued/(10**credit[4]))\n",
    "print(\"Total Outstanding Debt (USDC):\", (credit[1] + interstAccrued)/(10**credit[4]))\n",
    "print(\"Funds Available to Draw (USDC):\", avaialbleCredit[0]/(10**credit[4]))\n",
    "print(\"Interest Available to Withdraw (USDC):\", avaialbleCredit[1]/(10**credit[4]))\n",
    "print(\"Dealdine: \", normalDeadline)\n",
    "print(\"Collateral: \", collateral)\n"
   ]
  }
 ],
 "metadata": {
  "kernelspec": {
   "display_name": "venv",
   "language": "python",
   "name": "python3"
  },
  "language_info": {
   "codemirror_mode": {
    "name": "ipython",
    "version": 3
   },
   "file_extension": ".py",
   "mimetype": "text/x-python",
   "name": "python",
   "nbconvert_exporter": "python",
   "pygments_lexer": "ipython3",
   "version": "3.12.1"
  }
 },
 "nbformat": 4,
 "nbformat_minor": 2
}
