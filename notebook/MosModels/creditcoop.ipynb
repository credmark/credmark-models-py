{
 "cells": [
  {
   "cell_type": "code",
   "execution_count": 7,
   "metadata": {},
   "outputs": [],
   "source": [
    "from credmark.cmf.ipython import create_cmf\n",
    "from credmark.cmf.types import Token, Contract, Address, Account, BlockNumber, Records, JoinType \n",
    "from credmark.cmf.types.data.erc_standard_data import ERC20_BASE_ABI\n",
    "from models.tmp_abi_lookup import RAIN_LOC, ESCROW \n",
    "import datetime\n",
    "\n",
    "\n",
    "cmf_param = {\n",
    "    'chain_id': 1,\n",
    "}\n",
    "\n",
    "context, _model_loader = create_cmf(cmf_param)"
   ]
  },
  {
   "cell_type": "code",
   "execution_count": 18,
   "metadata": {},
   "outputs": [
    {
     "name": "stdout",
     "output_type": "stream",
     "text": [
      "Token : USDC USD Coin 6\n",
      "Credit Token:  0xA0b86991c6218b36c1d19D4a2e9Eb0cE3606eB48\n",
      "Outstanding principal (USDC): 600000.0\n",
      "Accrued Interest (USDC): 1669.88364\n",
      "Total Outstanding Debt (USDC): 601669.88364\n",
      "Funds Available to Draw (USDC): 0.0\n",
      "Interest Available to Withdraw (USDC): 6140.349075\n",
      "Dealdine:  2024-04-12 20:22:23+00:00\n",
      "Collateral:  0\n"
     ]
    }
   ],
   "source": [
    "RainCCLoC = Contract('0xbf2d49ecfe657132f34863263d654d8e2eb1d72e').set_abi(RAIN_LOC, set_loaded=True)\n",
    "\n",
    "escrow = RainCCLoC.functions.escrow().call()\n",
    "\n",
    "escrowContract = Contract(escrow).set_abi(ESCROW, set_loaded=True)\n",
    "\n",
    "collateral = escrowContract.functions.getCollateralValue().call()\n",
    "\n",
    "id = RainCCLoC.functions.ids(0).call()\n",
    "\n",
    "credit = RainCCLoC.functions.credits(id).call()\n",
    "\n",
    "\n",
    "# interstAccrued = RainCCLoC.functions.interestAccrued(id).call()\n",
    "\n",
    "# avaialbleCredit = RainCCLoC.functions.available(id).call()\n",
    "\n",
    "# deadline = RainCCLoC.functions.deadline().call()\n",
    "\n",
    "# arbiter = RainCCLoC.functions.arbiter().call()\n",
    "\n",
    "\n",
    "[interstAccrued, avaialbleCredit, deadline, normalDeadline] = context.web3_batch.call([\n",
    "    RainCCLoC.functions.interestAccrued(id),\n",
    "    RainCCLoC.functions.available(id),\n",
    "    RainCCLoC.functions.deadline(),\n",
    "    RainCCLoC.functions.arbiter()\n",
    "], unwrap=True)\n",
    "\n",
    "normalDeadline = datetime.datetime.fromtimestamp(deadline, datetime.UTC)\n",
    "\n",
    "\n",
    "token = Token(credit[5]).set_abi(ERC20_BASE_ABI, set_loaded=True)\n",
    "\n",
    "# token_price = context.run_model(\n",
    "#                     slug='price.quote',\n",
    "#                     input={'base': token})['price']\n",
    "\n",
    "\n",
    "# 0 - deposit, 1 - principal, 2 - interestAccrued, 3 - interestRepaid, 4 - decimals, 5 - token, 6 - lender, 7 - isOpen\n",
    "\n",
    "print(f\"Token : {token.symbol} {token.name} {token.decimals}\")\n",
    "# print(f\"Token price: {token_price}\")\n",
    "print(\"Credit Token: \", credit[5])\n",
    "print(\"Outstanding principal (USDC):\", credit[1]/(10**credit[4]))\n",
    "print(\"Accrued Interest (USDC):\", interstAccrued/(10**credit[4]))\n",
    "print(\"Total Outstanding Debt (USDC):\", (credit[1] + interstAccrued)/(10**credit[4]))\n",
    "print(\"Funds Available to Draw (USDC):\", avaialbleCredit[0]/(10**credit[4]))\n",
    "print(\"Interest Available to Withdraw (USDC):\", avaialbleCredit[1]/(10**credit[4]))\n",
    "print(\"Dealdine: \", normalDeadline)\n",
    "print(\"Collateral: \", collateral)\n"
   ]
  }
 ],
 "metadata": {
  "kernelspec": {
   "display_name": "venv",
   "language": "python",
   "name": "python3"
  },
  "language_info": {
   "codemirror_mode": {
    "name": "ipython",
    "version": 3
   },
   "file_extension": ".py",
   "mimetype": "text/x-python",
   "name": "python",
   "nbconvert_exporter": "python",
   "pygments_lexer": "ipython3",
   "version": "3.12.1"
  }
 },
 "nbformat": 4,
 "nbformat_minor": 2
}
