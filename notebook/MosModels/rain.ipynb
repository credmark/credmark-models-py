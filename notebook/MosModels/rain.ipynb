{
 "cells": [
  {
   "cell_type": "code",
   "execution_count": 1,
   "metadata": {},
   "outputs": [],
   "source": [
    "from credmark.cmf.ipython import create_cmf\n",
    "from credmark.cmf.types import Token, Contract, Address, Account, BlockNumber, Records, JoinType\n",
    "import requests\n",
    "import pandas as pd\n",
    "from dotenv import load_dotenv\n",
    "import os\n",
    "\n",
    "cmf_param = {\n",
    "    'chain_id': 1,\n",
    "}\n",
    "\n",
    "context, _model_loader = create_cmf(cmf_param)"
   ]
  },
  {
   "cell_type": "code",
   "execution_count": 2,
   "metadata": {},
   "outputs": [],
   "source": [
    "rain_mainnet_factory = Contract('0x389c6f04D39fF038cC99F94BcE338D2f5Eb64a67')\n",
    "rain_factory_proxy = Contract('0x31EBf70312f488D0bdAc374b340f0D01dBf153B5')\n",
    "\n",
    "rain_controller = Contract('0xE5D3d7da4b24bc9D2FDA0e206680CD8A00C0FeBD')\n",
    "usdc_addr = Token(\"USDC\")\n",
    "\n",
    "load_dotenv()\n",
    "\n",
    "RAIN_DEVELOPER_API_KEY = os.environ.get('RAIN_DEVELOPER_API_KEY')\n",
    "RAIN_CARD_SPEND_ENDPOINT = os.environ.get('RAIN_CARD_SPEND_ENDPOINT')\n",
    "\n",
    "\n",
    "start_date = BlockNumber.from_ymd(2022, 10, 1)\n",
    "current_date=context.block_number\n"
   ]
  },
  {
   "cell_type": "code",
   "execution_count": 18,
   "metadata": {},
   "outputs": [
    {
     "data": {
      "text/plain": [
       "LedgerQueryContractEvents(['block_number', 'block_timestamp', 'contract_address', 'log_index', 'signature', 'transaction_hash', 'evt__collateralProxy', 'evt__name', 'evt__user'])"
      ]
     },
     "execution_count": 18,
     "metadata": {},
     "output_type": "execute_result"
    }
   ],
   "source": [
    "# rain_mainnet_factory.ledger.events.NewRainCollateral\n",
    "rain_factory_proxy.ledger.events.NewRainCollateral"
   ]
  },
  {
   "cell_type": "code",
   "execution_count": 3,
   "metadata": {},
   "outputs": [
    {
     "name": "stdout",
     "output_type": "stream",
     "text": [
      "                          evt__collateralProxy\n",
      "0   0x961e671268d06b87b4889c0070b5f12321f54221\n",
      "1   0x06731b3ae3fff7d88956b4e6d0520055ede902c4\n",
      "2   0x78252d583b636ee4cdfcad2f5ee423adf80bf840\n",
      "3   0x3d677d45d967b38fcdf9af729b1f5e2df5be676e\n",
      "4   0xbb3c5287354d26e59503d94259116e395bead52f\n",
      "5   0x88dbe7cb67dddb7021070d301aba7aa1fd251042\n",
      "6   0x9c659caf50c3d29ab3b0744a533cffcb5241b2da\n",
      "7   0xa5b5c417efb8cfb87dd4ab7ffdf5d2d6478e56d0\n",
      "8   0xe20ddd1e1b0dad8a17d59fd768d726865335d78e\n",
      "9   0x7d2871b02b87126bbdff8dbf5b6b4cb8226a3036\n",
      "10  0xc0eafe4ed305f6d7fb1247c5296fab8b450f32d1\n",
      "11  0xc4ee1ba9a95bb80987ca0a11e9573b4ab5663c54\n",
      "12  0x196676fb5e8f1b4617443296859623eb4bdb3795\n",
      "13  0x424866e16698955b202d13795a020ad7ff9ff009\n",
      "14  0xa7796363b50884fa115ac53809918c011381259a\n",
      "15  0xbdbc22b35d87bee5d5a584b6ad1b438e14c5f353\n",
      "16  0xb96ef17babd471c8ba388bd3291c3068f5e5eb47\n",
      "17  0xe400da55a34f5ea199d1c21dc4224f3f49d71d90\n",
      "18  0x49dadb85ce88433128243f2bca4f6b6c47955fa4\n",
      "19  0xd4b6f8a7fe272202d8037cbe2c6ddef491400cea\n",
      "20  0x2a36ca7fb792f6f76548b18f07c1695219923e46\n",
      "21  0x80cd9e9a3622ac9b1f4581efc8dbba827877b30d\n",
      "22  0x78d76b723e905778b474145089b86cd412184d11\n",
      "23  0xf547e47f228f9779acc152f9cd135107c29dfb59\n",
      "24  0x669f8851492595502ceb77a1b94b76fa575911a8\n",
      "25  0xbfce5d28299094075f1aec692ebbf147ff553fd4\n",
      "26  0x163b377e7f71fc951276770916110f137f818b67\n",
      "27  0xeee4bc7cf3402a23de4e0eeacc34a8c859f33d1a\n",
      "28  0xeaabb1a08ccd2edd334f5f21d083820ea7fcb0e0\n",
      "29  0x7ff7fe4e126a3528cf3b6045a9c867574305bd0d\n",
      "30  0x3807afb0beff45a378dc48c00717520e84401609\n",
      "31  0x41d43b4ad890856c677cae616e7a046fe5b28a15\n",
      "32  0xb43d02658c3907bb4b1a70de83f211eea26e167b\n",
      "33  0x2313f09ec28a8aaae52d173530b44f3493856657\n",
      "34  0x8ee4c1db37b2dbe5a4cf1aa2dae97e43a7d78dff\n",
      "35  0x5ad5a4a537ea6ab01f68558f67d7560e528832af\n",
      "36  0xb8fa5a70f00d3208655b574f9c1c641646965e35\n",
      "37  0x48ed9fa147b2c921e02fb860bd43c78f24510aa5\n",
      "38  0x96b0f723cdc78332c2cf201568db22f6e556feb2\n",
      "39  0x5d0403c9097f218fbbc01db7c9497fc6769f7257\n",
      "40  0xe937f53bfec9a977b77f7e43387cb5df5451253d\n",
      "41  0x49fb7c08792879bb6e4ea3ca5760b350419e8780\n",
      "42  0xf22cde745adccdfbbe249ab2968e5d254fe347a6\n",
      "43  0xfe1c02da83503afa81b77810785d392b491a30cd\n",
      "44  0x11b2b4cad297225cca51bb38bd58519eebff4660\n",
      "45  0xa4f29a438102745450e96823bd22f8b2d34145cd\n",
      "46  0xf7cf4902152f0195ac29cfc9ffcd03179c1865b5\n",
      "47  0xe6e67415276248bb10f200a11262f8ff1baf4562\n",
      "48  0x87b0c4f3f7ad309114e3ddebf8fbf3f292bbefe9\n",
      "49  0x61905ebe0c0c630d95f4a74cadbbb20865418dc2\n"
     ]
    }
   ],
   "source": [
    "with rain_factory_proxy.ledger.events.NewRainCollateral as q:\n",
    "    res = q.select(columns=[q.EVT__COLLATERALPROXY],\n",
    "                    order_by=q.BLOCK_NUMBER.desc(),\n",
    "                    limit=1000).to_dataframe()\n",
    "    \n",
    "print(res)\n",
    "\n",
    "# iterate through each row in res\n",
    "\n",
    "# for each row, get the balance of the collateral proxy\n",
    "\n",
    "# for index, row in res.iterrows():\n",
    "#     # print(row['evt__collateralProxy'])\n",
    "#     collateral_proxy = Address(row['evt__collateralProxy'])\n",
    "#     balance = usdc_addr.functions.balanceOf(collateral_proxy).call()\n",
    "#     print(balance)\n",
    "#     # with collateral_proxy.balance_of(usdc_addr) as q:\n",
    "#     #     res = q.select(columns=[q.EVT__VALUE],\n",
    "#     #                 order_by=q.BLOCK_NUMBER.desc(),\n",
    "#     #                 limit=200).to_dataframe()\n",
    "#     # print(res)\n",
    "#     # # iterate through each row in res\n",
    "#     # # for each row, get the balance of the collateral proxy\n",
    "#     # for index, row in res.iterrows():\n",
    "#     #     print(row['VALUE'])\n",
    "#     #     # if the balance is greater than 0, then we need to call the rain card spend endpoint\n",
    "#     #     if row['VALUE'] > 0:\n",
    "#     #         print('calling rain card spend endpoint')\n",
    "#     #         # call the rain card spend endpoint\n",
    "\n"
   ]
  },
  {
   "cell_type": "code",
   "execution_count": 75,
   "metadata": {},
   "outputs": [
    {
     "data": {
      "text/plain": [
       "LedgerQueryContractEvents(['block_number', 'block_timestamp', 'contract_address', 'log_index', 'signature', 'transaction_hash', 'evt__collateralProxy', 'evt__assets', 'evt__amounts'])"
      ]
     },
     "execution_count": 75,
     "metadata": {},
     "output_type": "execute_result"
    }
   ],
   "source": [
    "rain_controller.ledger.events.Liquidation"
   ]
  },
  {
   "cell_type": "code",
   "execution_count": null,
   "metadata": {},
   "outputs": [],
   "source": [
    "with rain_controller.ledger.events.Liquidation as q:\n",
    "    liquidations = (q.select(\n",
    "        columns=[\n",
    "            q.EVT__COLLATERALPROXY,\n",
    "            q.EVT__AMOUNTS\n",
    "        ],\n",
    "        where=q.BLOCK_NUMBER.between_(start_date, current_date)\n",
    "    )).to_dataframe()\n",
    "\n",
    "display(liquidations)"
   ]
  },
  {
   "cell_type": "code",
   "execution_count": 76,
   "metadata": {},
   "outputs": [
    {
     "data": {
      "text/plain": [
       "LedgerQueryContractEvents(['block_number', 'block_timestamp', 'contract_address', 'log_index', 'signature', 'transaction_hash', 'evt__collateralProxy', 'evt__assets', 'evt__amounts'])"
      ]
     },
     "execution_count": 76,
     "metadata": {},
     "output_type": "execute_result"
    }
   ],
   "source": [
    "rain_controller.ledger.events.Payment"
   ]
  },
  {
   "cell_type": "code",
   "execution_count": null,
   "metadata": {},
   "outputs": [],
   "source": [
    "with rain_controller.ledger.events.Payment as q:\n",
    "    payments = (q.select(\n",
    "        columns=[\n",
    "            q.EVT__COLLATERALPROXY,\n",
    "            q.EVT__AMOUNTS\n",
    "        ],\n",
    "        where=q.BLOCK_NUMBER.between_(start_date, current_date)\n",
    "    )).to_dataframe()\n",
    "\n",
    "display(payments)"
   ]
  },
  {
   "cell_type": "code",
   "execution_count": 10,
   "metadata": {},
   "outputs": [
    {
     "data": {
      "text/plain": [
       "LedgerQueryContractEvents(['block_number', 'block_timestamp', 'contract_address', 'log_index', 'signature', 'transaction_hash', 'evt__collateralProxy', 'evt__asset', 'evt__amount'])"
      ]
     },
     "execution_count": 10,
     "metadata": {},
     "output_type": "execute_result"
    }
   ],
   "source": [
    "rain_controller.ledger.events.Withdrawal"
   ]
  },
  {
   "cell_type": "code",
   "execution_count": null,
   "metadata": {},
   "outputs": [],
   "source": [
    "with rain_controller.ledger.events.Withdrawal as q:\n",
    "    withdrawals = (q.select(\n",
    "        columns=[\n",
    "            q.EVT__COLLATERALPROXY,\n",
    "            q.EVT__AMOUNT\n",
    "        ],\n",
    "        where=q.BLOCK_NUMBER.between_(start_date, current_date)\n",
    "    )).to_dataframe()\n",
    "\n",
    "display(withdrawals)"
   ]
  },
  {
   "cell_type": "code",
   "execution_count": 13,
   "metadata": {},
   "outputs": [],
   "source": [
    "def get_card_spend_dataframe():\n",
    "    # Headers (if required)\n",
    "    headers = {\n",
    "        'API-Key': RAIN_DEVELOPER_API_KEY,\n",
    "        'accept': 'application/json'\n",
    "    }\n",
    "\n",
    "    # Make the GET request\n",
    "    response = requests.get(RAIN_CARD_SPEND_ENDPOINT, headers=headers)\n",
    "\n",
    "    # Check if the request was successful\n",
    "    if response.status_code == 200:\n",
    "        # Process the response if successful\n",
    "        data = response.json()\n",
    "        print(data)\n",
    "    else:\n",
    "        # Handle errors (you can print or log the error response)\n",
    "        print(f\"Error: {response.status_code}\")\n",
    "\n",
    "    # create dataframe\n",
    "    df = pd.DataFrame([data])\n",
    "\n",
    "    # add date column\n",
    "    df.insert(0, 'date', current_date)\n",
    "\n",
    "\n",
    "    # drop dueBalance\n",
    "    df = df.drop(columns=['dueBalance'])\n",
    "    \n",
    "    # add totalBalance\n",
    "    df['totalBalance'] = df['pendingBalance'] + df['postedBalance']\n",
    "    \n",
    "    return df"
   ]
  },
  {
   "cell_type": "code",
   "execution_count": 14,
   "metadata": {},
   "outputs": [
    {
     "name": "stdout",
     "output_type": "stream",
     "text": [
      "{'pendingBalance': 3993333, 'postedBalance': 22975207, 'dueBalance': 0}\n"
     ]
    }
   ],
   "source": [
    "latest_card_spend_df = get_card_spend_dataframe()"
   ]
  }
 ],
 "metadata": {
  "kernelspec": {
   "display_name": "venv",
   "language": "python",
   "name": "python3"
  },
  "language_info": {
   "codemirror_mode": {
    "name": "ipython",
    "version": 3
   },
   "file_extension": ".py",
   "mimetype": "text/x-python",
   "name": "python",
   "nbconvert_exporter": "python",
   "pygments_lexer": "ipython3",
   "version": "3.12.1"
  }
 },
 "nbformat": 4,
 "nbformat_minor": 2
}
