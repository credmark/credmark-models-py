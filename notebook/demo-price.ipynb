{
 "cells": [
  {
   "cell_type": "markdown",
   "id": "3d5eec77",
   "metadata": {},
   "source": [
    "# Credmark Modeling Framework Example for Jupyter notebook\n",
    "## Price model\n",
    "\n",
    "version: 2022.6.12"
   ]
  },
  {
   "cell_type": "code",
   "execution_count": 2,
   "id": "b77380ae-0c7d-4db5-84f9-3670ec85d744",
   "metadata": {},
   "outputs": [],
   "source": [
    "from credmark.cmf.engine.model_loader import ModelLoader\n",
    "from credmark.cmf.engine.context import EngineModelContext\n",
    "\n",
    "from credmark.dto import EmptyInput\n",
    "\n",
    "from credmark.cmf.types import Contract, Token\n",
    "\n",
    "from credmark.cmf.types.ledger import (\n",
    "    BlockTable, ContractTable,\n",
    "    LogTable, ReceiptTable, TokenTable, TokenTransferTable,\n",
    "    TraceTable, TransactionTable, LedgerTable,\n",
    "    LedgerAggregate, LedgerModelOutput\n",
    ")\n",
    "import sys\n",
    "sys.tracebacklimit=0"
   ]
  },
  {
   "cell_type": "markdown",
   "id": "d40edc98",
   "metadata": {},
   "source": [
    "## Initialize\n",
    "\n",
    "<div class=\"alert alert-block alert-info\">\n",
    "    <b>Note:</b> Change to a web3 provider you have in `params`/`chain_to_provider_url` below.\n",
    "</div>"
   ]
  },
  {
   "cell_type": "code",
   "execution_count": 8,
   "id": "84d69de1-3bbc-4677-9936-10e4085508c2",
   "metadata": {},
   "outputs": [],
   "source": [
    "model_loader = ModelLoader(['../models'], None, True)\n",
    "\n",
    "params = {'chain_id': 1,\n",
    "          'block_number': None,\n",
    "          'model_loader': model_loader,\n",
    "          'chain_to_provider_url': {'1': 'http://192.168.68.122:10444'},\n",
    "          'api_url': None,\n",
    "          'run_id': None,\n",
    "          'console': True,\n",
    "          'use_local_models': None # Or, '*', or '-', or 'model_to_be_run_locally'\n",
    "         }\n",
    "context = EngineModelContext.create_context(**params)"
   ]
  },
  {
   "cell_type": "markdown",
   "id": "cee56038",
   "metadata": {},
   "source": [
    "## Launch Price model"
   ]
  },
  {
   "cell_type": "code",
   "execution_count": 10,
   "id": "5e37f678-bd93-4403-acce-b11bd8148e96",
   "metadata": {},
   "outputs": [
    {
     "name": "stdout",
     "output_type": "stream",
     "text": [
      "{'symbol': 'ETH'}/{'symbol': 'ETH'}: 1.0\n",
      "{'symbol': 'ETH'}/{'symbol': 'USD'}: 1125.21\n",
      "{'symbol': 'ETH'}/{'symbol': 'GBP'}: 917.3406163378446\n",
      "{'symbol': 'ETH'}/{'symbol': 'CNY'}: 7518.542276390169\n",
      "{'symbol': 'CNY'}/{'symbol': 'ETH'}: 0.00013300450582557925\n",
      "{'symbol': 'USD'}/{'symbol': 'ETH'}: 0.0008887229939300219\n",
      "{'symbol': 'GBP'}/{'symbol': 'ETH'}: 0.001090107624354565\n",
      "{'symbol': 'BTC'}/{'symbol': 'CNY'}: 139452.8409761055\n",
      "{'address': '0x767FE9EDC9E0dF98E07454847909b5E959D7ca0E'}/{'symbol': 'USD'}: 166.88537768738766\n",
      "{'symbol': 'JPY'}/{'address': '0x767FE9EDC9E0dF98E07454847909b5E959D7ca0E'}: 4.3895217792670765e-05\n",
      "{'address': '0x767FE9EDC9E0dF98E07454847909b5E959D7ca0E'}/{'symbol': 'JPY'}: 22781.524965276993\n",
      "{'symbol': 'JPY'}/{'address': '0x85f138bfEE4ef8e540890CFb48F620571d67Eda3'}: 0.00043189324485853187\n",
      "{'symbol': 'USD'}/{'address': '0x85f138bfEE4ef8e540890CFb48F620571d67Eda3'}: 0.058957752179523204\n",
      "{'address': '0x85f138bfEE4ef8e540890CFb48F620571d67Eda3'}/{'symbol': 'USD'}: 16.96129793\n",
      "{'address': '0x85f138bfEE4ef8e540890CFb48F620571d67Eda3'}/{'symbol': 'JPY'}: 2315.386989503745\n",
      "{'symbol': 'JPY'}/{'address': '0x85f138bfEE4ef8e540890CFb48F620571d67Eda3'}: 0.00043189324485853187\n",
      "{'symbol': 'CNY'}/address='0xa0b86991c6218b36c1d19d4a2e9eb0ce3606eb48': 0.1494698356122836\n",
      "address='0x6b175474e89094c44da98b954eedeac495271d0f'/{'symbol': 'CNY'}: 6.654072632261839\n",
      "{'symbol': 'ETH'}/{'address': '0xc00e94Cb662C3520282E6f5717214004A7f26888'}: 28.16462199021584\n",
      "{'symbol': 'CNY'}/{'address': '0xc00e94Cb662C3520282E6f5717214004A7f26888'}: 0.0037460216295729\n",
      "{'address': '0xc00e94Cb662C3520282E6f5717214004A7f26888'}/{'symbol': 'CNY'}: 266.94987346189305\n",
      "{'symbol': 'CNY'}/{'address': '0x767FE9EDC9E0dF98E07454847909b5E959D7ca0E'}: 0.0008967711975362021\n",
      "{'address': '0x767FE9EDC9E0dF98E07454847909b5E959D7ca0E'}/{'symbol': 'CNY'}: 1115.1116391197775\n"
     ]
    }
   ],
   "source": [
    "test_cases = [\n",
    "    {'base': {'symbol': 'ETH'}, 'quote': {'symbol': 'ETH'}},\n",
    "    {'base': {'symbol': 'ETH'}, 'quote': {'symbol': 'USD'}},\n",
    "    {'base': {'symbol': 'ETH'}, 'quote': {'symbol': 'GBP'}},\n",
    "    {'base': {'symbol': 'ETH'}, 'quote': {'symbol': 'CNY'}},\n",
    "    {'base': {'symbol': 'CNY'}, 'quote': {'symbol': 'ETH'}},    \n",
    "    {'base': {'symbol': 'USD'}, 'quote': {'symbol': 'ETH'}},\n",
    "    {'base': {'symbol': 'GBP'}, 'quote': {'symbol': 'ETH'}},\n",
    "    {'base': {'symbol': 'BTC'}, 'quote': {'symbol': 'CNY'}},\n",
    "    {'base': {'address':'0x767FE9EDC9E0dF98E07454847909b5E959D7ca0E'}, 'quote': {'symbol': 'USD'}}, # ILV\n",
    "    {'base': {'symbol': 'JPY'}, 'quote': {'address':'0x767FE9EDC9E0dF98E07454847909b5E959D7ca0E'}},\n",
    "    {'quote': {'symbol': 'JPY'}, 'base': {'address':'0x767FE9EDC9E0dF98E07454847909b5E959D7ca0E'}},\n",
    "    {'base': {'symbol': 'JPY'}, 'quote': {'address':'0x85f138bfEE4ef8e540890CFb48F620571d67Eda3'}}, # WAVAX\n",
    "    {'base': {'symbol': 'USD'}, 'quote': {'address':'0x85f138bfEE4ef8e540890CFb48F620571d67Eda3'}},\n",
    "    {'quote': {'symbol': 'USD'}, 'base': {'address':'0x85f138bfEE4ef8e540890CFb48F620571d67Eda3'}},\n",
    "    {'quote': {'symbol': 'JPY'}, 'base': {'address':'0x85f138bfEE4ef8e540890CFb48F620571d67Eda3'}},\n",
    "    {'base': {'symbol': 'JPY'}, 'quote': {'address':'0x85f138bfEE4ef8e540890CFb48F620571d67Eda3'}},\n",
    "    {'base': {'symbol': 'CNY'}, 'quote': Token(symbol='USDC')},\n",
    "    {'quote': {'symbol': 'CNY'}, 'base': Token(symbol='DAI')},\n",
    "    {'base': {'symbol': 'ETH'}, 'quote': {'address':'0xc00e94Cb662C3520282E6f5717214004A7f26888'}}, # COMP\n",
    "    {'base': {'symbol': 'CNY'}, 'quote': {'address':'0xc00e94Cb662C3520282E6f5717214004A7f26888'}},\n",
    "    {'quote': {'symbol': 'CNY'}, 'base': {'address':'0xc00e94Cb662C3520282E6f5717214004A7f26888'}},\n",
    "    {'base': {'symbol': 'CNY'}, 'quote': {'address':'0x767FE9EDC9E0dF98E07454847909b5E959D7ca0E'}}, # ILV\n",
    "    {'quote': {'symbol': 'CNY'}, 'base': {'address':'0x767FE9EDC9E0dF98E07454847909b5E959D7ca0E'}},\n",
    "]\n",
    "\n",
    "for case in test_cases:\n",
    "    price = context.models.price.oracle_chainlink(case)\n",
    "    print(f\"{case['base']}/{case['quote']}: {price['price']}\")"
   ]
  }
 ],
 "metadata": {
  "kernelspec": {
   "display_name": "Python 3.9.13 ('dev')",
   "language": "python",
   "name": "python3"
  },
  "language_info": {
   "codemirror_mode": {
    "name": "ipython",
    "version": 3
   },
   "file_extension": ".py",
   "mimetype": "text/x-python",
   "name": "python",
   "nbconvert_exporter": "python",
   "pygments_lexer": "ipython3",
   "version": "3.9.13"
  },
  "vscode": {
   "interpreter": {
    "hash": "4e8d8e469b0d4611f4360f3c36fd48638844fb732162b2ab78008124a5d83b43"
   }
  }
 },
 "nbformat": 4,
 "nbformat_minor": 5
}
