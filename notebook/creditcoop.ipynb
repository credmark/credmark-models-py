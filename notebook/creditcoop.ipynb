{
 "cells": [
  {
   "cell_type": "code",
   "execution_count": 2,
   "metadata": {},
   "outputs": [],
   "source": [
    "from credmark.cmf.ipython import create_cmf\n",
    "from credmark.cmf.types import Token, Contract, Address, Account, BlockNumber, Records, JoinType \n",
    "from models.tmp_abi_lookup import RAIN_LOC\n",
    "\n",
    "\n",
    "cmf_param = {\n",
    "    'chain_id': 1,\n",
    "}\n",
    "\n",
    "context, _model_loader = create_cmf(cmf_param)"
   ]
  },
  {
   "cell_type": "code",
   "execution_count": 8,
   "metadata": {},
   "outputs": [
    {
     "name": "stdout",
     "output_type": "stream",
     "text": [
      "[600000000000, 600000000000, 5304585, 0, 6, '0xA0b86991c6218b36c1d19D4a2e9Eb0cE3606eB48', '0xb8dEF7C89A5ddC324Bd12A0F47CD1CF2063bf38e', True]\n"
     ]
    }
   ],
   "source": [
    "RainCCLoC = Contract('0xbf2d49ecfe657132f34863263d654d8e2eb1d72e').set_abi(RAIN_LOC, set_loaded=True)\n",
    "\n",
    "id = RainCCLoC.functions.ids(0).call()\n",
    "\n",
    "principal = RainCCLoC.functions.credits(id).call()\n",
    "\n",
    "print(principal)"
   ]
  }
 ],
 "metadata": {
  "kernelspec": {
   "display_name": "venv",
   "language": "python",
   "name": "python3"
  },
  "language_info": {
   "codemirror_mode": {
    "name": "ipython",
    "version": 3
   },
   "file_extension": ".py",
   "mimetype": "text/x-python",
   "name": "python",
   "nbconvert_exporter": "python",
   "pygments_lexer": "ipython3",
   "version": "3.12.1"
  }
 },
 "nbformat": 4,
 "nbformat_minor": 2
}
