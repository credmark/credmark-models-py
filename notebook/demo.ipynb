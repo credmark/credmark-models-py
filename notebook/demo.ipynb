{
 "cells": [
  {
   "cell_type": "code",
   "execution_count": 1,
   "id": "b77380ae-0c7d-4db5-84f9-3670ec85d744",
   "metadata": {},
   "outputs": [],
   "source": [
    "from credmark.cmf.engine.model_loader import ModelLoader\n",
    "from credmark.cmf.engine.context import EngineModelContext\n",
    "\n",
    "from credmark.dto import EmptyInput\n",
    "\n",
    "from credmark.cmf.types import Contract, Token\n",
    "\n",
    "from credmark.cmf.types.ledger import (\n",
    "    BlockTable, ContractTable,\n",
    "    LogTable, ReceiptTable, TokenTable, TokenTransferTable,\n",
    "    TraceTable, TransactionTable, LedgerTable,\n",
    "    LedgerAggregate, LedgerModelOutput\n",
    ")"
   ]
  },
  {
   "cell_type": "code",
   "execution_count": 2,
   "id": "84d69de1-3bbc-4677-9936-10e4085508c2",
   "metadata": {},
   "outputs": [],
   "source": [
    "model_loader = ModelLoader(['./models'], None, True)\n",
    "\n",
    "params = {'chain_id': 1,\n",
    "          'block_number': None,\n",
    "          'model_loader': model_loader,\n",
    "          'chain_to_provider_url': {'1': 'https://eth-mainnet.alchemyapi.io/v2/4HREehwJhXq-fkm1llCDGol-swXEXj0L'},\n",
    "          'api_url': None,\n",
    "          'run_id': None,\n",
    "          'console': True,\n",
    "         }\n",
    "context = EngineModelContext.create_context(**params)"
   ]
  },
  {
   "cell_type": "code",
   "execution_count": 3,
   "id": "510abfe5-9ad6-4ef7-82cf-d5deef3fa50c",
   "metadata": {},
   "outputs": [
    {
     "data": {
      "text/plain": [
       "14867620"
      ]
     },
     "execution_count": 3,
     "metadata": {},
     "output_type": "execute_result"
    }
   ],
   "source": [
    "context.block_number"
   ]
  },
  {
   "cell_type": "code",
   "execution_count": 4,
   "id": "b447b5f9-09ca-4213-acc9-6038bb58eda2",
   "metadata": {},
   "outputs": [
    {
     "data": {
      "text/plain": [
       "1"
      ]
     },
     "execution_count": 4,
     "metadata": {},
     "output_type": "execute_result"
    }
   ],
   "source": [
    "context.chain_id"
   ]
  },
  {
   "cell_type": "code",
   "execution_count": 5,
   "id": "f1ac9d76-3613-4baf-864a-74a6626dacc2",
   "metadata": {},
   "outputs": [
    {
     "data": {
      "text/plain": [
       "<web3.main.Web3 at 0x7f1b9bfb3c10>"
      ]
     },
     "execution_count": 5,
     "metadata": {},
     "output_type": "execute_result"
    }
   ],
   "source": [
    "context.web3"
   ]
  },
  {
   "cell_type": "code",
   "execution_count": 6,
   "id": "6f2fed1f-67e5-4d5e-888a-5e09ad637ff3",
   "metadata": {},
   "outputs": [
    {
     "data": {
      "text/plain": [
       "1790191567590102228"
      ]
     },
     "execution_count": 6,
     "metadata": {},
     "output_type": "execute_result"
    }
   ],
   "source": [
    "context.web3.eth.get_balance('0xd3CdA913deB6f67967B99D67aCDFa1712C293601')"
   ]
  },
  {
   "cell_type": "code",
   "execution_count": 7,
   "id": "de5b809b-da27-4dd2-801d-358e8d06423c",
   "metadata": {},
   "outputs": [
    {
     "name": "stdout",
     "output_type": "stream",
     "text": [
      "6\n"
     ]
    },
    {
     "data": {
      "text/plain": [
       "{'src': 'chainlink.price-by-registry|USDT / USD|0xa964273552C1dBa201f5f000215F5BD5576e8f93|v4|True|t:18662s|r:0',\n",
       " 'price': 0.9993}"
      ]
     },
     "execution_count": 7,
     "metadata": {},
     "output_type": "execute_result"
    }
   ],
   "source": [
    "usdt = Token(address='0xdAC17F958D2ee523a2206206994597C13D831ec7')\n",
    "print(usdt.decimals)\n",
    "context.run_model('chainlink.price-usd', input=usdt)"
   ]
  },
  {
   "cell_type": "code",
   "execution_count": 8,
   "id": "2d37ca30-ef03-4cf6-a8d0-dbcd03918fe4",
   "metadata": {},
   "outputs": [
    {
     "data": {
      "text/html": [
       "<div>\n",
       "<style scoped>\n",
       "    .dataframe tbody tr th:only-of-type {\n",
       "        vertical-align: middle;\n",
       "    }\n",
       "\n",
       "    .dataframe tbody tr th {\n",
       "        vertical-align: top;\n",
       "    }\n",
       "\n",
       "    .dataframe thead th {\n",
       "        text-align: right;\n",
       "    }\n",
       "</style>\n",
       "<table border=\"1\" class=\"dataframe\">\n",
       "  <thead>\n",
       "    <tr style=\"text-align: right;\">\n",
       "      <th></th>\n",
       "      <th>block_hash</th>\n",
       "      <th>from_address</th>\n",
       "      <th>to_address</th>\n",
       "      <th>value</th>\n",
       "    </tr>\n",
       "  </thead>\n",
       "  <tbody>\n",
       "    <tr>\n",
       "      <th>0</th>\n",
       "      <td>0xb7bf14ba8e4101a59a2116dd225e780593f823edf2ab...</td>\n",
       "      <td>0x4aa042f28ae6e3ee714d8e4435dc7110f7e3c3c7</td>\n",
       "      <td>0x3dd98c8a089dbcff7e8fc8d4f532bd493501ab7f</td>\n",
       "      <td>0</td>\n",
       "    </tr>\n",
       "    <tr>\n",
       "      <th>1</th>\n",
       "      <td>0xb7bf14ba8e4101a59a2116dd225e780593f823edf2ab...</td>\n",
       "      <td>0x30cb2c51fc4f031fa5f326d334e1f5da00e19ab5</td>\n",
       "      <td>0x1111111254fb6c44bac0bed2854e76f90643097d</td>\n",
       "      <td>0</td>\n",
       "    </tr>\n",
       "    <tr>\n",
       "      <th>2</th>\n",
       "      <td>0xb7bf14ba8e4101a59a2116dd225e780593f823edf2ab...</td>\n",
       "      <td>0xeb55a78c79b91719f6817855c5ad43a7aa0bf08c</td>\n",
       "      <td>0xdac17f958d2ee523a2206206994597c13d831ec7</td>\n",
       "      <td>0</td>\n",
       "    </tr>\n",
       "    <tr>\n",
       "      <th>3</th>\n",
       "      <td>0xb7bf14ba8e4101a59a2116dd225e780593f823edf2ab...</td>\n",
       "      <td>0x1840fa4d4e24fae28fcdf24157ea9af119fe999e</td>\n",
       "      <td>0x0039a4124f3917f4a93747d0ce43434a10fc70bb</td>\n",
       "      <td>213155603590621150</td>\n",
       "    </tr>\n",
       "    <tr>\n",
       "      <th>4</th>\n",
       "      <td>0xb7bf14ba8e4101a59a2116dd225e780593f823edf2ab...</td>\n",
       "      <td>0xa7efae728d2936e78bda97dc267687568dd593f3</td>\n",
       "      <td>0x268eaa7fdc3e879d11380176c4c1f16f5b25d999</td>\n",
       "      <td>198930000000000000</td>\n",
       "    </tr>\n",
       "  </tbody>\n",
       "</table>\n",
       "</div>"
      ],
      "text/plain": [
       "                                          block_hash  \\\n",
       "0  0xb7bf14ba8e4101a59a2116dd225e780593f823edf2ab...   \n",
       "1  0xb7bf14ba8e4101a59a2116dd225e780593f823edf2ab...   \n",
       "2  0xb7bf14ba8e4101a59a2116dd225e780593f823edf2ab...   \n",
       "3  0xb7bf14ba8e4101a59a2116dd225e780593f823edf2ab...   \n",
       "4  0xb7bf14ba8e4101a59a2116dd225e780593f823edf2ab...   \n",
       "\n",
       "                                 from_address  \\\n",
       "0  0x4aa042f28ae6e3ee714d8e4435dc7110f7e3c3c7   \n",
       "1  0x30cb2c51fc4f031fa5f326d334e1f5da00e19ab5   \n",
       "2  0xeb55a78c79b91719f6817855c5ad43a7aa0bf08c   \n",
       "3  0x1840fa4d4e24fae28fcdf24157ea9af119fe999e   \n",
       "4  0xa7efae728d2936e78bda97dc267687568dd593f3   \n",
       "\n",
       "                                   to_address               value  \n",
       "0  0x3dd98c8a089dbcff7e8fc8d4f532bd493501ab7f                   0  \n",
       "1  0x1111111254fb6c44bac0bed2854e76f90643097d                   0  \n",
       "2  0xdac17f958d2ee523a2206206994597c13d831ec7                   0  \n",
       "3  0x0039a4124f3917f4a93747d0ce43434a10fc70bb  213155603590621150  \n",
       "4  0x268eaa7fdc3e879d11380176c4c1f16f5b25d999  198930000000000000  "
      ]
     },
     "execution_count": 8,
     "metadata": {},
     "output_type": "execute_result"
    }
   ],
   "source": [
    "(context.ledger.get_transactions(columns=[TransactionTable.Columns.BLOCK_HASH,\n",
    "                                          TransactionTable.Columns.FROM_ADDRESS,\n",
    "                                          TransactionTable.Columns.TO_ADDRESS,\n",
    "                                          TransactionTable.Columns.VALUE],\n",
    "                                 where=f'{TransactionTable.Columns.BLOCK_NUMBER} = 14861063',\n",
    "                                 order_by=TransactionTable.Columns.BLOCK_TIMESTAMP,\n",
    "                                 limit='5')\n",
    " .to_dataframe())"
   ]
  },
  {
   "cell_type": "code",
   "execution_count": null,
   "id": "d891dcf7-a560-4728-96c1-9a96624ca9c2",
   "metadata": {},
   "outputs": [],
   "source": []
  }
 ],
 "metadata": {
  "kernelspec": {
   "display_name": "Python [conda env:cmk310] *",
   "language": "python",
   "name": "conda-env-cmk310-py"
  },
  "language_info": {
   "codemirror_mode": {
    "name": "ipython",
    "version": 3
   },
   "file_extension": ".py",
   "mimetype": "text/x-python",
   "name": "python",
   "nbconvert_exporter": "python",
   "pygments_lexer": "ipython3",
   "version": "3.10.4"
  }
 },
 "nbformat": 4,
 "nbformat_minor": 5
}
