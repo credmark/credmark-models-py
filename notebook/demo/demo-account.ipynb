{
 "cells": [
  {
   "cell_type": "markdown",
   "id": "9cbc2502-2aad-42ec-8728-25a0acae36e3",
   "metadata": {},
   "source": [
    "# Credmark Modeling Framework Example for Jupyter notebook\n",
    "## Account - Tokens\n",
    "\n",
    "version: 2022.6.23"
   ]
  },
  {
   "cell_type": "code",
   "execution_count": null,
   "id": "b77380ae-0c7d-4db5-84f9-3670ec85d744",
   "metadata": {},
   "outputs": [],
   "source": [
    "from credmark.cmf.engine.model_loader import ModelLoader\n",
    "from credmark.cmf.engine.context import EngineModelContext\n",
    "\n",
    "from credmark.dto import *\n",
    "from credmark.cmf.types import *\n",
    "\n",
    "from credmark.cmf.engine.dev_models.console import get_dt, get_block, log_output"
   ]
  },
  {
   "cell_type": "markdown",
   "id": "e24ac2e5-dc6f-42eb-9137-0252d7fc296a",
   "metadata": {},
   "source": [
    "## Initialize\n",
    "\n",
    "<div class=\"alert alert-block alert-info\">\n",
    "    <b>Note:</b> Change to a web3 provider you have in `params` below.\n",
    "</div>"
   ]
  },
  {
   "cell_type": "code",
   "execution_count": null,
   "id": "84d69de1-3bbc-4677-9936-10e4085508c2",
   "metadata": {},
   "outputs": [],
   "source": [
    "model_loader = ModelLoader(['../models'], None, True)\n",
    "\n",
    "params = {'chain_id': 1,\n",
    "          'block_number': None,\n",
    "          'model_loader': model_loader,\n",
    "          'chain_to_provider_url': {'1': 'http://192.168.68.122:10444'},\n",
    "          'api_url': None,\n",
    "          'run_id': None,\n",
    "          'console': True,\n",
    "          'use_local_models': '*' # '*' # 'token.price'\n",
    "         }\n",
    "context = EngineModelContext.create_context(**params)\n",
    "\n",
    "ledger = context.ledger\n",
    "run_model = context.run_model\n",
    "models = context.models\n",
    "block_number = context.block_number\n",
    "chain_id = context.chain_id\n",
    "web3 = context.web3\n",
    "run_model_historical = context.historical.run_model_historical\n",
    "run_model_historical_blocks = context.historical.run_model_historical_blocks"
   ]
  },
  {
   "cell_type": "markdown",
   "id": "74ffff12-65e9-4f66-b35c-6de035996aff",
   "metadata": {},
   "source": [
    "## Convex Token"
   ]
  },
  {
   "cell_type": "code",
   "execution_count": null,
   "id": "fc378667-c84e-4027-ad58-0786b6bd47d7",
   "metadata": {},
   "outputs": [],
   "source": [
    "convex_token = Token(address='0x4e3FBD56CD56c3e72c1403e103b45Db9da5B9D2B')\n",
    "\n",
    "with context.ledger.TokenTransfer as q:\n",
    "    df_convex = (q.select(\n",
    "        columns=[q.BLOCK_NUMBER,\n",
    "                 q.LOG_INDEX,\n",
    "                 q.TO_ADDRESS,\n",
    "                q.FROM_ADDRESS,\n",
    "                q.TOKEN_ADDRESS],\n",
    "        where=q.TOKEN_ADDRESS.eq(convex_token.address),\n",
    ").to_dataframe().sort_values(['block_number', 'log_index']))\n",
    "df_convex"
   ]
  },
  {
   "cell_type": "markdown",
   "id": "87a47f0b-fb44-46e7-9a90-6cc2f910f854",
   "metadata": {},
   "source": [
    "## Account"
   ]
  },
  {
   "cell_type": "code",
   "execution_count": null,
   "id": "8585a153-191f-4f18-bd24-06756640f27a",
   "metadata": {},
   "outputs": [],
   "source": [
    "acc_1 = Account(address=Address('0x5291fBB0ee9F51225f0928Ff6a83108c86327636'))"
   ]
  },
  {
   "cell_type": "markdown",
   "id": "b2eb9823-da54-439c-b871-8be6235729c5",
   "metadata": {},
   "source": [
    "### Tokens that have been owned by the account"
   ]
  },
  {
   "cell_type": "code",
   "execution_count": null,
   "id": "22a2e12e-1bce-4d6e-8dfc-3ca996dbce10",
   "metadata": {},
   "outputs": [],
   "source": [
    "with context.ledger.TokenBalance as q:\n",
    "    df_balance = q.select(\n",
    "    where=q.ADDRESS.eq(acc_1.address),\n",
    "    group_by=[q.TOKEN_ADDRESS]\n",
    "    ).to_dataframe()\n",
    "\n",
    "df_balance"
   ]
  },
  {
   "cell_type": "markdown",
   "id": "b1ed3315-dfa1-4e57-ac3a-d3ab27668339",
   "metadata": {},
   "source": [
    "### Token Transfers for this account"
   ]
  },
  {
   "cell_type": "code",
   "execution_count": null,
   "id": "e6c4aa88-75f2-449a-8220-36c0122253be",
   "metadata": {},
   "outputs": [],
   "source": [
    "with context.ledger.TokenTransfer as q:\n",
    "       group_cols = [q.BLOCK_NUMBER,\n",
    "                     q.LOG_INDEX,\n",
    "                     q.TO_ADDRESS,\n",
    "                     q.FROM_ADDRESS,\n",
    "                     q.TRANSACTION_HASH,\n",
    "                     q.TOKEN_ADDRESS]\n",
    "\n",
    "       df_tt = (q.select(\n",
    "                     aggregates=[\n",
    "                            (f'sum(case when {q.TO_ADDRESS.eq(acc_1.address)} THEN {q.VALUE} else -{q.VALUE} END)',\n",
    "                            'sum_value')],\n",
    "                     where=(q.TO_ADDRESS.eq(acc_1.address).or_(q.FROM_ADDRESS.eq(acc_1.address))),\n",
    "                     group_by=group_cols\n",
    "                     )\n",
    "                 .to_dataframe()\n",
    "              .sort_values(['block_number', 'log_index']).reset_index())\n",
    "\n",
    "df_tt"
   ]
  },
  {
   "cell_type": "markdown",
   "id": "c2107e91-696e-4c18-b0c8-2871ff3637bb",
   "metadata": {},
   "source": [
    "### The Tokens"
   ]
  },
  {
   "cell_type": "code",
   "execution_count": null,
   "id": "e1ce179e-1c3e-4337-b368-9649bff062ed",
   "metadata": {},
   "outputs": [],
   "source": [
    "wBTC = Token(address='0x2260fac5e5542a773aa44fbcfedf7c193bc2c599')\n",
    "wBTC.scaled(748139023)\n",
    "\n",
    "renBTC = Token(address='0xeb4c2781e4eba804ce9a9803c67d0893436bb27d')\n",
    "renBTC\n",
    "\n",
    "t1 = Token(address='0xdac17f958d2ee523a2206206994597c13d831ec7')\n",
    "t2 = Token(address='0x2260fac5e5542a773aa44fbcfedf7c193bc2c599')\n",
    "t3 = Token(address='0xc02aaa39b223fe8d0a0e5c4f27ead9083c756cc2')"
   ]
  },
  {
   "cell_type": "code",
   "execution_count": null,
   "id": "70923cff-42da-4361-8272-2e67c6798dd4",
   "metadata": {},
   "outputs": [],
   "source": [
    "curve_usd_btc_eth = Token(address='0xc4ad29ba4b3c580e6d59105fff484999997675ff')\n",
    "print(curve_usd_btc_eth.balance_of(acc_1.address))\n",
    "\n",
    "ve_crv = Token(address='0x5f3b5DfEb7B28CDbD7FAba78963EE202a494e2A2')\n",
    "print(ve_crv.balance_of(acc_1.address))\n",
    "print(ve_crv.functions.locked(acc_1.address).call())\n",
    "\n",
    "convex_voter_proxy = Contract(address='0x989AEb4d175e16225E39E87d0D97A3360524AD80')\n",
    "convex_voter_proxy.abi.functions"
   ]
  },
  {
   "cell_type": "code",
   "execution_count": null,
   "id": "b9ebea19-4f8c-4252-a477-59c318f94f0d",
   "metadata": {},
   "outputs": [],
   "source": [
    "from decimal import Decimal\n",
    "pos_dict = {}\n",
    "for n, r in df_tt.iterrows():\n",
    "    tok_address = r['token_address']\n",
    "    value = r['sum_value']\n",
    "    pos_dict[tok_address] = pos_dict.get(tok_address, Decimal(0)) + Decimal(value)\n",
    "    if pos_dict[tok_address] == 0:\n",
    "        tok = Token(address=tok_address)\n",
    "        print(tok.symbol, tok_address)\n",
    "        del pos_dict[tok_address]\n",
    "\n",
    "display(pos_dict)\n",
    "\n",
    "token_dict = {}\n",
    "for tok_address, amount in pos_dict.items():\n",
    "    tok = Token(address=tok_address)\n",
    "    token_dict[tok_address] = tok\n",
    "    pos_dict[tok_address] = tok.scaled(amount)\n",
    "\n",
    "pos_dict"
   ]
  },
  {
   "cell_type": "markdown",
   "id": "eeaad59b-559b-4619-8339-8a242353525d",
   "metadata": {},
   "source": [
    "### Curve Pool"
   ]
  },
  {
   "cell_type": "code",
   "execution_count": null,
   "id": "d09dcd97-6dd7-4d2e-a11a-c9802bd4bb73",
   "metadata": {},
   "outputs": [],
   "source": [
    "pool_info = context.models.curve_fi.pool_info(address='0xc4ad29ba4b3c580e6d59105fff484999997675ff')\n",
    "pool_info = context.models.curve_fi.pool_info(address=pool_info['address'])\n",
    "pool_info"
   ]
  },
  {
   "cell_type": "code",
   "execution_count": null,
   "id": "f88f7068-654f-45bd-b285-78c5914f546b",
   "metadata": {},
   "outputs": [],
   "source": [
    "pool = Contract(address='0xd51a44d3fae010294c616388b506acda1bfaae46')\n",
    "b1,b2,b3=(pool.functions.balances(0).call(),\n",
    "          pool.functions.balances(1).call(),\n",
    "          pool.functions.balances(2).call())\n",
    "pool"
   ]
  },
  {
   "cell_type": "code",
   "execution_count": null,
   "id": "234a5cfa-d6ef-4193-8dd9-210c88872fd4",
   "metadata": {},
   "outputs": [],
   "source": [
    "cc = Contract(address=pool_info['gauges']['accounts'][0]['address'])\n",
    "print(cc.functions.balanceOf(acc_1.address.checksum).call())\n",
    "print(cc.functions.working_balances(acc_1.address.checksum).call())\n",
    "print(cc.functions.claimable_tokens(acc_1.address.checksum).call())"
   ]
  }
 ],
 "metadata": {
  "kernelspec": {
   "display_name": "Python 3.10.5 ('cmk310')",
   "language": "python",
   "name": "python3"
  },
  "language_info": {
   "codemirror_mode": {
    "name": "ipython",
    "version": 3
   },
   "file_extension": ".py",
   "mimetype": "text/x-python",
   "name": "python",
   "nbconvert_exporter": "python",
   "pygments_lexer": "ipython3",
   "version": "3.10.5"
  },
  "vscode": {
   "interpreter": {
    "hash": "ef3060a66f05e685ce670116a67026aba95afdffb2461d829b3351d07ec51c58"
   }
  }
 },
 "nbformat": 4,
 "nbformat_minor": 5
}
