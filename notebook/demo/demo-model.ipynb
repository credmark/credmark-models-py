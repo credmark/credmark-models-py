{
 "cells": [
  {
   "cell_type": "markdown",
   "id": "e9f323ca",
   "metadata": {},
   "source": [
    "# Credmark Modeling Framework Example for Jupyter notebook\n",
    "## Load/Create/Reload Model\n",
    "\n",
    "version: 2022.6.12"
   ]
  },
  {
   "cell_type": "code",
   "execution_count": null,
   "id": "b77380ae-0c7d-4db5-84f9-3670ec85d744",
   "metadata": {},
   "outputs": [],
   "source": [
    "from credmark.cmf.engine.model_loader import ModelLoader\n",
    "from credmark.cmf.engine.context import EngineModelContext\n",
    "\n",
    "from credmark.dto import *\n",
    "from credmark.cmf.types import *\n",
    "\n",
    "from credmark.cmf.engine.dev_models.console import get_dt, get_block, log_output"
   ]
  },
  {
   "cell_type": "markdown",
   "id": "5ce597d2",
   "metadata": {},
   "source": [
    "## Initialize\n",
    "\n",
    "<div class=\"alert alert-block alert-info\">\n",
    "    <b>Note:</b> Change to a web3 provider you have in `params`/`chain_to_provider_url` below.\n",
    "</div>"
   ]
  },
  {
   "cell_type": "code",
   "execution_count": null,
   "id": "84d69de1-3bbc-4677-9936-10e4085508c2",
   "metadata": {},
   "outputs": [],
   "source": [
    "model_loader = ModelLoader(['../models'], None, True)\n",
    "\n",
    "params = {'chain_id': 1,\n",
    "          'block_number': 14911537,\n",
    "          'model_loader': model_loader,\n",
    "          'chain_to_provider_url': {'1': 'http://192.168.68.122:10444'},\n",
    "          'api_url': None,\n",
    "          'run_id': None,\n",
    "          'console': True,\n",
    "          'use_local_models': None # Or, '*', or '-', or 'model_to_be_run_locally'\n",
    "         }\n",
    "context = EngineModelContext.create_context(**params)"
   ]
  },
  {
   "cell_type": "markdown",
   "id": "84361438-4615-4802-97f7-65da9bd7fed7",
   "metadata": {},
   "source": [
    "### 1. Reload model\n",
    "\n",
    "If we made changes to models on disk in the `models` directory, we can call `context.reload_model()` to refresh the cache."
   ]
  },
  {
   "cell_type": "code",
   "execution_count": null,
   "id": "3023b850-60fd-4162-a3b8-ffb6a4b1b7a8",
   "metadata": {},
   "outputs": [],
   "source": [
    "context.reload_model()"
   ]
  },
  {
   "cell_type": "markdown",
   "id": "37ddb448-0246-41b5-b241-769d237aa42e",
   "metadata": {},
   "source": [
    "### 2. Define/Add/Remove/Replace model on-the-fly"
   ]
  },
  {
   "cell_type": "markdown",
   "id": "cb5b12f3-ce10-4e84-8a6f-0c0a12bb89e8",
   "metadata": {},
   "source": [
    "1. Define the model with a class for BTC/USD feed"
   ]
  },
  {
   "cell_type": "code",
   "execution_count": null,
   "id": "6c4a9f77-14e7-49c8-b5c0-153598da1ebb",
   "metadata": {},
   "outputs": [],
   "source": [
    "from credmark.cmf.model import Model\n",
    "from credmark.cmf.model.errors import ModelDataError, ModelRunError"
   ]
  },
  {
   "cell_type": "code",
   "execution_count": null,
   "id": "6c2ff623-335d-4ee5-b1c2-f7a4e8dd8e86",
   "metadata": {},
   "outputs": [],
   "source": [
    "@Model.describe(\n",
    "    slug='jit.feed',\n",
    "    version='1.0',\n",
    "    input=EmptyInput,\n",
    "    output=dict)\n",
    "class JitFeed(Model):\n",
    "    def run(self, input):\n",
    "        feedreg = self.context.models.chainlink.get_feed_registry(return_type=Contract)\n",
    "        feed = feedreg.functions.getFeed(Address('0xbBbBBBBbbBBBbbbBbbBbbbbBBbBbbbbBbBbbBBbB'),\n",
    "                                         Address('0x0000000000000000000000000000000000000348')).call()\n",
    "        return {'feed': feed}"
   ]
  },
  {
   "cell_type": "markdown",
   "id": "6e8654ac-e0c1-4021-8be3-0491df050f32",
   "metadata": {},
   "source": [
    "2. Add/Run/Remove the model\n",
    "\n",
    "- add model, `context.add_model(mclass)`\n",
    "- remove model, `context.remove_model_by_slug(model_slug)`"
   ]
  },
  {
   "cell_type": "code",
   "execution_count": null,
   "id": "2bfcbcb3-efdb-4f66-b1c8-369ea56452b3",
   "metadata": {},
   "outputs": [],
   "source": [
    "context.add_model(JitFeed)\n",
    "\n",
    "# Check whether the model has been loaded\n",
    "'jit.feed' in model_loader.loaded_model_version_lists()"
   ]
  },
  {
   "cell_type": "code",
   "execution_count": null,
   "id": "f032d84f-0742-4146-a340-5edb4db90937",
   "metadata": {},
   "outputs": [],
   "source": [
    "context.models.jit.feed?"
   ]
  },
  {
   "cell_type": "code",
   "execution_count": null,
   "id": "d07f5086-be60-46d9-b60d-db04e4fc6858",
   "metadata": {},
   "outputs": [],
   "source": [
    "context.models.jit.feed()"
   ]
  },
  {
   "cell_type": "code",
   "execution_count": null,
   "id": "be4a9098-3187-42b3-811a-d5656d548b49",
   "metadata": {},
   "outputs": [],
   "source": [
    "context.remove_model_by_slug('jit.feed')"
   ]
  },
  {
   "cell_type": "code",
   "execution_count": null,
   "id": "9027a34b-4b57-455c-9b5d-e53f6e79312a",
   "metadata": {},
   "outputs": [],
   "source": [
    "'jit.feed' in model_loader.loaded_model_version_lists()"
   ]
  },
  {
   "cell_type": "markdown",
   "id": "074bd734-0d6a-4920-a8f9-6b9850113fca",
   "metadata": {},
   "source": [
    "3. Update the model to ETH/USD feed and again"
   ]
  },
  {
   "cell_type": "code",
   "execution_count": null,
   "id": "adfdbc8b-fc4b-4ae7-83ad-42fee4477b68",
   "metadata": {},
   "outputs": [],
   "source": [
    "@Model.describe(\n",
    "    slug='jit.feed',\n",
    "    version='1.0',\n",
    "    input=EmptyInput,\n",
    "    output=dict)\n",
    "class JitFeed(Model):\n",
    "    def run(self, input):\n",
    "        feedreg = self.context.models.chainlink.get_feed_registry(return_type=Contract)\n",
    "        feed = feedreg.functions.getFeed(Address('0xeeeeeeeeeeeeeeeeeeeeeeeeeeeeeeeeeeeeeeee'),\n",
    "                                         Address('0x0000000000000000000000000000000000000348')).call()\n",
    "        return {'feed': feed}"
   ]
  },
  {
   "cell_type": "code",
   "execution_count": null,
   "id": "b001758b-17d5-4205-ae31-32dc33775e62",
   "metadata": {},
   "outputs": [],
   "source": [
    "context.add_model(JitFeed)"
   ]
  },
  {
   "cell_type": "code",
   "execution_count": null,
   "id": "9d003086-7391-4f53-8731-4c5992ad6860",
   "metadata": {},
   "outputs": [],
   "source": [
    "context.models.jit.feed()"
   ]
  },
  {
   "cell_type": "markdown",
   "id": "3d4cee28-f2ba-4fbe-a4f4-56ba3fb7e168",
   "metadata": {},
   "source": [
    "4. Add another model by using the previously-defined `jit.feed` model"
   ]
  },
  {
   "cell_type": "code",
   "execution_count": null,
   "id": "5a9b8282-7972-4cc7-9940-4af43df38057",
   "metadata": {},
   "outputs": [],
   "source": [
    "@Model.describe(\n",
    "    slug='jit.feed-price',\n",
    "    version='1.0',\n",
    "    input=EmptyInput,\n",
    "    output=dict)\n",
    "class JitFeedWithPrice(Model):\n",
    "    def run(self, input):\n",
    "        feed = self.context.models.jit.feed(input)['feed']\n",
    "        cc = Contract(address=Address(feed))\n",
    "        price = self.context.models.chainlink.price_by_feed(cc, return_type=Price).price\n",
    "        return {'price': price}"
   ]
  },
  {
   "cell_type": "code",
   "execution_count": null,
   "id": "dd3c1888-4b10-40e6-aae5-fcb001ead9db",
   "metadata": {},
   "outputs": [],
   "source": [
    "context.add_model(JitFeedWithPrice)"
   ]
  },
  {
   "cell_type": "code",
   "execution_count": null,
   "id": "ebfaf714-eb1b-48be-9ed8-d5ebd8c9cb8c",
   "metadata": {},
   "outputs": [],
   "source": [
    "context.models(get_block(get_dt(2021, 7, 28))).jit.feed_price()"
   ]
  },
  {
   "cell_type": "code",
   "execution_count": null,
   "id": "f02fe79f-8456-4e7b-a5cc-ca8392415e6e",
   "metadata": {},
   "outputs": [],
   "source": [
    "context.models(get_block(get_dt(2021, 7, 28))).jit.feed()"
   ]
  },
  {
   "cell_type": "code",
   "execution_count": null,
   "id": "70853caf-7a79-4311-b956-a6e6722542d8",
   "metadata": {},
   "outputs": [],
   "source": []
  }
 ],
 "metadata": {
  "kernelspec": {
   "display_name": "Python 3.9.13 ('dev')",
   "language": "python",
   "name": "python3"
  },
  "language_info": {
   "codemirror_mode": {
    "name": "ipython",
    "version": 3
   },
   "file_extension": ".py",
   "mimetype": "text/x-python",
   "name": "python",
   "nbconvert_exporter": "python",
   "pygments_lexer": "ipython3",
   "version": "3.9.13"
  },
  "vscode": {
   "interpreter": {
    "hash": "4e8d8e469b0d4611f4360f3c36fd48638844fb732162b2ab78008124a5d83b43"
   }
  }
 },
 "nbformat": 4,
 "nbformat_minor": 5
}
