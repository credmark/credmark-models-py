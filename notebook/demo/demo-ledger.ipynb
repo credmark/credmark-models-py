{
 "cells": [
  {
   "cell_type": "markdown",
   "id": "8aef9336-e7ec-48b1-ba46-67681a95a8a3",
   "metadata": {},
   "source": [
    "# Credmark Modeling Framework Example for Jupyter notebook\n",
    "## Ledger Model\n",
    "\n",
    "version: 2022.6.3"
   ]
  },
  {
   "cell_type": "code",
   "execution_count": null,
   "id": "b77380ae-0c7d-4db5-84f9-3670ec85d744",
   "metadata": {},
   "outputs": [],
   "source": [
    "from credmark.cmf.engine.model_loader import ModelLoader\n",
    "from credmark.cmf.engine.context import EngineModelContext\n",
    "\n",
    "from credmark.dto import *\n",
    "from credmark.cmf.types import *\n",
    "\n",
    "from credmark.cmf.types.ledger import (\n",
    "    BlockTable, ContractTable,\n",
    "    LogTable, ReceiptTable, TokenTable, TokenTransferTable,\n",
    "    TraceTable, TransactionTable, LedgerTable,\n",
    "    LedgerAggregate, LedgerModelOutput\n",
    ")\n",
    "\n",
    "from credmark.cmf.engine.dev_models.console import get_dt, get_block, log_output"
   ]
  },
  {
   "cell_type": "markdown",
   "id": "e24ac2e5-dc6f-42eb-9137-0252d7fc296a",
   "metadata": {},
   "source": [
    "## Initialize\n",
    "\n",
    "<div class=\"alert alert-block alert-info\">\n",
    "    <b>Note:</b> Change to a web3 provider you have in `params`/`chain_to_provider_url` below.\n",
    "</div>"
   ]
  },
  {
   "cell_type": "code",
   "execution_count": null,
   "id": "84d69de1-3bbc-4677-9936-10e4085508c2",
   "metadata": {},
   "outputs": [],
   "source": [
    "model_loader = ModelLoader(['../models'], None, True)\n",
    "\n",
    "params = {'chain_id': 1,\n",
    "          'block_number': None,\n",
    "          'model_loader': model_loader,\n",
    "          'chain_to_provider_url': {'1': 'http://192.168.68.122:10444'},\n",
    "          'api_url': None,\n",
    "          'run_id': None,\n",
    "          'console': True,\n",
    "          'use_local_models': None # Or, '*', or '-', or 'model_to_be_run_locally'\n",
    "         }\n",
    "context = EngineModelContext.create_context(**params)\n",
    "\n",
    "ledger = context.ledger\n",
    "run_model = context.run_model\n",
    "models = context.models\n",
    "block_number = context.block_number\n",
    "chain_id = context.chain_id\n",
    "web3 = context.web3\n",
    "run_model_historical = context.historical.run_model_historical\n",
    "run_model_historical_blocks = context.historical.run_model_historical_blocks"
   ]
  },
  {
   "cell_type": "markdown",
   "id": "ee77d404-3db8-4739-8f69-523dcb74268f",
   "metadata": {},
   "source": [
    "## Example"
   ]
  },
  {
   "cell_type": "markdown",
   "id": "41e5ff59-f010-493f-930f-896dd64547c2",
   "metadata": {},
   "source": [
    "### Contract - Uni V2"
   ]
  },
  {
   "cell_type": "code",
   "execution_count": null,
   "id": "2c53ab13-293d-4ef4-8f9d-25fd1adc6094",
   "metadata": {},
   "outputs": [],
   "source": [
    "contract = Contract(address='0x0d4a11d5EEaaC28EC3F61d100daF4d40471f1852')\n",
    "print(contract.functions.name().call(), contract.functions.symbol().call())\n",
    "\n",
    "for addr in [contract.functions.token0().call(), contract.functions.token1().call()]:\n",
    "    print(Token(address=addr).symbol)"
   ]
  },
  {
   "cell_type": "markdown",
   "id": "f46cbd0a-75ed-4651-8a0b-393813158aeb",
   "metadata": {},
   "source": [
    "### Ledger Examples"
   ]
  },
  {
   "cell_type": "markdown",
   "id": "1fe30282-2323-45b6-9985-5b30fd59c60a",
   "metadata": {},
   "source": [
    "- Get the max value group by `to`"
   ]
  },
  {
   "cell_type": "code",
   "execution_count": null,
   "id": "2d37ca30-ef03-4cf6-a8d0-dbcd03918fe4",
   "metadata": {},
   "outputs": [],
   "source": [
    "contract = Contract(address='0x0d4a11d5EEaaC28EC3F61d100daF4d40471f1852')\n",
    "\n",
    "ret = (\n",
    "    contract.ledger.functions.Transfer(\n",
    "        columns=[ContractLedger.Functions.InputCol('to'),\n",
    "                 ContractLedger.Functions.Columns.TXN_BLOCK_NUMBER],\n",
    "        aggregates=[\n",
    "            ContractLedger.Aggregate(\n",
    "            f'MAX({ContractLedger.Functions.InputCol(\"value\")})', 'max_value')\n",
    "        ],\n",
    "        group_by=f\"{ContractLedger.Functions.InputCol('to')},{ContractLedger.Functions.Columns.TXN_BLOCK_NUMBER}\",\n",
    "        order_by='\"max_value\" desc',\n",
    "        where=f'{ContractLedger.Functions.Columns.TXN_BLOCK_NUMBER} > {context.block_number - 2000000}',\n",
    "        limit='10'\n",
    "    ).to_dataframe())\n",
    "ret"
   ]
  },
  {
   "cell_type": "markdown",
   "id": "5232f2f1-7493-4ab7-b918-089299ea19cf",
   "metadata": {},
   "source": [
    "- Get max amount0Out by `to`."
   ]
  },
  {
   "cell_type": "code",
   "execution_count": null,
   "id": "d891dcf7-a560-4728-96c1-9a96624ca9c2",
   "metadata": {},
   "outputs": [],
   "source": [
    "ret = (\n",
    "    contract.ledger.events.Swap(\n",
    "        columns=[ContractLedger.Events.InputCol('to')],\n",
    "        aggregates=[\n",
    "                ContractLedger.Aggregate(\n",
    "                    f'MAX({ContractLedger.Events.InputCol(\"amount0Out\")})', 'max_value')\n",
    "            ],\n",
    "        group_by=ContractLedger.Events.InputCol('to'),\n",
    "        order_by='\"max_value\" desc',\n",
    "        where=f'{ContractLedger.Events.Columns.EVT_BLOCK_NUMBER} > {context.block_number - 2000000}',\n",
    "        limit='5')\n",
    "    .to_dataframe())\n",
    "ret"
   ]
  },
  {
   "cell_type": "markdown",
   "id": "00388e76-8aa7-45b0-b310-76a20a194062",
   "metadata": {},
   "source": [
    "- Get max amount0Out and max amount1Out"
   ]
  },
  {
   "cell_type": "code",
   "execution_count": null,
   "id": "40629fad-da59-4777-859b-fb7d961c292d",
   "metadata": {},
   "outputs": [],
   "source": [
    "contract = Contract(address='0x0d4a11d5EEaaC28EC3F61d100daF4d40471f1852')\n",
    "ret = (\n",
    "    contract.ledger.events.swap(\n",
    "        columns=[],\n",
    "        aggregates=[\n",
    "            ContractLedger.Aggregate(\n",
    "                f'MAX({ContractLedger.Events.InputCol(\"amount0Out\")})', 'max_amount0Out'),\n",
    "            ContractLedger.Aggregate(\n",
    "                f'MAX({ContractLedger.Events.InputCol(\"amount1Out\")})', 'max_amount1Out')\n",
    "        ]\n",
    "    ).to_dataframe())\n",
    "ret"
   ]
  },
  {
   "cell_type": "markdown",
   "id": "0ff7cc18-3cab-4a25-ae22-49be0d01f568",
   "metadata": {},
   "source": [
    "- Get the transaction hash containing the max amount0Out."
   ]
  },
  {
   "cell_type": "code",
   "execution_count": null,
   "id": "0ad75ace-bdf7-495d-b9cd-43e4a5f78aba",
   "metadata": {},
   "outputs": [],
   "source": [
    "contract = Contract(address='0x0d4a11d5EEaaC28EC3F61d100daF4d40471f1852')\n",
    "ret2 = (\n",
    "    contract.ledger.events.Swap(\n",
    "        columns=[ContractLedger.Events.Columns.EVT_HASH],\n",
    "        aggregates=[\n",
    "            ContractLedger.Aggregate(\n",
    "                f'MAX({ContractLedger.Events.InputCol(\"amount0Out\")})', 'max_amount0Out')\n",
    "        ],\n",
    "        group_by=','.join([ContractLedger.Events.Columns.EVT_HASH]),\n",
    "        having=f'max({ContractLedger.Events.InputCol(\"amount0Out\")}) >= {ret.max_amount0Out[0]}',\n",
    "    ).to_dataframe())\n",
    "ret2"
   ]
  },
  {
   "cell_type": "markdown",
   "id": "deb2f30c-d6d6-48e8-9780-000d1a32e82b",
   "metadata": {},
   "source": [
    "- Get the transaction hash containing the max amount0Out or max amount1Out\n",
    "\n",
    "For any column in `having` needs to be in `aggregates`."
   ]
  },
  {
   "cell_type": "code",
   "execution_count": null,
   "id": "95ddbe33-1ee4-4750-a098-192722f77463",
   "metadata": {},
   "outputs": [],
   "source": [
    "contract = Contract(address='0x0d4a11d5EEaaC28EC3F61d100daF4d40471f1852')\n",
    "ret2 = (\n",
    "    contract.ledger.events.Swap(\n",
    "        columns=[ContractLedger.Events.Columns.EVT_HASH],\n",
    "        aggregates=[\n",
    "            ContractLedger.Aggregate(\n",
    "                f'MAX({ContractLedger.Events.InputCol(\"amount0Out\")})', 'max_amount0Out'),\n",
    "            ContractLedger.Aggregate(\n",
    "                f'MAX({ContractLedger.Events.InputCol(\"amount1Out\")})', 'max_amount1Out')\n",
    "        ],\n",
    "        group_by=','.join([ContractLedger.Events.Columns.EVT_HASH]),\n",
    "        having=(f'max({ContractLedger.Events.InputCol(\"amount0Out\")}) >= {ret.max_amount0Out[0]} or '\n",
    "                f'max({ContractLedger.Events.InputCol(\"amount1Out\")}) >= {ret.max_amount1Out[0]}'),\n",
    "    ).to_dataframe())\n",
    "\n",
    "display(ret2)"
   ]
  },
  {
   "cell_type": "code",
   "execution_count": null,
   "id": "38ae336a-e906-4641-81ac-07692692a9d7",
   "metadata": {},
   "outputs": [],
   "source": []
  }
 ],
 "metadata": {
  "kernelspec": {
   "display_name": "Python 3.9.13 ('dev')",
   "language": "python",
   "name": "python3"
  },
  "language_info": {
   "codemirror_mode": {
    "name": "ipython",
    "version": 3
   },
   "file_extension": ".py",
   "mimetype": "text/x-python",
   "name": "python",
   "nbconvert_exporter": "python",
   "pygments_lexer": "ipython3",
   "version": "3.9.13"
  },
  "vscode": {
   "interpreter": {
    "hash": "4e8d8e469b0d4611f4360f3c36fd48638844fb732162b2ab78008124a5d83b43"
   }
  }
 },
 "nbformat": 4,
 "nbformat_minor": 5
}
