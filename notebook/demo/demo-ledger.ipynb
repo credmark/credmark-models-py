{
 "cells": [
  {
   "cell_type": "markdown",
   "id": "8aef9336-e7ec-48b1-ba46-67681a95a8a3",
   "metadata": {},
   "source": [
    "# Credmark Modeling Framework Example for Jupyter notebook\n",
    "## Ledger Model\n",
    "\n",
    "version: 2022.6.3"
   ]
  },
  {
   "cell_type": "code",
   "execution_count": 2,
   "id": "b77380ae-0c7d-4db5-84f9-3670ec85d744",
   "metadata": {},
   "outputs": [],
   "source": [
    "from credmark.cmf.engine.model_loader import ModelLoader\n",
    "from credmark.cmf.engine.context import EngineModelContext\n",
    "\n",
    "from credmark.dto import *\n",
    "from credmark.cmf.types import *\n",
    "\n",
    "from credmark.cmf.engine.dev_models.console import get_dt, get_block, log_output"
   ]
  },
  {
   "cell_type": "markdown",
   "id": "e24ac2e5-dc6f-42eb-9137-0252d7fc296a",
   "metadata": {},
   "source": [
    "## Initialize\n",
    "\n",
    "<div class=\"alert alert-block alert-info\">\n",
    "    <b>Note:</b> Change to a web3 provider you have in `params`/`chain_to_provider_url` below.\n",
    "</div>"
   ]
  },
  {
   "cell_type": "code",
   "execution_count": 3,
   "id": "84d69de1-3bbc-4677-9936-10e4085508c2",
   "metadata": {},
   "outputs": [],
   "source": [
    "model_loader = ModelLoader(['../models'], None, True)\n",
    "\n",
    "params = {'chain_id': 1,\n",
    "          'block_number': None,\n",
    "          'model_loader': model_loader,\n",
    "          'chain_to_provider_url': {'1': 'http://192.168.68.122:10444'},\n",
    "          'api_url': None,\n",
    "          'run_id': None,\n",
    "          'console': True,\n",
    "          'use_local_models': None # Or, '*', or '-', or 'model_to_be_run_locally'\n",
    "         }\n",
    "context = EngineModelContext.create_context(**params)\n",
    "\n",
    "ledger = context.ledger\n",
    "run_model = context.run_model\n",
    "models = context.models\n",
    "block_number = context.block_number\n",
    "chain_id = context.chain_id\n",
    "web3 = context.web3\n",
    "run_model_historical = context.historical.run_model_historical\n",
    "run_model_historical_blocks = context.historical.run_model_historical_blocks"
   ]
  },
  {
   "cell_type": "markdown",
   "id": "ee77d404-3db8-4739-8f69-523dcb74268f",
   "metadata": {},
   "source": [
    "## Example"
   ]
  },
  {
   "cell_type": "markdown",
   "id": "41e5ff59-f010-493f-930f-896dd64547c2",
   "metadata": {},
   "source": [
    "### Contract - Uni V2"
   ]
  },
  {
   "cell_type": "code",
   "execution_count": 4,
   "id": "2c53ab13-293d-4ef4-8f9d-25fd1adc6094",
   "metadata": {},
   "outputs": [
    {
     "name": "stdout",
     "output_type": "stream",
     "text": [
      "Uniswap V2 UNI-V2\n",
      "WETH\n",
      "USDT\n"
     ]
    }
   ],
   "source": [
    "contract = Contract(address='0x0d4a11d5EEaaC28EC3F61d100daF4d40471f1852')\n",
    "print(contract.functions.name().call(), contract.functions.symbol().call())\n",
    "\n",
    "for addr in [contract.functions.token0().call(), contract.functions.token1().call()]:\n",
    "    print(Token(address=addr).symbol)"
   ]
  },
  {
   "cell_type": "markdown",
   "id": "f46cbd0a-75ed-4651-8a0b-393813158aeb",
   "metadata": {},
   "source": [
    "### Ledger Examples"
   ]
  },
  {
   "cell_type": "markdown",
   "id": "1fe30282-2323-45b6-9985-5b30fd59c60a",
   "metadata": {},
   "source": [
    "- Get the max value group by `to`"
   ]
  },
  {
   "cell_type": "code",
   "execution_count": 8,
   "id": "2d37ca30-ef03-4cf6-a8d0-dbcd03918fe4",
   "metadata": {},
   "outputs": [
    {
     "data": {
      "text/html": [
       "<div>\n",
       "<style scoped>\n",
       "    .dataframe tbody tr th:only-of-type {\n",
       "        vertical-align: middle;\n",
       "    }\n",
       "\n",
       "    .dataframe tbody tr th {\n",
       "        vertical-align: top;\n",
       "    }\n",
       "\n",
       "    .dataframe thead th {\n",
       "        text-align: right;\n",
       "    }\n",
       "</style>\n",
       "<table border=\"1\" class=\"dataframe\">\n",
       "  <thead>\n",
       "    <tr style=\"text-align: right;\">\n",
       "      <th></th>\n",
       "      <th>inp_to</th>\n",
       "      <th>txn_block_number</th>\n",
       "      <th>max_value</th>\n",
       "    </tr>\n",
       "  </thead>\n",
       "  <tbody>\n",
       "    <tr>\n",
       "      <th>0</th>\n",
       "      <td>0x00b1a4E7F217380a7C9e6c12F327AC4a1D9B6A14</td>\n",
       "      <td>14138857</td>\n",
       "      <td>149783162423129570</td>\n",
       "    </tr>\n",
       "    <tr>\n",
       "      <th>1</th>\n",
       "      <td>0x00b1a4E7F217380a7C9e6c12F327AC4a1D9B6A14</td>\n",
       "      <td>14128554</td>\n",
       "      <td>21493808992440640</td>\n",
       "    </tr>\n",
       "    <tr>\n",
       "      <th>2</th>\n",
       "      <td>0x0aCd6bab83089f9ACa17E64bd13eA4502e5db533</td>\n",
       "      <td>14396337</td>\n",
       "      <td>7743549689439966</td>\n",
       "    </tr>\n",
       "    <tr>\n",
       "      <th>3</th>\n",
       "      <td>0x00b1a4E7F217380a7C9e6c12F327AC4a1D9B6A14</td>\n",
       "      <td>14097405</td>\n",
       "      <td>4736927601639810</td>\n",
       "    </tr>\n",
       "    <tr>\n",
       "      <th>4</th>\n",
       "      <td>0x00b1a4E7F217380a7C9e6c12F327AC4a1D9B6A14</td>\n",
       "      <td>14232262</td>\n",
       "      <td>2826632328075661</td>\n",
       "    </tr>\n",
       "    <tr>\n",
       "      <th>5</th>\n",
       "      <td>0x00b1a4E7F217380a7C9e6c12F327AC4a1D9B6A14</td>\n",
       "      <td>14434032</td>\n",
       "      <td>2762062321273503</td>\n",
       "    </tr>\n",
       "    <tr>\n",
       "      <th>6</th>\n",
       "      <td>0x00b1a4E7F217380a7C9e6c12F327AC4a1D9B6A14</td>\n",
       "      <td>14252590</td>\n",
       "      <td>975279293939838</td>\n",
       "    </tr>\n",
       "    <tr>\n",
       "      <th>7</th>\n",
       "      <td>0x87D4b3287C7644c02885e9301A56b56BC68ef3F1</td>\n",
       "      <td>13224497</td>\n",
       "      <td>836488387231461</td>\n",
       "    </tr>\n",
       "    <tr>\n",
       "      <th>8</th>\n",
       "      <td>0x17EC368352402EF554ea6D43AEF7d848C4D9884A</td>\n",
       "      <td>14186008</td>\n",
       "      <td>661189712558630</td>\n",
       "    </tr>\n",
       "    <tr>\n",
       "      <th>9</th>\n",
       "      <td>0xA0E7F672bc7BDB06EE542Fa2A8Dcf478F3c25F9C</td>\n",
       "      <td>14210339</td>\n",
       "      <td>548368413393905</td>\n",
       "    </tr>\n",
       "  </tbody>\n",
       "</table>\n",
       "</div>"
      ],
      "text/plain": [
       "                                       inp_to  txn_block_number  \\\n",
       "0  0x00b1a4E7F217380a7C9e6c12F327AC4a1D9B6A14          14138857   \n",
       "1  0x00b1a4E7F217380a7C9e6c12F327AC4a1D9B6A14          14128554   \n",
       "2  0x0aCd6bab83089f9ACa17E64bd13eA4502e5db533          14396337   \n",
       "3  0x00b1a4E7F217380a7C9e6c12F327AC4a1D9B6A14          14097405   \n",
       "4  0x00b1a4E7F217380a7C9e6c12F327AC4a1D9B6A14          14232262   \n",
       "5  0x00b1a4E7F217380a7C9e6c12F327AC4a1D9B6A14          14434032   \n",
       "6  0x00b1a4E7F217380a7C9e6c12F327AC4a1D9B6A14          14252590   \n",
       "7  0x87D4b3287C7644c02885e9301A56b56BC68ef3F1          13224497   \n",
       "8  0x17EC368352402EF554ea6D43AEF7d848C4D9884A          14186008   \n",
       "9  0xA0E7F672bc7BDB06EE542Fa2A8Dcf478F3c25F9C          14210339   \n",
       "\n",
       "            max_value  \n",
       "0  149783162423129570  \n",
       "1   21493808992440640  \n",
       "2    7743549689439966  \n",
       "3    4736927601639810  \n",
       "4    2826632328075661  \n",
       "5    2762062321273503  \n",
       "6     975279293939838  \n",
       "7     836488387231461  \n",
       "8     661189712558630  \n",
       "9     548368413393905  "
      ]
     },
     "execution_count": 8,
     "metadata": {},
     "output_type": "execute_result"
    }
   ],
   "source": [
    "contract = Contract(address='0x0d4a11d5EEaaC28EC3F61d100daF4d40471f1852')\n",
    "\n",
    "with contract.ledger.functions.Transfer as q:\n",
    "    ret = (q.select(\n",
    "        aggregates=[(q.VALUE.max_(), 'max_value')],\n",
    "        group_by=[q.TO,q.TXN_BLOCK_NUMBER],\n",
    "        order_by=q.field('max_value').dquote().desc(),\n",
    "        where=q.TXN_BLOCK_NUMBER.gt(context.block_number - 2000000),\n",
    "        limit=10\n",
    "    ).to_dataframe())\n",
    "display(ret)"
   ]
  },
  {
   "cell_type": "markdown",
   "id": "5232f2f1-7493-4ab7-b918-089299ea19cf",
   "metadata": {},
   "source": [
    "- Get max amount0Out by `to`."
   ]
  },
  {
   "cell_type": "code",
   "execution_count": 10,
   "id": "d891dcf7-a560-4728-96c1-9a96624ca9c2",
   "metadata": {},
   "outputs": [
    {
     "data": {
      "text/html": [
       "<div>\n",
       "<style scoped>\n",
       "    .dataframe tbody tr th:only-of-type {\n",
       "        vertical-align: middle;\n",
       "    }\n",
       "\n",
       "    .dataframe tbody tr th {\n",
       "        vertical-align: top;\n",
       "    }\n",
       "\n",
       "    .dataframe thead th {\n",
       "        text-align: right;\n",
       "    }\n",
       "</style>\n",
       "<table border=\"1\" class=\"dataframe\">\n",
       "  <thead>\n",
       "    <tr style=\"text-align: right;\">\n",
       "      <th></th>\n",
       "      <th>inp_to</th>\n",
       "      <th>max_value</th>\n",
       "    </tr>\n",
       "  </thead>\n",
       "  <tbody>\n",
       "    <tr>\n",
       "      <th>0</th>\n",
       "      <td>0x56178a0d5F301bAf6CF3e1Cd53d9863437345Bf9</td>\n",
       "      <td>1911747785637249679360.0</td>\n",
       "    </tr>\n",
       "    <tr>\n",
       "      <th>1</th>\n",
       "      <td>0xBEEFBaBEeA323F07c59926295205d3b7a17E8638</td>\n",
       "      <td>1667946016386711814144.0</td>\n",
       "    </tr>\n",
       "    <tr>\n",
       "      <th>2</th>\n",
       "      <td>0x00000000003b3cc22aF3aE1EAc0440BcEe416B40</td>\n",
       "      <td>1509320889197135921152.0</td>\n",
       "    </tr>\n",
       "    <tr>\n",
       "      <th>3</th>\n",
       "      <td>0x000000000035B5e5ad9019092C665357240f594e</td>\n",
       "      <td>1132703857883090518016.0</td>\n",
       "    </tr>\n",
       "    <tr>\n",
       "      <th>4</th>\n",
       "      <td>0x000000000dFDe7deaF24138722987c9a6991e2D4</td>\n",
       "      <td>959324059003144600000</td>\n",
       "    </tr>\n",
       "  </tbody>\n",
       "</table>\n",
       "</div>"
      ],
      "text/plain": [
       "                                       inp_to                 max_value\n",
       "0  0x56178a0d5F301bAf6CF3e1Cd53d9863437345Bf9  1911747785637249679360.0\n",
       "1  0xBEEFBaBEeA323F07c59926295205d3b7a17E8638  1667946016386711814144.0\n",
       "2  0x00000000003b3cc22aF3aE1EAc0440BcEe416B40  1509320889197135921152.0\n",
       "3  0x000000000035B5e5ad9019092C665357240f594e  1132703857883090518016.0\n",
       "4  0x000000000dFDe7deaF24138722987c9a6991e2D4     959324059003144600000"
      ]
     },
     "execution_count": 10,
     "metadata": {},
     "output_type": "execute_result"
    }
   ],
   "source": [
    "with contract.ledger.events.Swap as q:\n",
    "    ret = (q.select(\n",
    "        aggregates=[(q.AMOUNT0OUT.max_(), 'max_value')],\n",
    "        group_by=[q.TO],\n",
    "        order_by=q.field('max_value').dquote().desc(),\n",
    "        where=q.EVT_BLOCK_NUMBER.gt(context.block_number - 2000000),\n",
    "        limit=5)\n",
    "    .to_dataframe())\n",
    "display(ret)"
   ]
  },
  {
   "cell_type": "markdown",
   "id": "00388e76-8aa7-45b0-b310-76a20a194062",
   "metadata": {},
   "source": [
    "- Get max amount0Out and max amount1Out"
   ]
  },
  {
   "cell_type": "code",
   "execution_count": 11,
   "id": "40629fad-da59-4777-859b-fb7d961c292d",
   "metadata": {},
   "outputs": [
    {
     "data": {
      "text/html": [
       "<div>\n",
       "<style scoped>\n",
       "    .dataframe tbody tr th:only-of-type {\n",
       "        vertical-align: middle;\n",
       "    }\n",
       "\n",
       "    .dataframe tbody tr th {\n",
       "        vertical-align: top;\n",
       "    }\n",
       "\n",
       "    .dataframe thead th {\n",
       "        text-align: right;\n",
       "    }\n",
       "</style>\n",
       "<table border=\"1\" class=\"dataframe\">\n",
       "  <thead>\n",
       "    <tr style=\"text-align: right;\">\n",
       "      <th></th>\n",
       "      <th>max_amount0Out</th>\n",
       "      <th>max_amount1Out</th>\n",
       "    </tr>\n",
       "  </thead>\n",
       "  <tbody>\n",
       "    <tr>\n",
       "      <th>0</th>\n",
       "      <td>9.609250e+22</td>\n",
       "      <td>50000000000000</td>\n",
       "    </tr>\n",
       "  </tbody>\n",
       "</table>\n",
       "</div>"
      ],
      "text/plain": [
       "   max_amount0Out  max_amount1Out\n",
       "0    9.609250e+22  50000000000000"
      ]
     },
     "execution_count": 11,
     "metadata": {},
     "output_type": "execute_result"
    }
   ],
   "source": [
    "contract = Contract(address='0x0d4a11d5EEaaC28EC3F61d100daF4d40471f1852')\n",
    "with contract.ledger.events.Swap as q:\n",
    "    ret = (q.select(\n",
    "        aggregates=[(q.AMOUNT0OUT.max_(), 'max_amount0Out'), (q.AMOUNT1OUT.max_(), 'max_amount1Out')]\n",
    "    ).to_dataframe())\n",
    "display(ret)"
   ]
  },
  {
   "cell_type": "markdown",
   "id": "0ff7cc18-3cab-4a25-ae22-49be0d01f568",
   "metadata": {},
   "source": [
    "- Get the transaction hash containing the max amount0Out."
   ]
  },
  {
   "cell_type": "code",
   "execution_count": 12,
   "id": "0ad75ace-bdf7-495d-b9cd-43e4a5f78aba",
   "metadata": {},
   "outputs": [
    {
     "data": {
      "text/html": [
       "<div>\n",
       "<style scoped>\n",
       "    .dataframe tbody tr th:only-of-type {\n",
       "        vertical-align: middle;\n",
       "    }\n",
       "\n",
       "    .dataframe tbody tr th {\n",
       "        vertical-align: top;\n",
       "    }\n",
       "\n",
       "    .dataframe thead th {\n",
       "        text-align: right;\n",
       "    }\n",
       "</style>\n",
       "<table border=\"1\" class=\"dataframe\">\n",
       "  <thead>\n",
       "    <tr style=\"text-align: right;\">\n",
       "      <th></th>\n",
       "      <th>evt_tx_hash</th>\n",
       "      <th>max_amount0Out</th>\n",
       "    </tr>\n",
       "  </thead>\n",
       "  <tbody>\n",
       "    <tr>\n",
       "      <th>0</th>\n",
       "      <td>0x8bb8dc5c7c830bac85fa48acad2505e9300a91c3ff23...</td>\n",
       "      <td>9.609250e+22</td>\n",
       "    </tr>\n",
       "  </tbody>\n",
       "</table>\n",
       "</div>"
      ],
      "text/plain": [
       "                                         evt_tx_hash  max_amount0Out\n",
       "0  0x8bb8dc5c7c830bac85fa48acad2505e9300a91c3ff23...    9.609250e+22"
      ]
     },
     "execution_count": 12,
     "metadata": {},
     "output_type": "execute_result"
    }
   ],
   "source": [
    "contract = Contract(address='0x0d4a11d5EEaaC28EC3F61d100daF4d40471f1852')\n",
    "with contract.ledger.events.Swap as q:\n",
    "    ret2 = (q.select(\n",
    "        aggregates=[(q.AMOUNT0OUT.max_(), 'max_amount0Out')],\n",
    "        group_by=[q.EVT_HASH],\n",
    "        having=q.AMOUNT0OUT.max_().ge(ret.max_amount0Out[0]),\n",
    "    ).to_dataframe())\n",
    "display(ret2)"
   ]
  },
  {
   "cell_type": "markdown",
   "id": "deb2f30c-d6d6-48e8-9780-000d1a32e82b",
   "metadata": {},
   "source": [
    "- Get the transaction hash containing the max amount0Out or max amount1Out\n",
    "\n",
    "For any column in `having` needs to be in `aggregates`."
   ]
  },
  {
   "cell_type": "code",
   "execution_count": 13,
   "id": "95ddbe33-1ee4-4750-a098-192722f77463",
   "metadata": {},
   "outputs": [
    {
     "data": {
      "text/html": [
       "<div>\n",
       "<style scoped>\n",
       "    .dataframe tbody tr th:only-of-type {\n",
       "        vertical-align: middle;\n",
       "    }\n",
       "\n",
       "    .dataframe tbody tr th {\n",
       "        vertical-align: top;\n",
       "    }\n",
       "\n",
       "    .dataframe thead th {\n",
       "        text-align: right;\n",
       "    }\n",
       "</style>\n",
       "<table border=\"1\" class=\"dataframe\">\n",
       "  <thead>\n",
       "    <tr style=\"text-align: right;\">\n",
       "      <th></th>\n",
       "      <th>evt_tx_hash</th>\n",
       "      <th>max_amount0Out</th>\n",
       "      <th>max_amount1Out</th>\n",
       "    </tr>\n",
       "  </thead>\n",
       "  <tbody>\n",
       "    <tr>\n",
       "      <th>0</th>\n",
       "      <td>0xe60b28f063036c9055f1ea92f09e3467d6e02cb90226...</td>\n",
       "      <td>0.000000e+00</td>\n",
       "      <td>50000000000000</td>\n",
       "    </tr>\n",
       "    <tr>\n",
       "      <th>1</th>\n",
       "      <td>0xa9e80d1214eb369ca443f4a025d7605914f758bc8103...</td>\n",
       "      <td>0.000000e+00</td>\n",
       "      <td>50000000000000</td>\n",
       "    </tr>\n",
       "    <tr>\n",
       "      <th>2</th>\n",
       "      <td>0x0f6dee0f75aa648c15f61bcc89ae86835a2c55fdd525...</td>\n",
       "      <td>0.000000e+00</td>\n",
       "      <td>50000000000000</td>\n",
       "    </tr>\n",
       "    <tr>\n",
       "      <th>3</th>\n",
       "      <td>0x0ab67369a6beb7875df6f2917916851530e9b10c46ea...</td>\n",
       "      <td>0.000000e+00</td>\n",
       "      <td>50000000000000</td>\n",
       "    </tr>\n",
       "    <tr>\n",
       "      <th>4</th>\n",
       "      <td>0x789da3bb1e14a7ee5014e8150d7c28dc43bf40caa717...</td>\n",
       "      <td>0.000000e+00</td>\n",
       "      <td>50000000000000</td>\n",
       "    </tr>\n",
       "    <tr>\n",
       "      <th>5</th>\n",
       "      <td>0x8bb8dc5c7c830bac85fa48acad2505e9300a91c3ff23...</td>\n",
       "      <td>9.609250e+22</td>\n",
       "      <td>0</td>\n",
       "    </tr>\n",
       "    <tr>\n",
       "      <th>6</th>\n",
       "      <td>0xc2cc773009ebaee06c1301a485794cbf0a56e657ac30...</td>\n",
       "      <td>0.000000e+00</td>\n",
       "      <td>50000000000000</td>\n",
       "    </tr>\n",
       "    <tr>\n",
       "      <th>7</th>\n",
       "      <td>0x7fa34152553f2ce7e6f22ca0ada802ab2c18e0ef9410...</td>\n",
       "      <td>0.000000e+00</td>\n",
       "      <td>50000000000000</td>\n",
       "    </tr>\n",
       "    <tr>\n",
       "      <th>8</th>\n",
       "      <td>0x89316cf5d24c82ca2dbbd48989d4c62e44bccaecdcf3...</td>\n",
       "      <td>0.000000e+00</td>\n",
       "      <td>50000000000000</td>\n",
       "    </tr>\n",
       "    <tr>\n",
       "      <th>9</th>\n",
       "      <td>0x9ab36df290ab78f52f3e9be8c43a6b1d61ea80ec2f40...</td>\n",
       "      <td>0.000000e+00</td>\n",
       "      <td>50000000000000</td>\n",
       "    </tr>\n",
       "    <tr>\n",
       "      <th>10</th>\n",
       "      <td>0x0fc6d2ca064fc841bc9b1c1fad1fbb97bcea5c9a1b2b...</td>\n",
       "      <td>0.000000e+00</td>\n",
       "      <td>50000000000000</td>\n",
       "    </tr>\n",
       "    <tr>\n",
       "      <th>11</th>\n",
       "      <td>0xdc4db0312149bc13607d07ec889ae96a8527866bbf40...</td>\n",
       "      <td>0.000000e+00</td>\n",
       "      <td>50000000000000</td>\n",
       "    </tr>\n",
       "    <tr>\n",
       "      <th>12</th>\n",
       "      <td>0x9d093325272701d63fdafb0af2d89c7e23eaf18be1a5...</td>\n",
       "      <td>0.000000e+00</td>\n",
       "      <td>50000000000000</td>\n",
       "    </tr>\n",
       "    <tr>\n",
       "      <th>13</th>\n",
       "      <td>0x8ed270d3370fbc4499b66178df7ca3fb00772e8e4734...</td>\n",
       "      <td>0.000000e+00</td>\n",
       "      <td>50000000000000</td>\n",
       "    </tr>\n",
       "  </tbody>\n",
       "</table>\n",
       "</div>"
      ],
      "text/plain": [
       "                                          evt_tx_hash  max_amount0Out  \\\n",
       "0   0xe60b28f063036c9055f1ea92f09e3467d6e02cb90226...    0.000000e+00   \n",
       "1   0xa9e80d1214eb369ca443f4a025d7605914f758bc8103...    0.000000e+00   \n",
       "2   0x0f6dee0f75aa648c15f61bcc89ae86835a2c55fdd525...    0.000000e+00   \n",
       "3   0x0ab67369a6beb7875df6f2917916851530e9b10c46ea...    0.000000e+00   \n",
       "4   0x789da3bb1e14a7ee5014e8150d7c28dc43bf40caa717...    0.000000e+00   \n",
       "5   0x8bb8dc5c7c830bac85fa48acad2505e9300a91c3ff23...    9.609250e+22   \n",
       "6   0xc2cc773009ebaee06c1301a485794cbf0a56e657ac30...    0.000000e+00   \n",
       "7   0x7fa34152553f2ce7e6f22ca0ada802ab2c18e0ef9410...    0.000000e+00   \n",
       "8   0x89316cf5d24c82ca2dbbd48989d4c62e44bccaecdcf3...    0.000000e+00   \n",
       "9   0x9ab36df290ab78f52f3e9be8c43a6b1d61ea80ec2f40...    0.000000e+00   \n",
       "10  0x0fc6d2ca064fc841bc9b1c1fad1fbb97bcea5c9a1b2b...    0.000000e+00   \n",
       "11  0xdc4db0312149bc13607d07ec889ae96a8527866bbf40...    0.000000e+00   \n",
       "12  0x9d093325272701d63fdafb0af2d89c7e23eaf18be1a5...    0.000000e+00   \n",
       "13  0x8ed270d3370fbc4499b66178df7ca3fb00772e8e4734...    0.000000e+00   \n",
       "\n",
       "    max_amount1Out  \n",
       "0   50000000000000  \n",
       "1   50000000000000  \n",
       "2   50000000000000  \n",
       "3   50000000000000  \n",
       "4   50000000000000  \n",
       "5                0  \n",
       "6   50000000000000  \n",
       "7   50000000000000  \n",
       "8   50000000000000  \n",
       "9   50000000000000  \n",
       "10  50000000000000  \n",
       "11  50000000000000  \n",
       "12  50000000000000  \n",
       "13  50000000000000  "
      ]
     },
     "metadata": {},
     "output_type": "display_data"
    }
   ],
   "source": [
    "contract = Contract(address='0x0d4a11d5EEaaC28EC3F61d100daF4d40471f1852')\n",
    "with contract.ledger.events.Swap as q:\n",
    "    ret3 = (q.select(\n",
    "        aggregates=[(q.AMOUNT0OUT.max_(), 'max_amount0Out'),\n",
    "                    (q.AMOUNT1OUT.max_(), 'max_amount1Out')],\n",
    "        group_by=[q.EVT_HASH],\n",
    "        having=q.AMOUNT0OUT.max_().ge(ret.max_amount0Out[0]).or_(\n",
    "            q.AMOUNT1OUT.max_().ge(ret.max_amount1Out[0])),\n",
    "    ).to_dataframe())\n",
    "\n",
    "display(ret3)"
   ]
  },
  {
   "cell_type": "code",
   "execution_count": null,
   "id": "38ae336a-e906-4641-81ac-07692692a9d7",
   "metadata": {},
   "outputs": [],
   "source": []
  }
 ],
 "metadata": {
  "kernelspec": {
   "display_name": "Python 3.10.5 ('cmk310')",
   "language": "python",
   "name": "python3"
  },
  "language_info": {
   "codemirror_mode": {
    "name": "ipython",
    "version": 3
   },
   "file_extension": ".py",
   "mimetype": "text/x-python",
   "name": "python",
   "nbconvert_exporter": "python",
   "pygments_lexer": "ipython3",
   "version": "3.10.5"
  },
  "vscode": {
   "interpreter": {
    "hash": "ef3060a66f05e685ce670116a67026aba95afdffb2461d829b3351d07ec51c58"
   }
  }
 },
 "nbformat": 4,
 "nbformat_minor": 5
}
