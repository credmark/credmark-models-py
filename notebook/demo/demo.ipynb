{
 "cells": [
  {
   "cell_type": "markdown",
   "id": "9cbc2502-2aad-42ec-8728-25a0acae36e3",
   "metadata": {},
   "source": [
    "# Credmark Modeling Framework Example for Jupyter notebook\n",
    "## Introduction\n",
    "\n",
    "version: 2022.6.3"
   ]
  },
  {
   "cell_type": "code",
   "execution_count": null,
   "id": "b77380ae-0c7d-4db5-84f9-3670ec85d744",
   "metadata": {},
   "outputs": [],
   "source": [
    "from credmark.cmf.engine.model_loader import ModelLoader\n",
    "from credmark.cmf.engine.context import EngineModelContext\n",
    "\n",
    "from credmark.dto import *\n",
    "from credmark.cmf.types import *\n",
    "\n",
    "from credmark.cmf.engine.dev_models.console import get_dt, get_block, log_output"
   ]
  },
  {
   "cell_type": "markdown",
   "id": "e24ac2e5-dc6f-42eb-9137-0252d7fc296a",
   "metadata": {},
   "source": [
    "## Initialize"
   ]
  },
  {
   "cell_type": "markdown",
   "id": "3178ec4a-a787-4d7f-8072-c9b8d1ce4fe8",
   "metadata": {},
   "source": [
    "1. You could change the level of logging with `log_output()`."
   ]
  },
  {
   "cell_type": "code",
   "execution_count": null,
   "id": "dfbec2e8-f797-4cc7-ab15-d4f0a765731d",
   "metadata": {},
   "outputs": [],
   "source": [
    "import logging\n",
    "# Change output of logging to a file, and \n",
    "# Change the level to DEBUG when no level is specified.\n",
    "# logging_output('../tmp/debug.log')\n",
    "\n",
    "# Change level of logging from the default (WARNING) to\n",
    "# either INFO (less information)\n",
    "# or DEBUG(more information).\n",
    "# Still output to stream.\n",
    "log_output(log_level=logging.INFO)"
   ]
  },
  {
   "cell_type": "markdown",
   "id": "17120fd4-11b1-448f-8d78-ef0d5fd608d3",
   "metadata": {},
   "source": [
    "2. Create context and some shortcuts for frequently used utilitis.\n",
    "\n",
    "Update below parameters\n",
    "- chain_id: 1 for ETH\n",
    "- block_number: None or a specific number.\n",
    "- chain_to_provider_url: web3 node (archive is preferred)\n",
    "- api_url: None or a specific gateway server address\n",
    "- console: True\n",
    "- use_local_models: None, '*', or a comma-separated list."
   ]
  },
  {
   "cell_type": "markdown",
   "id": "fc7d6f18",
   "metadata": {},
   "source": [
    "<div class=\"alert alert-block alert-info\">\n",
    "    <b>Note:</b> Change to a web3 provider you have in `params`/`chain_to_provider_url` below.\n",
    "</div>"
   ]
  },
  {
   "cell_type": "code",
   "execution_count": null,
   "id": "84d69de1-3bbc-4677-9936-10e4085508c2",
   "metadata": {},
   "outputs": [],
   "source": [
    "model_loader = ModelLoader(['../models'], None, True)\n",
    "\n",
    "params = {'chain_id': 1,\n",
    "          'block_number': None,\n",
    "          'model_loader': model_loader,\n",
    "          'chain_to_provider_url': {'1': 'http://192.168.68.122:10444'},\n",
    "          'api_url': None,\n",
    "          'run_id': None,\n",
    "          'console': True,\n",
    "          'use_local_models': None # Or, '*', or '-', or 'model_to_be_run_locally'\n",
    "         }\n",
    "context = EngineModelContext.create_context(**params)\n",
    "\n",
    "ledger = context.ledger\n",
    "run_model = context.run_model\n",
    "models = context.models\n",
    "block_number = context.block_number\n",
    "chain_id = context.chain_id\n",
    "web3 = context.web3\n",
    "run_model_historical = context.historical.run_model_historical\n",
    "run_model_historical_blocks = context.historical.run_model_historical_blocks"
   ]
  },
  {
   "cell_type": "markdown",
   "id": "87a47f0b-fb44-46e7-9a90-6cc2f910f854",
   "metadata": {},
   "source": [
    "## Use Cmf"
   ]
  },
  {
   "cell_type": "markdown",
   "id": "330ec118-a5e6-408b-90c2-e008706c0e77",
   "metadata": {},
   "source": [
    "### 1. Basic utilities"
   ]
  },
  {
   "cell_type": "code",
   "execution_count": null,
   "id": "909e266f-a115-4851-8391-dcd637a6cc2d",
   "metadata": {},
   "outputs": [],
   "source": [
    "get_dt(2022, 5, 3)"
   ]
  },
  {
   "cell_type": "code",
   "execution_count": null,
   "id": "e1cea06e-6df8-4036-848d-68ff2d55d722",
   "metadata": {},
   "outputs": [],
   "source": [
    "get_block(get_dt(2022, 5, 3))"
   ]
  },
  {
   "cell_type": "code",
   "execution_count": null,
   "id": "510abfe5-9ad6-4ef7-82cf-d5deef3fa50c",
   "metadata": {},
   "outputs": [],
   "source": [
    "context.block_number"
   ]
  },
  {
   "cell_type": "code",
   "execution_count": null,
   "id": "b447b5f9-09ca-4213-acc9-6038bb58eda2",
   "metadata": {},
   "outputs": [],
   "source": [
    "context.chain_id"
   ]
  },
  {
   "cell_type": "code",
   "execution_count": null,
   "id": "f1ac9d76-3613-4baf-864a-74a6626dacc2",
   "metadata": {},
   "outputs": [],
   "source": [
    "context.web3"
   ]
  },
  {
   "cell_type": "code",
   "execution_count": null,
   "id": "6f2fed1f-67e5-4d5e-888a-5e09ad637ff3",
   "metadata": {},
   "outputs": [],
   "source": [
    "context.web3.eth.get_balance('0xd3CdA913deB6f67967B99D67aCDFa1712C293601')"
   ]
  },
  {
   "cell_type": "code",
   "execution_count": null,
   "id": "02813570-ef2a-4b69-8e78-0f3df0ef0fa3",
   "metadata": {},
   "outputs": [],
   "source": [
    "context.web3.eth.get_block(context.block_number)['gasUsed']"
   ]
  },
  {
   "cell_type": "markdown",
   "id": "2b937e10-c4eb-4194-ae7f-337ff4b1c333",
   "metadata": {},
   "source": [
    "### 2. Use models\n",
    "\n",
    "1. Type `models.` and hit `TAB` key, a list of models will be pop up.\n",
    "2. Select a model and type ? will show description and help, `models.token.info?`\n",
    "3. Show the list of models wiht `dir(models)`, or `model_loader.loaded_model_versions()` with version information.\n",
    "4. If you have updated any model in the folder on disk, run `model_loader.reload()` to refresh."
   ]
  },
  {
   "cell_type": "code",
   "execution_count": null,
   "id": "426d0aef-c177-41f1-a9d5-b395812e31bc",
   "metadata": {},
   "outputs": [],
   "source": [
    "dir(models)"
   ]
  },
  {
   "cell_type": "code",
   "execution_count": null,
   "id": "8fb4423c-a210-4d6d-986d-8ba457b3e452",
   "metadata": {},
   "outputs": [],
   "source": [
    "models.token.info?"
   ]
  },
  {
   "cell_type": "code",
   "execution_count": null,
   "id": "98d3cce4-33de-4508-b98f-8e1f89df9620",
   "metadata": {},
   "outputs": [],
   "source": [
    "model_loader.reload()"
   ]
  },
  {
   "cell_type": "markdown",
   "id": "1556a38d-521d-4a1d-970f-de4cf555eade",
   "metadata": {},
   "source": [
    "## 3. Create and use types"
   ]
  },
  {
   "cell_type": "markdown",
   "id": "d0155480-f17e-4d72-bbe6-757dfa898e32",
   "metadata": {},
   "source": [
    "### 3.1 Example - get price for USDC"
   ]
  },
  {
   "cell_type": "code",
   "execution_count": null,
   "id": "de5b809b-da27-4dd2-801d-358e8d06423c",
   "metadata": {},
   "outputs": [],
   "source": [
    "usdt = Token(address='0xdAC17F958D2ee523a2206206994597C13D831ec7')\n",
    "print('USDT decimals:', usdt.decimals)\n",
    "models.chainlink.price_by_ens({'domain': 'usdt-usd.data.eth'})"
   ]
  },
  {
   "cell_type": "code",
   "execution_count": null,
   "id": "720790e0-c67b-4841-b4aa-a5a77c3d759a",
   "metadata": {},
   "outputs": [],
   "source": [
    "models(get_block(get_dt(2022, 5, 3))).chainlink.price_by_ens({'domain': 'usdt-usd.data.eth'})"
   ]
  },
  {
   "cell_type": "code",
   "execution_count": null,
   "id": "07a82f61-1336-41ec-80bb-a96504e7040a",
   "metadata": {},
   "outputs": [],
   "source": [
    "models(get_block(get_dt(2022, 5, 3))).chainlink.price_by_registry(base=usdt)"
   ]
  },
  {
   "cell_type": "markdown",
   "id": "2d72790e-4221-4f93-9ed2-51ec8cf980ed",
   "metadata": {},
   "source": [
    "### 3.1 Run a model"
   ]
  },
  {
   "cell_type": "markdown",
   "id": "f012e4fc-699c-4dd2-a6a3-223501cc878a",
   "metadata": {},
   "source": [
    "#### Run as of current block"
   ]
  },
  {
   "cell_type": "code",
   "execution_count": null,
   "id": "7871dcbe-9891-475c-a7a3-21c90d771719",
   "metadata": {},
   "outputs": [],
   "source": [
    "aave = Token(symbol='AAVE')\n",
    "\n",
    "print(block_number,\n",
    "      block_number.timestamp_datetime,\n",
    "      'models:', context.models.price.quote(base=aave, return_type=Price).price,\n",
    "      'run_model:', context.run_model('price.quote', input={'base': aave}, return_type=Price).price)"
   ]
  },
  {
   "cell_type": "markdown",
   "id": "f1799e9f-49e1-463d-8021-39ef6c0d5acd",
   "metadata": {},
   "source": [
    "#### Run as of past blocks"
   ]
  },
  {
   "cell_type": "code",
   "execution_count": null,
   "id": "194dc669-76f3-4182-86ee-37faef331818",
   "metadata": {},
   "outputs": [],
   "source": [
    "context.block_number.timestamp_datetime"
   ]
  },
  {
   "cell_type": "code",
   "execution_count": null,
   "id": "17c172ff-e4aa-4f70-9813-be0587c42e5c",
   "metadata": {},
   "outputs": [],
   "source": [
    "for dt in [get_dt(2022, 5, 3), get_dt(2022, 5, 9), get_dt(2022, 1, 1)]:\n",
    "    block = get_block(dt)\n",
    "    print(block,\n",
    "          block.timestamp_datetime,\n",
    "          'models:', context.models(block).price.quote(base=aave, return_type=Price).price,\n",
    "          'run_model:', context.run_model('price.quote', input={'base': aave}, return_type=Price, block_number=block).price)"
   ]
  },
  {
   "cell_type": "markdown",
   "id": "5707b680-dfac-403e-b2c5-0415c74fd816",
   "metadata": {},
   "source": [
    "### 3.2 Travel between different blocks\n",
    "\n",
    "Tavel is one-way only - can only travel to earlier/smaller block numbers, and not to the future/later blocks."
   ]
  },
  {
   "cell_type": "code",
   "execution_count": null,
   "id": "2771ed93-a2f7-41a6-9024-72dc4a16f349",
   "metadata": {},
   "outputs": [],
   "source": [
    "context.block_number = get_block(get_dt(2022, 5, 3))\n",
    "models.price.quote(base=aave, return_type=Price).price,"
   ]
  },
  {
   "cell_type": "code",
   "execution_count": null,
   "id": "bd9b3ac0-7ba1-4ad6-a5ac-e52febcf8141",
   "metadata": {},
   "outputs": [],
   "source": [
    "# Below will gave any error as we wants to travel back\n",
    "# context.block_number = get_block(get_dt(2022, 5, 30))\n",
    "# models.chainlink.price_usd(input=aave, return_type=Price).price"
   ]
  },
  {
   "cell_type": "markdown",
   "id": "f987fba5-518c-431c-9dbd-4e35ffabc753",
   "metadata": {},
   "source": [
    "Instead, create a new context. It will automatically become the current context."
   ]
  },
  {
   "cell_type": "code",
   "execution_count": null,
   "id": "b29ba3c9-916f-4f64-9f6e-32944f67df25",
   "metadata": {},
   "outputs": [],
   "source": [
    "context_old = context.create_context(**params | {'block_number': get_block(get_dt(2022, 4, 3))})\n",
    "context_old.block_number.timestamp_datetime, context.block_number.timestamp_datetime"
   ]
  },
  {
   "cell_type": "markdown",
   "id": "3c32c8d3-8b4f-4f59-a6be-8cdb76311d05",
   "metadata": {},
   "source": [
    "If we would like to use previously defined context, run `context.set_current()` to set it back to the current context.\n",
    "\n",
    "Otherwise, we may encounter error with running model for a block number later than the context."
   ]
  },
  {
   "cell_type": "code",
   "execution_count": null,
   "id": "7f265f9f-deb0-4566-a530-6b6977c37641",
   "metadata": {},
   "outputs": [],
   "source": [
    "context.set_current()"
   ]
  },
  {
   "cell_type": "markdown",
   "id": "decdfa13-5c6e-4c34-af8e-8e126e8e381f",
   "metadata": {},
   "source": [
    "### 4. Ledger"
   ]
  },
  {
   "cell_type": "code",
   "execution_count": null,
   "id": "2d37ca30-ef03-4cf6-a8d0-dbcd03918fe4",
   "metadata": {},
   "outputs": [],
   "source": [
    "with context.ledger.Transaction as q:\n",
    "    df_ledger = (q.select(\n",
    "        columns=[q.BLOCK_HASH,\n",
    "                 q.FROM_ADDRESS,\n",
    "                 q.TO_ADDRESS,\n",
    "                 q.VALUE],\n",
    "        where=q.BLOCK_NUMBER.eq(context.block_number-1000),\n",
    "        order_by=q.BLOCK_TIMESTAMP,\n",
    "        limit=5)\n",
    "             .to_dataframe())\n",
    "df_ledger"
   ]
  },
  {
   "cell_type": "code",
   "execution_count": null,
   "id": "0c4e3245",
   "metadata": {},
   "outputs": [],
   "source": [
    "with context.ledger.Transaction as q:\n",
    "    df_ledger = (q.select(\n",
    "        columns=[q.BLOCK_HASH,\n",
    "                 q.FROM_ADDRESS,\n",
    "                 q.TO_ADDRESS,\n",
    "                 q.VALUE],\n",
    "        where=q.BLOCK_NUMBER.eq(context.block_number-1000),\n",
    "        order_by=q.BLOCK_TIMESTAMP,\n",
    "        limit=5)\n",
    "        .to_dataframe())\n",
    "df_ledger"
   ]
  }
 ],
 "metadata": {
  "kernelspec": {
   "display_name": "Python 3.10.5 ('cmk310')",
   "language": "python",
   "name": "python3"
  },
  "language_info": {
   "codemirror_mode": {
    "name": "ipython",
    "version": 3
   },
   "file_extension": ".py",
   "mimetype": "text/x-python",
   "name": "python",
   "nbconvert_exporter": "python",
   "pygments_lexer": "ipython3",
   "version": "3.10.5"
  },
  "vscode": {
   "interpreter": {
    "hash": "ef3060a66f05e685ce670116a67026aba95afdffb2461d829b3351d07ec51c58"
   }
  }
 },
 "nbformat": 4,
 "nbformat_minor": 5
}
