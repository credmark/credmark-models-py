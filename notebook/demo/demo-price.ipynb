{
    "cells": [
        {
            "cell_type": "markdown",
            "id": "3d5eec77",
            "metadata": {},
            "source": [
                "# Credmark Modeling Framework Example for Jupyter notebook\n",
                "## Price model\n",
                "\n",
                "version: 2022.6.12"
            ]
        },
        {
            "cell_type": "code",
            "execution_count": null,
            "id": "b77380ae-0c7d-4db5-84f9-3670ec85d744",
            "metadata": {},
            "outputs": [],
            "source": [
                "from credmark.cmf.engine.model_loader import ModelLoader\n",
                "from credmark.cmf.engine.context import EngineModelContext\n",
                "\n",
                "from credmark.dto import EmptyInput\n",
                "\n",
                "from credmark.cmf.types import Contract, Token\n",
                "\n",
                "import sys\n",
                "sys.tracebacklimit=0"
            ]
        },
        {
            "cell_type": "markdown",
            "id": "d40edc98",
            "metadata": {},
            "source": [
                "## Initialize\n",
                "\n",
                "<div class=\"alert alert-block alert-info\">\n",
                "    <b>Note:</b> Change to a web3 provider you have in `params`/`chain_to_provider_url` below.\n",
                "</div>"
            ]
        },
        {
            "cell_type": "code",
            "execution_count": null,
            "id": "84d69de1-3bbc-4677-9936-10e4085508c2",
            "metadata": {},
            "outputs": [],
            "source": [
                "model_loader = ModelLoader(['../models'], None, True)\n",
                "\n",
                "params = {'chain_id': 1,\n",
                "          'block_number': None,\n",
                "          'model_loader': model_loader,\n",
                "          'chain_to_provider_url': {'1': 'http://192.168.68.122:10444'},\n",
                "          'api_url': None,\n",
                "          'run_id': None,\n",
                "          'console': True,\n",
                "          'use_local_models': '*' # Or, '*', or '-', or 'model_to_be_run_locally'\n",
                "         }\n",
                "context = EngineModelContext.create_context(**params)"
            ]
        },
        {
            "cell_type": "markdown",
            "id": "cee56038",
            "metadata": {},
            "source": [
                "## Launch Price model"
            ]
        },
        {
            "cell_type": "code",
            "execution_count": null,
            "id": "5e37f678-bd93-4403-acce-b11bd8148e96",
            "metadata": {},
            "outputs": [],
            "source": [
                "test_cases = [\n",
                "    {'base': {'symbol': 'ETH'}, 'quote': {'symbol': 'ETH'}},\n",
                "    {'base': {'symbol': 'ETH'}, 'quote': {'symbol': 'USD'}},\n",
                "    {'base': {'symbol': 'ETH'}, 'quote': {'symbol': 'GBP'}},\n",
                "    {'base': {'symbol': 'ETH'}, 'quote': {'symbol': 'CNY'}},\n",
                "    {'base': {'symbol': 'CNY'}, 'quote': {'symbol': 'ETH'}},    \n",
                "    {'base': {'symbol': 'USD'}, 'quote': {'symbol': 'ETH'}},\n",
                "    {'base': {'symbol': 'GBP'}, 'quote': {'symbol': 'ETH'}},\n",
                "    {'base': {'symbol': 'BTC'}, 'quote': {'symbol': 'CNY'}},\n",
                "    {'base': {'address':'0x767FE9EDC9E0dF98E07454847909b5E959D7ca0E'}, 'quote': {'symbol': 'USD'}}, # ILV\n",
                "    {'base': {'symbol': 'JPY'}, 'quote': {'address':'0x767FE9EDC9E0dF98E07454847909b5E959D7ca0E'}},\n",
                "    {'quote': {'symbol': 'JPY'}, 'base': {'address':'0x767FE9EDC9E0dF98E07454847909b5E959D7ca0E'}},\n",
                "    {'base': {'symbol': 'JPY'}, 'quote': {'address':'0x85f138bfEE4ef8e540890CFb48F620571d67Eda3'}}, # WAVAX\n",
                "    {'base': {'symbol': 'USD'}, 'quote': {'address':'0x85f138bfEE4ef8e540890CFb48F620571d67Eda3'}},\n",
                "    {'quote': {'symbol': 'USD'}, 'base': {'address':'0x85f138bfEE4ef8e540890CFb48F620571d67Eda3'}},\n",
                "    {'quote': {'symbol': 'JPY'}, 'base': {'address':'0x85f138bfEE4ef8e540890CFb48F620571d67Eda3'}},\n",
                "    {'base': {'symbol': 'JPY'}, 'quote': {'address':'0x85f138bfEE4ef8e540890CFb48F620571d67Eda3'}},\n",
                "    {'base': {'symbol': 'CNY'}, 'quote': Token(symbol='USDC')},\n",
                "    {'quote': {'symbol': 'CNY'}, 'base': Token(symbol='DAI')},\n",
                "    {'quote': {'symbol': 'USD'}, 'base': {'address':'0xc00e94Cb662C3520282E6f5717214004A7f26888'}}, # COMP\n",
                "    {'base': {'symbol': 'ETH'}, 'quote': {'address':'0xc00e94Cb662C3520282E6f5717214004A7f26888'}},\n",
                "    {'base': {'symbol': 'CNY'}, 'quote': {'address':'0xc00e94Cb662C3520282E6f5717214004A7f26888'}},\n",
                "    {'quote': {'symbol': 'CNY'}, 'base': {'address':'0xc00e94Cb662C3520282E6f5717214004A7f26888'}},\n",
                "]\n",
                "\n",
                "for case in test_cases:\n",
                "    price = context.models.price.oracle_chainlink(case)\n",
                "    print(f\"{case['base']}/{case['quote']}: {price['price']}\")"
            ]
        },
        {
            "cell_type": "code",
            "execution_count": null,
            "id": "785ed70e",
            "metadata": {},
            "outputs": [],
            "source": []
        }
    ],
    "metadata": {
        "kernelspec": {
            "display_name": "Python 3.10.5 ('cmk310')",
            "language": "python",
            "name": "python3"
        },
        "language_info": {
            "codemirror_mode": {
                "name": "ipython",
                "version": 3
            },
            "file_extension": ".py",
            "mimetype": "text/x-python",
            "name": "python",
            "nbconvert_exporter": "python",
            "pygments_lexer": "ipython3",
            "version": "3.10.5"
        },
        "vscode": {
            "interpreter": {
                "hash": "ef3060a66f05e685ce670116a67026aba95afdffb2461d829b3351d07ec51c58"
            }
        }
    },
    "nbformat": 4,
    "nbformat_minor": 5
}
