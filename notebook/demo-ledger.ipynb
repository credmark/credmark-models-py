{
 "cells": [
  {
   "cell_type": "code",
   "execution_count": 15,
   "id": "b77380ae-0c7d-4db5-84f9-3670ec85d744",
   "metadata": {},
   "outputs": [],
   "source": [
    "from credmark.cmf.engine.model_loader import ModelLoader\n",
    "from credmark.cmf.engine.context import EngineModelContext\n",
    "\n",
    "from credmark.dto import EmptyInput\n",
    "\n",
    "from credmark.cmf.types import Contract, Token, Price, Address, Account, Contracts, Tokens, Accounts\n",
    "\n",
    "from credmark.cmf.types.ledger import (\n",
    "    BlockTable, ContractTable,\n",
    "    LogTable, ReceiptTable, TokenTable, TokenTransferTable,\n",
    "    TraceTable, TransactionTable, LedgerTable,\n",
    "    LedgerAggregate, LedgerModelOutput,\n",
    "    ContractLedger\n",
    ")\n",
    "\n",
    "from credmark.cmf.engine.dev_models.console import get_dt, get_block"
   ]
  },
  {
   "cell_type": "markdown",
   "id": "e24ac2e5-dc6f-42eb-9137-0252d7fc296a",
   "metadata": {},
   "source": [
    "# Initialize"
   ]
  },
  {
   "cell_type": "code",
   "execution_count": 16,
   "id": "84d69de1-3bbc-4677-9936-10e4085508c2",
   "metadata": {},
   "outputs": [],
   "source": [
    "model_loader = ModelLoader(['../models'], None, True)\n",
    "\n",
    "params = {'chain_id': 1,\n",
    "          'block_number': None,\n",
    "          'model_loader': model_loader,\n",
    "          'chain_to_provider_url': {'1': 'https://eth-mainnet.alchemyapi.io/v2/4HREehwJhXq-fkm1llCDGol-swXEXj0L'},\n",
    "          'api_url': None,\n",
    "          'run_id': None,\n",
    "          'console': True,\n",
    "          'use_local_models': '*'\n",
    "         }\n",
    "context = EngineModelContext.create_context(**params)\n",
    "models = context.models\n",
    "ledger = context.ledger\n",
    "block_number = context.block_number\n",
    "chain_id = context.chain_id\n",
    "web3 = context.web3\n",
    "run_model = context.run_model #(model_slug, input=EmptyInput(), return_type=dict)"
   ]
  },
  {
   "cell_type": "markdown",
   "id": "f46cbd0a-75ed-4651-8a0b-393813158aeb",
   "metadata": {},
   "source": [
    "## Ledger Examples"
   ]
  },
  {
   "cell_type": "code",
   "execution_count": null,
   "id": "2d37ca30-ef03-4cf6-a8d0-dbcd03918fe4",
   "metadata": {},
   "outputs": [],
   "source": [
    "contract = Contract(address='0x0d4a11d5EEaaC28EC3F61d100daF4d40471f1852')\n",
    "ret = (contract.ledger.functions.transfer(\n",
    "    columns=[ContractLedger.Functions.InputCol('to')],\n",
    "    aggregates=[\n",
    "        ContractLedger.Aggregate(\n",
    "            f'MAX({ContractLedger.Functions.InputCol(\"value\")})', 'max_value')\n",
    "    ],\n",
    "    group_by=ContractLedger.Functions.InputCol('to'),\n",
    "    order_by='\"max_value\" desc',\n",
    "    limit='5').to_dataframe())\n",
    "ret"
   ]
  },
  {
   "cell_type": "code",
   "execution_count": null,
   "id": "d891dcf7-a560-4728-96c1-9a96624ca9c2",
   "metadata": {},
   "outputs": [],
   "source": [
    "ret = contract.ledger.functions.swap(\n",
    "            columns=[ContractLedger.Functions.InputCol('to')],\n",
    "            aggregates=[\n",
    "                ContractLedger.Aggregate(\n",
    "                    f'MAX({ContractLedger.Functions.InputCol(\"amount0Out\")})', 'max_amount0Out')\n",
    "            ],\n",
    "            group_by=ContractLedger.Functions.InputCol('to'),\n",
    "            order_by='\"max_amount0Out\" desc',\n",
    "            limit='5')"
   ]
  },
  {
   "cell_type": "code",
   "execution_count": null,
   "id": "40629fad-da59-4777-859b-fb7d961c292d",
   "metadata": {},
   "outputs": [],
   "source": [
    "contract = Contract(address='0x0d4a11d5EEaaC28EC3F61d100daF4d40471f1852')\n",
    "ret = contract.ledger.functions.swap(\n",
    "    columns=[ContractLedger.Functions.InputCol('amount0Out'), ContractLedger.Functions.InputCol('amount1Out')],\n",
    "    aggregates=[\n",
    "        ContractLedger.Aggregate(\n",
    "            f'MAX({ContractLedger.Functions.InputCol(\"amount0Out\")})', 'max_amount0Out'),\n",
    "        ContractLedger.Aggregate(\n",
    "            f'MAX({ContractLedger.Functions.InputCol(\"amount1Out\")})', 'max_amount1Out')\n",
    "    ],\n",
    "    )"
   ]
  },
  {
   "cell_type": "code",
   "execution_count": null,
   "id": "05fd487b-ed23-41fb-9a34-eb383f57e6d4",
   "metadata": {},
   "outputs": [],
   "source": [
    "ret = contract.ledger.functions.swap(\n",
    "            columns=[ContractLedger.Functions.InputCol('amount0Out'), ContractLedger.Functions.InputCol('amount1Out')],\n",
    "            order_by='\"amount0Out\" desc',\n",
    "            limit='10'\n",
    "            )"
   ]
  },
  {
   "cell_type": "code",
   "execution_count": null,
   "id": "60b32c59-8ae7-4f27-9c81-773619bca0ee",
   "metadata": {},
   "outputs": [],
   "source": [
    "contract = Contract(address='0x0d4a11d5EEaaC28EC3F61d100daF4d40471f1852')\n",
    "ret = contract.ledger.functions.swap(\n",
    "    columns=[ContractLedger.Functions.InputCol('amount0Out'), ContractLedger.Functions.InputCol('amount1Out')],\n",
    "    )\n"
   ]
  },
  {
   "cell_type": "code",
   "execution_count": null,
   "id": "38ae336a-e906-4641-81ac-07692692a9d7",
   "metadata": {},
   "outputs": [],
   "source": []
  }
 ],
 "metadata": {
  "kernelspec": {
   "display_name": "Python [conda env:cmk310] *",
   "language": "python",
   "name": "conda-env-cmk310-py"
  },
  "language_info": {
   "codemirror_mode": {
    "name": "ipython",
    "version": 3
   },
   "file_extension": ".py",
   "mimetype": "text/x-python",
   "name": "python",
   "nbconvert_exporter": "python",
   "pygments_lexer": "ipython3",
   "version": "3.10.4"
  }
 },
 "nbformat": 4,
 "nbformat_minor": 5
}
