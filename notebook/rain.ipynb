{
 "cells": [
  {
   "cell_type": "code",
   "execution_count": 2,
   "metadata": {},
   "outputs": [],
   "source": [
    "from credmark.cmf.ipython import create_cmf\n",
    "from credmark.cmf.types import Token, Contract, Address, Account, BlockNumber, Records, JoinType\n",
    "import requests\n",
    "import pandas as pd\n",
    "from dotenv import load_dotenv\n",
    "import os\n",
    "\n",
    "cmf_param = {\n",
    "    'chain_id': 1,\n",
    "}\n",
    "\n",
    "context, _model_loader = create_cmf(cmf_param)"
   ]
  },
  {
   "cell_type": "code",
   "execution_count": 32,
   "metadata": {},
   "outputs": [
    {
     "data": {
      "text/plain": [
       "<web3.contract.contract.ContractFunctions at 0x136f1ffe0>"
      ]
     },
     "execution_count": 32,
     "metadata": {},
     "output_type": "execute_result"
    }
   ],
   "source": [
    "rain_mainnet_factory = Contract('0x389c6f04D39fF038cC99F94BcE338D2f5Eb64a67')\n",
    "rain_factory_proxy = Contract('0x31EBf70312f488D0bdAc374b340f0D01dBf153B5')\n",
    "\n",
    "rain_controller = Contract('0xE5D3d7da4b24bc9D2FDA0e206680CD8A00C0FeBD')\n",
    "usdc_addr = Token(\"USDC\")\n",
    "\n",
    "load_dotenv()\n",
    "\n",
    "RAIN_DEVELOPER_API_KEY = os.environ.get('RAIN_DEVELOPER_API_KEY')\n",
    "RAIN_CARD_SPEND_ENDPOINT = os.environ.get('RAIN_CARD_SPEND_ENDPOINT')\n",
    "\n",
    "\n",
    "start_date = BlockNumber.from_ymd(2023, 4, 21)\n",
    "current_date=context.block_number\n",
    "usdc_addr.functions."
   ]
  },
  {
   "cell_type": "code",
   "execution_count": 29,
   "metadata": {},
   "outputs": [
    {
     "data": {
      "text/plain": [
       "LedgerQueryContractEvents(['block_number', 'block_timestamp', 'contract_address', 'log_index', 'signature', 'transaction_hash', 'evt__collateralProxy', 'evt__name', 'evt__user'])"
      ]
     },
     "execution_count": 29,
     "metadata": {},
     "output_type": "execute_result"
    }
   ],
   "source": [
    "# rain_mainnet_factory.ledger.events.NewRainCollateral\n",
    "rain_factory_proxy.ledger.events.NewRainCollateral"
   ]
  },
  {
   "cell_type": "code",
   "execution_count": 38,
   "metadata": {},
   "outputs": [
    {
     "name": "stdout",
     "output_type": "stream",
     "text": [
      "Index(['evt__collateralProxy'], dtype='object')\n",
      "0\n",
      "0\n",
      "1800000000\n",
      "0\n",
      "0\n",
      "0\n",
      "0\n",
      "0\n",
      "0\n",
      "0\n",
      "0\n",
      "0\n",
      "0\n",
      "0\n",
      "0\n",
      "0\n",
      "0\n",
      "0\n",
      "0\n",
      "9000000000\n",
      "0\n",
      "0\n",
      "0\n",
      "0\n",
      "0\n",
      "74465700000\n",
      "0\n",
      "0\n",
      "0\n",
      "0\n",
      "0\n",
      "0\n",
      "0\n",
      "0\n",
      "0\n",
      "0\n",
      "0\n",
      "0\n",
      "948550000\n",
      "0\n",
      "0\n",
      "0\n",
      "0\n",
      "0\n",
      "0\n",
      "0\n",
      "0\n",
      "0\n",
      "0\n",
      "0\n"
     ]
    }
   ],
   "source": [
    "with rain_factory_proxy.ledger.events.NewRainCollateral as q:\n",
    "    res = q.select(columns=[q.EVT__COLLATERALPROXY],\n",
    "                    order_by=q.BLOCK_NUMBER.desc(),\n",
    "                    limit=1000).to_dataframe()\n",
    "    \n",
    "print(res.columns)\n",
    "\n",
    "# iterate through each row in res\n",
    "\n",
    "# for each row, get the balance of the collateral proxy\n",
    "\n",
    "for index, row in res.iterrows():\n",
    "    # print(row['evt__collateralProxy'])\n",
    "    collateral_proxy = Address(row['evt__collateralProxy'])\n",
    "    balance = usdc_addr.functions.balanceOf(collateral_proxy).call()\n",
    "    print(balance)\n",
    "    # with collateral_proxy.balance_of(usdc_addr) as q:\n",
    "    #     res = q.select(columns=[q.EVT__VALUE],\n",
    "    #                 order_by=q.BLOCK_NUMBER.desc(),\n",
    "    #                 limit=200).to_dataframe()\n",
    "    # print(res)\n",
    "    # # iterate through each row in res\n",
    "    # # for each row, get the balance of the collateral proxy\n",
    "    # for index, row in res.iterrows():\n",
    "    #     print(row['VALUE'])\n",
    "    #     # if the balance is greater than 0, then we need to call the rain card spend endpoint\n",
    "    #     if row['VALUE'] > 0:\n",
    "    #         print('calling rain card spend endpoint')\n",
    "    #         # call the rain card spend endpoint\n",
    "\n"
   ]
  },
  {
   "cell_type": "code",
   "execution_count": 75,
   "metadata": {},
   "outputs": [
    {
     "data": {
      "text/plain": [
       "LedgerQueryContractEvents(['block_number', 'block_timestamp', 'contract_address', 'log_index', 'signature', 'transaction_hash', 'evt__collateralProxy', 'evt__assets', 'evt__amounts'])"
      ]
     },
     "execution_count": 75,
     "metadata": {},
     "output_type": "execute_result"
    }
   ],
   "source": [
    "rain_controller.ledger.events.Liquidation"
   ]
  },
  {
   "cell_type": "code",
   "execution_count": null,
   "metadata": {},
   "outputs": [],
   "source": [
    "with rain_controller.ledger.events.Liquidation as q:\n",
    "    liquidations = (q.select(\n",
    "        columns=[\n",
    "            q.EVT__COLLATERALPROXY,\n",
    "            q.EVT__AMOUNTS\n",
    "        ],\n",
    "        where=q.BLOCK_NUMBER.between_(start_date, current_date)\n",
    "    )).to_dataframe()\n",
    "\n",
    "display(liquidations)"
   ]
  },
  {
   "cell_type": "code",
   "execution_count": 76,
   "metadata": {},
   "outputs": [
    {
     "data": {
      "text/plain": [
       "LedgerQueryContractEvents(['block_number', 'block_timestamp', 'contract_address', 'log_index', 'signature', 'transaction_hash', 'evt__collateralProxy', 'evt__assets', 'evt__amounts'])"
      ]
     },
     "execution_count": 76,
     "metadata": {},
     "output_type": "execute_result"
    }
   ],
   "source": [
    "rain_controller.ledger.events.Payment"
   ]
  },
  {
   "cell_type": "code",
   "execution_count": null,
   "metadata": {},
   "outputs": [],
   "source": [
    "with rain_controller.ledger.events.Payment as q:\n",
    "    payments = (q.select(\n",
    "        columns=[\n",
    "            q.EVT__COLLATERALPROXY,\n",
    "            q.EVT__AMOUNTS\n",
    "        ],\n",
    "        where=q.BLOCK_NUMBER.between_(start_date, current_date)\n",
    "    )).to_dataframe()\n",
    "\n",
    "display(payments)"
   ]
  },
  {
   "cell_type": "code",
   "execution_count": 79,
   "metadata": {},
   "outputs": [
    {
     "data": {
      "text/plain": [
       "LedgerQueryContractEvents(['block_number', 'block_timestamp', 'contract_address', 'log_index', 'signature', 'transaction_hash', 'evt__collateralProxy', 'evt__asset', 'evt__amount'])"
      ]
     },
     "execution_count": 79,
     "metadata": {},
     "output_type": "execute_result"
    }
   ],
   "source": [
    "rain_controller.ledger.events.Withdrawal"
   ]
  },
  {
   "cell_type": "code",
   "execution_count": null,
   "metadata": {},
   "outputs": [],
   "source": [
    "with rain_controller.ledger.events.Withdrawal as q:\n",
    "    withdrawals = (q.select(\n",
    "        columns=[\n",
    "            q.EVT__COLLATERALPROXY,\n",
    "            q.EVT__AMOUNT\n",
    "        ],\n",
    "        where=q.BLOCK_NUMBER.between_(start_date, current_date)\n",
    "    )).to_dataframe()\n",
    "\n",
    "display(withdrawals)"
   ]
  },
  {
   "cell_type": "code",
   "execution_count": 39,
   "metadata": {},
   "outputs": [],
   "source": [
    "def get_card_spend_dataframe():\n",
    "    # Headers (if required)\n",
    "    headers = {\n",
    "        'API-Key': RAIN_DEVELOPER_API_KEY,\n",
    "        'accept': 'application/json'\n",
    "    }\n",
    "\n",
    "    # Make the GET request\n",
    "    response = requests.get(RAIN_CARD_SPEND_ENDPOINT, headers=headers)\n",
    "\n",
    "    # Check if the request was successful\n",
    "    if response.status_code == 200:\n",
    "        # Process the response if successful\n",
    "        data = response.json()\n",
    "        print(data)\n",
    "    else:\n",
    "        # Handle errors (you can print or log the error response)\n",
    "        print(f\"Error: {response.status_code}\")\n",
    "\n",
    "    # create dataframe\n",
    "    df = pd.DataFrame([data])\n",
    "\n",
    "    # add date column\n",
    "    df.insert(0, 'date', current_date)\n",
    "\n",
    "\n",
    "    # drop dueBalance\n",
    "    df = df.drop(columns=['dueBalance'])\n",
    "    \n",
    "    # add totalBalance\n",
    "    df['totalBalance'] = df['pendingBalance'] + df['postedBalance']\n",
    "    \n",
    "    return df"
   ]
  },
  {
   "cell_type": "code",
   "execution_count": 21,
   "metadata": {},
   "outputs": [
    {
     "name": "stdout",
     "output_type": "stream",
     "text": [
      "{'pendingBalance': 598753, 'postedBalance': 45042271, 'dueBalance': 127662}\n"
     ]
    }
   ],
   "source": [
    "latest_card_spend_df = get_card_spend_dataframe()"
   ]
  }
 ],
 "metadata": {
  "kernelspec": {
   "display_name": "venv",
   "language": "python",
   "name": "python3"
  },
  "language_info": {
   "codemirror_mode": {
    "name": "ipython",
    "version": 3
   },
   "file_extension": ".py",
   "mimetype": "text/x-python",
   "name": "python",
   "nbconvert_exporter": "python",
   "pygments_lexer": "ipython3",
   "version": "3.12.1"
  }
 },
 "nbformat": 4,
 "nbformat_minor": 2
}
