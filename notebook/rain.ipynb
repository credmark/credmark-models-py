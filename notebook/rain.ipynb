{
 "cells": [
  {
   "cell_type": "code",
   "execution_count": 18,
   "metadata": {},
   "outputs": [],
   "source": [
    "from credmark.cmf.ipython import create_cmf\n",
    "from credmark.cmf.types import Token, Contract, Address, Account, BlockNumber, Records, JoinType\n",
    "import requests\n",
    "import pandas as pd\n",
    "from dotenv import load_dotenv\n",
    "import os\n",
    "\n",
    "cmf_param = {\n",
    "    'chain_id': 1,\n",
    "}\n",
    "\n",
    "context, _model_loader = create_cmf(cmf_param)"
   ]
  },
  {
   "cell_type": "code",
   "execution_count": 19,
   "metadata": {},
   "outputs": [
    {
     "name": "stdout",
     "output_type": "stream",
     "text": [
      "17091074\n",
      "18879322\n"
     ]
    }
   ],
   "source": [
    "rain_mainnet_factory = Contract('0x389c6f04D39fF038cC99F94BcE338D2f5Eb64a67')\n",
    "rain_factory_proxy = Contract('0x31EBf70312f488D0bdAc374b340f0D01dBf153B5')\n",
    "rain_controller = Contract('0xE5D3d7da4b24bc9D2FDA0e206680CD8A00C0FeBD')\n",
    "usdc_addr = Token(\"USDC\").address\n",
    "\n",
    "load_dotenv()\n",
    "\n",
    "RAIN_DEVELOPER_API_KEY = os.environ.get('RAIN_DEVELOPER_API_KEY')\n",
    "RAIN_CARD_SPEND_ENDPOINT = os.environ.get('RAIN_CARD_SPEND_ENDPOINT')\n",
    "\n",
    "\n",
    "start_date = BlockNumber.from_ymd(2023, 4, 21)\n",
    "current_date=context.block_number\n",
    "print(start_date)\n",
    "print(current_date)"
   ]
  },
  {
   "cell_type": "code",
   "execution_count": 9,
   "metadata": {},
   "outputs": [
    {
     "data": {
      "text/plain": [
       "LedgerQueryContractEvents(['block_number', 'block_timestamp', 'contract_address', 'log_index', 'signature', 'transaction_hash', 'evt_previousOwner', 'evt_newOwner'])"
      ]
     },
     "execution_count": 9,
     "metadata": {},
     "output_type": "execute_result"
    }
   ],
   "source": [
    "# rain_mainnet_factory.ledger.events.NewRainCollateral\n",
    "rain_factory_proxy.ledger.events.OwnershipTransferred"
   ]
  },
  {
   "cell_type": "code",
   "execution_count": 10,
   "metadata": {},
   "outputs": [
    {
     "name": "stdout",
     "output_type": "stream",
     "text": [
      "Empty DataFrame\n",
      "Columns: []\n",
      "Index: []\n"
     ]
    }
   ],
   "source": [
    "with rain_factory_proxy.ledger.events.OwnershipTransferred as q:\n",
    "    contracts = (q.select(\n",
    "        columns=[\n",
    "            q.BLOCK_TIMESTAMP,\n",
    "        ],\n",
    "        limit=1000,\n",
    "        order_by=q.BLOCK_TIMESTAMP.desc()\n",
    "    )).to_dataframe()\n",
    "\n",
    "print(contracts)"
   ]
  },
  {
   "cell_type": "code",
   "execution_count": null,
   "metadata": {},
   "outputs": [],
   "source": []
  },
  {
   "cell_type": "code",
   "execution_count": 75,
   "metadata": {},
   "outputs": [
    {
     "data": {
      "text/plain": [
       "LedgerQueryContractEvents(['block_number', 'block_timestamp', 'contract_address', 'log_index', 'signature', 'transaction_hash', 'evt__collateralProxy', 'evt__assets', 'evt__amounts'])"
      ]
     },
     "execution_count": 75,
     "metadata": {},
     "output_type": "execute_result"
    }
   ],
   "source": [
    "rain_controller.ledger.events.Liquidation"
   ]
  },
  {
   "cell_type": "code",
   "execution_count": 4,
   "metadata": {},
   "outputs": [
    {
     "data": {
      "text/html": [
       "<div>\n",
       "<style scoped>\n",
       "    .dataframe tbody tr th:only-of-type {\n",
       "        vertical-align: middle;\n",
       "    }\n",
       "\n",
       "    .dataframe tbody tr th {\n",
       "        vertical-align: top;\n",
       "    }\n",
       "\n",
       "    .dataframe thead th {\n",
       "        text-align: right;\n",
       "    }\n",
       "</style>\n",
       "<table border=\"1\" class=\"dataframe\">\n",
       "  <thead>\n",
       "    <tr style=\"text-align: right;\">\n",
       "      <th></th>\n",
       "      <th>evt__collateralProxy</th>\n",
       "      <th>evt__amounts</th>\n",
       "    </tr>\n",
       "  </thead>\n",
       "  <tbody>\n",
       "    <tr>\n",
       "      <th>0</th>\n",
       "      <td>0x7f1bb3f9ca503c3132b45669e75edc79f4baabb9</td>\n",
       "      <td>[\"253900000\"]</td>\n",
       "    </tr>\n",
       "    <tr>\n",
       "      <th>1</th>\n",
       "      <td>0x992b2a3a73b06c6349bd242ac72b40ed518f1b4f</td>\n",
       "      <td>[\"463510000\"]</td>\n",
       "    </tr>\n",
       "    <tr>\n",
       "      <th>2</th>\n",
       "      <td>0x89a2cca572e71066e70a615630a15857d9b797a7</td>\n",
       "      <td>[\"202950000\"]</td>\n",
       "    </tr>\n",
       "    <tr>\n",
       "      <th>3</th>\n",
       "      <td>0x8fb0d9b49b8493cf77c6ae70d40d34a81078f29a</td>\n",
       "      <td>[\"15264070000\"]</td>\n",
       "    </tr>\n",
       "    <tr>\n",
       "      <th>4</th>\n",
       "      <td>0x8a93abe5b96d0bfe71304817f0cc98bff0b8799e</td>\n",
       "      <td>[\"1765510000\"]</td>\n",
       "    </tr>\n",
       "    <tr>\n",
       "      <th>...</th>\n",
       "      <td>...</td>\n",
       "      <td>...</td>\n",
       "    </tr>\n",
       "    <tr>\n",
       "      <th>217</th>\n",
       "      <td>0x5c82f4928899a91752083dd8f1b6d8bf23d4eeb2</td>\n",
       "      <td>[\"1004060000\"]</td>\n",
       "    </tr>\n",
       "    <tr>\n",
       "      <th>218</th>\n",
       "      <td>0xa9391ecfa305a260d524011586fbf50168a1078e</td>\n",
       "      <td>[\"5870000\"]</td>\n",
       "    </tr>\n",
       "    <tr>\n",
       "      <th>219</th>\n",
       "      <td>0x9bf0fa5bbd9448190c9cbfe3ade8d7466913d861</td>\n",
       "      <td>[\"29385880000\"]</td>\n",
       "    </tr>\n",
       "    <tr>\n",
       "      <th>220</th>\n",
       "      <td>0xbaf9c4b4318aefcd3a7c2abec68efe567c797d74</td>\n",
       "      <td>[\"50340000\"]</td>\n",
       "    </tr>\n",
       "    <tr>\n",
       "      <th>221</th>\n",
       "      <td>0xbaf9c4b4318aefcd3a7c2abec68efe567c797d74</td>\n",
       "      <td>[\"50340000\"]</td>\n",
       "    </tr>\n",
       "  </tbody>\n",
       "</table>\n",
       "<p>222 rows × 2 columns</p>\n",
       "</div>"
      ],
      "text/plain": [
       "                           evt__collateralProxy     evt__amounts\n",
       "0    0x7f1bb3f9ca503c3132b45669e75edc79f4baabb9    [\"253900000\"]\n",
       "1    0x992b2a3a73b06c6349bd242ac72b40ed518f1b4f    [\"463510000\"]\n",
       "2    0x89a2cca572e71066e70a615630a15857d9b797a7    [\"202950000\"]\n",
       "3    0x8fb0d9b49b8493cf77c6ae70d40d34a81078f29a  [\"15264070000\"]\n",
       "4    0x8a93abe5b96d0bfe71304817f0cc98bff0b8799e   [\"1765510000\"]\n",
       "..                                          ...              ...\n",
       "217  0x5c82f4928899a91752083dd8f1b6d8bf23d4eeb2   [\"1004060000\"]\n",
       "218  0xa9391ecfa305a260d524011586fbf50168a1078e      [\"5870000\"]\n",
       "219  0x9bf0fa5bbd9448190c9cbfe3ade8d7466913d861  [\"29385880000\"]\n",
       "220  0xbaf9c4b4318aefcd3a7c2abec68efe567c797d74     [\"50340000\"]\n",
       "221  0xbaf9c4b4318aefcd3a7c2abec68efe567c797d74     [\"50340000\"]\n",
       "\n",
       "[222 rows x 2 columns]"
      ]
     },
     "metadata": {},
     "output_type": "display_data"
    }
   ],
   "source": [
    "with rain_controller.ledger.events.Liquidation as q:\n",
    "    liquidations = (q.select(\n",
    "        columns=[\n",
    "            q.EVT__COLLATERALPROXY,\n",
    "            q.EVT__AMOUNTS\n",
    "        ],\n",
    "        where=q.BLOCK_NUMBER.between_(start_date, current_date)\n",
    "    )).to_dataframe()\n",
    "\n",
    "display(liquidations)"
   ]
  },
  {
   "cell_type": "code",
   "execution_count": 76,
   "metadata": {},
   "outputs": [
    {
     "data": {
      "text/plain": [
       "LedgerQueryContractEvents(['block_number', 'block_timestamp', 'contract_address', 'log_index', 'signature', 'transaction_hash', 'evt__collateralProxy', 'evt__assets', 'evt__amounts'])"
      ]
     },
     "execution_count": 76,
     "metadata": {},
     "output_type": "execute_result"
    }
   ],
   "source": [
    "rain_controller.ledger.events.Payment"
   ]
  },
  {
   "cell_type": "code",
   "execution_count": 5,
   "metadata": {},
   "outputs": [
    {
     "data": {
      "text/html": [
       "<div>\n",
       "<style scoped>\n",
       "    .dataframe tbody tr th:only-of-type {\n",
       "        vertical-align: middle;\n",
       "    }\n",
       "\n",
       "    .dataframe tbody tr th {\n",
       "        vertical-align: top;\n",
       "    }\n",
       "\n",
       "    .dataframe thead th {\n",
       "        text-align: right;\n",
       "    }\n",
       "</style>\n",
       "<table border=\"1\" class=\"dataframe\">\n",
       "  <thead>\n",
       "    <tr style=\"text-align: right;\">\n",
       "      <th></th>\n",
       "      <th>evt__collateralProxy</th>\n",
       "      <th>evt__amounts</th>\n",
       "    </tr>\n",
       "  </thead>\n",
       "  <tbody>\n",
       "    <tr>\n",
       "      <th>0</th>\n",
       "      <td>0x96b0f723cdc78332c2cf201568db22f6e556feb2</td>\n",
       "      <td>[\"51450000\"]</td>\n",
       "    </tr>\n",
       "    <tr>\n",
       "      <th>1</th>\n",
       "      <td>0x443bff886be2658655a32c1b2008fb432d7df0ce</td>\n",
       "      <td>[\"5000000000\"]</td>\n",
       "    </tr>\n",
       "    <tr>\n",
       "      <th>2</th>\n",
       "      <td>0x9bf0fa5bbd9448190c9cbfe3ade8d7466913d861</td>\n",
       "      <td>[\"1000000\"]</td>\n",
       "    </tr>\n",
       "    <tr>\n",
       "      <th>3</th>\n",
       "      <td>0x9bf0fa5bbd9448190c9cbfe3ade8d7466913d861</td>\n",
       "      <td>[\"1000000\"]</td>\n",
       "    </tr>\n",
       "    <tr>\n",
       "      <th>4</th>\n",
       "      <td>0xfc5bdc681bbd87f81b668db6b4541fc67e0d0039</td>\n",
       "      <td>[\"19377230000\"]</td>\n",
       "    </tr>\n",
       "    <tr>\n",
       "      <th>5</th>\n",
       "      <td>0xbaf9c4b4318aefcd3a7c2abec68efe567c797d74</td>\n",
       "      <td>[\"1000000\"]</td>\n",
       "    </tr>\n",
       "  </tbody>\n",
       "</table>\n",
       "</div>"
      ],
      "text/plain": [
       "                         evt__collateralProxy     evt__amounts\n",
       "0  0x96b0f723cdc78332c2cf201568db22f6e556feb2     [\"51450000\"]\n",
       "1  0x443bff886be2658655a32c1b2008fb432d7df0ce   [\"5000000000\"]\n",
       "2  0x9bf0fa5bbd9448190c9cbfe3ade8d7466913d861      [\"1000000\"]\n",
       "3  0x9bf0fa5bbd9448190c9cbfe3ade8d7466913d861      [\"1000000\"]\n",
       "4  0xfc5bdc681bbd87f81b668db6b4541fc67e0d0039  [\"19377230000\"]\n",
       "5  0xbaf9c4b4318aefcd3a7c2abec68efe567c797d74      [\"1000000\"]"
      ]
     },
     "metadata": {},
     "output_type": "display_data"
    }
   ],
   "source": [
    "with rain_controller.ledger.events.Payment as q:\n",
    "    payments = (q.select(\n",
    "        columns=[\n",
    "            q.EVT__COLLATERALPROXY,\n",
    "            q.EVT__AMOUNTS\n",
    "        ],\n",
    "        where=q.BLOCK_NUMBER.between_(start_date, current_date)\n",
    "    )).to_dataframe()\n",
    "\n",
    "display(payments)"
   ]
  },
  {
   "cell_type": "code",
   "execution_count": 79,
   "metadata": {},
   "outputs": [
    {
     "data": {
      "text/plain": [
       "LedgerQueryContractEvents(['block_number', 'block_timestamp', 'contract_address', 'log_index', 'signature', 'transaction_hash', 'evt__collateralProxy', 'evt__asset', 'evt__amount'])"
      ]
     },
     "execution_count": 79,
     "metadata": {},
     "output_type": "execute_result"
    }
   ],
   "source": [
    "rain_controller.ledger.events.Withdrawal"
   ]
  },
  {
   "cell_type": "code",
   "execution_count": 6,
   "metadata": {},
   "outputs": [
    {
     "data": {
      "text/html": [
       "<div>\n",
       "<style scoped>\n",
       "    .dataframe tbody tr th:only-of-type {\n",
       "        vertical-align: middle;\n",
       "    }\n",
       "\n",
       "    .dataframe tbody tr th {\n",
       "        vertical-align: top;\n",
       "    }\n",
       "\n",
       "    .dataframe thead th {\n",
       "        text-align: right;\n",
       "    }\n",
       "</style>\n",
       "<table border=\"1\" class=\"dataframe\">\n",
       "  <thead>\n",
       "    <tr style=\"text-align: right;\">\n",
       "      <th></th>\n",
       "      <th>evt__collateralProxy</th>\n",
       "      <th>evt__amount</th>\n",
       "    </tr>\n",
       "  </thead>\n",
       "  <tbody>\n",
       "    <tr>\n",
       "      <th>0</th>\n",
       "      <td>0xa22ed5dd6fcea83cf3463a999f0f04857b6a6e70</td>\n",
       "      <td>56500000000</td>\n",
       "    </tr>\n",
       "    <tr>\n",
       "      <th>1</th>\n",
       "      <td>0x443bff886be2658655a32c1b2008fb432d7df0ce</td>\n",
       "      <td>30060000000</td>\n",
       "    </tr>\n",
       "    <tr>\n",
       "      <th>2</th>\n",
       "      <td>0xbfce5d28299094075f1aec692ebbf147ff553fd4</td>\n",
       "      <td>125534300000</td>\n",
       "    </tr>\n",
       "    <tr>\n",
       "      <th>3</th>\n",
       "      <td>0x443bff886be2658655a32c1b2008fb432d7df0ce</td>\n",
       "      <td>30345500000</td>\n",
       "    </tr>\n",
       "    <tr>\n",
       "      <th>4</th>\n",
       "      <td>0xf9ab50a2ac37d0c1d72b4ca800b7906d15d6593d</td>\n",
       "      <td>7014000000</td>\n",
       "    </tr>\n",
       "    <tr>\n",
       "      <th>...</th>\n",
       "      <td>...</td>\n",
       "      <td>...</td>\n",
       "    </tr>\n",
       "    <tr>\n",
       "      <th>92</th>\n",
       "      <td>0xbaf9c4b4318aefcd3a7c2abec68efe567c797d74</td>\n",
       "      <td>1010000</td>\n",
       "    </tr>\n",
       "    <tr>\n",
       "      <th>93</th>\n",
       "      <td>0x9bf0fa5bbd9448190c9cbfe3ade8d7466913d861</td>\n",
       "      <td>1000000</td>\n",
       "    </tr>\n",
       "    <tr>\n",
       "      <th>94</th>\n",
       "      <td>0xbaf9c4b4318aefcd3a7c2abec68efe567c797d74</td>\n",
       "      <td>1000000</td>\n",
       "    </tr>\n",
       "    <tr>\n",
       "      <th>95</th>\n",
       "      <td>0xbaf9c4b4318aefcd3a7c2abec68efe567c797d74</td>\n",
       "      <td>1000000</td>\n",
       "    </tr>\n",
       "    <tr>\n",
       "      <th>96</th>\n",
       "      <td>0xbaf9c4b4318aefcd3a7c2abec68efe567c797d74</td>\n",
       "      <td>1000000</td>\n",
       "    </tr>\n",
       "  </tbody>\n",
       "</table>\n",
       "<p>97 rows × 2 columns</p>\n",
       "</div>"
      ],
      "text/plain": [
       "                          evt__collateralProxy   evt__amount\n",
       "0   0xa22ed5dd6fcea83cf3463a999f0f04857b6a6e70   56500000000\n",
       "1   0x443bff886be2658655a32c1b2008fb432d7df0ce   30060000000\n",
       "2   0xbfce5d28299094075f1aec692ebbf147ff553fd4  125534300000\n",
       "3   0x443bff886be2658655a32c1b2008fb432d7df0ce   30345500000\n",
       "4   0xf9ab50a2ac37d0c1d72b4ca800b7906d15d6593d    7014000000\n",
       "..                                         ...           ...\n",
       "92  0xbaf9c4b4318aefcd3a7c2abec68efe567c797d74       1010000\n",
       "93  0x9bf0fa5bbd9448190c9cbfe3ade8d7466913d861       1000000\n",
       "94  0xbaf9c4b4318aefcd3a7c2abec68efe567c797d74       1000000\n",
       "95  0xbaf9c4b4318aefcd3a7c2abec68efe567c797d74       1000000\n",
       "96  0xbaf9c4b4318aefcd3a7c2abec68efe567c797d74       1000000\n",
       "\n",
       "[97 rows x 2 columns]"
      ]
     },
     "metadata": {},
     "output_type": "display_data"
    }
   ],
   "source": [
    "with rain_controller.ledger.events.Withdrawal as q:\n",
    "    withdrawals = (q.select(\n",
    "        columns=[\n",
    "            q.EVT__COLLATERALPROXY,\n",
    "            q.EVT__AMOUNT\n",
    "        ],\n",
    "        where=q.BLOCK_NUMBER.between_(start_date, current_date)\n",
    "    )).to_dataframe()\n",
    "\n",
    "display(withdrawals)"
   ]
  },
  {
   "cell_type": "code",
   "execution_count": 20,
   "metadata": {},
   "outputs": [],
   "source": [
    "def get_card_spend_dataframe():\n",
    "    # Headers (if required)\n",
    "    headers = {\n",
    "        'API-Key': RAIN_DEVELOPER_API_KEY,\n",
    "        'accept': 'application/json'\n",
    "    }\n",
    "\n",
    "    # Make the GET request\n",
    "    response = requests.get(RAIN_CARD_SPEND_ENDPOINT, headers=headers)\n",
    "\n",
    "    # Check if the request was successful\n",
    "    if response.status_code == 200:\n",
    "        # Process the response if successful\n",
    "        data = response.json()\n",
    "        print(data)\n",
    "    else:\n",
    "        # Handle errors (you can print or log the error response)\n",
    "        print(f\"Error: {response.status_code}\")\n",
    "\n",
    "    # create dataframe\n",
    "    df = pd.DataFrame([data])\n",
    "\n",
    "    # add date column\n",
    "    df.insert(0, 'date', current_date)\n",
    "\n",
    "\n",
    "    # drop dueBalance\n",
    "    df = df.drop(columns=['dueBalance'])\n",
    "    \n",
    "    # add totalBalance\n",
    "    df['totalBalance'] = df['pendingBalance'] + df['postedBalance']\n",
    "    \n",
    "    return df"
   ]
  },
  {
   "cell_type": "code",
   "execution_count": 21,
   "metadata": {},
   "outputs": [
    {
     "name": "stdout",
     "output_type": "stream",
     "text": [
      "{'pendingBalance': 598753, 'postedBalance': 45042271, 'dueBalance': 127662}\n"
     ]
    }
   ],
   "source": [
    "latest_card_spend_df = get_card_spend_dataframe()"
   ]
  }
 ],
 "metadata": {
  "kernelspec": {
   "display_name": "venv",
   "language": "python",
   "name": "python3"
  },
  "language_info": {
   "codemirror_mode": {
    "name": "ipython",
    "version": 3
   },
   "file_extension": ".py",
   "mimetype": "text/x-python",
   "name": "python",
   "nbconvert_exporter": "python",
   "pygments_lexer": "ipython3",
   "version": "3.12.1"
  }
 },
 "nbformat": 4,
 "nbformat_minor": 2
}
