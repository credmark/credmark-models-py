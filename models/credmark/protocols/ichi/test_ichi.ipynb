{
 "cells": [
  {
   "cell_type": "code",
   "execution_count": 2,
   "metadata": {},
   "outputs": [],
   "source": [
    "from credmark.cmf.ipython import create_cmf\n",
    "from credmark.cmf.types import Token, Contract, Address, Account, BlockNumber, Records\n",
    "import models\n",
    "models_path = models.__path__[0]\n",
    "import os\n",
    "\n",
    "fix_block_number = 41354245\n",
    "\n",
    "cmf_param = {\n",
    "    'block_number': fix_block_number,\n",
    "    'chain_id': 137,\n",
    "}\n",
    "\n",
    "context, _model_loader = create_cmf(cmf_param)"
   ]
  },
  {
   "cell_type": "code",
   "execution_count": 3,
   "metadata": {},
   "outputs": [],
   "source": [
    "from models.credmark.protocols.ichi.vaults import ICHI_POLYGON_COINS, ICHI_POLYGON_VAULTS"
   ]
  },
  {
   "cell_type": "code",
   "execution_count": 4,
   "metadata": {},
   "outputs": [
    {
     "name": "stdout",
     "output_type": "stream",
     "text": [
      "('WMATIC', 'Wrapped Matic', 18)\n",
      "('LINK', 'ChainLink Token', 18)\n",
      "('GOVI', 'GOVI (PoS)', 18)\n",
      "('BAL', 'Balancer (PoS)', 18)\n",
      "('GHST', 'Aavegotchi GHST Token (PoS)', 18)\n",
      "('USDC', 'USD Coin (PoS)', 6)\n",
      "('CRV', 'CRV (PoS)', 18)\n",
      "('WETH', 'Wrapped Ether', 18)\n",
      "('SUSHI', 'SushiToken (PoS)', 18)\n",
      "('oneBTC', 'oneBTC', 18)\n",
      "('ICHI', 'ICHI', 18)\n",
      "('DPI', 'DefiPulse Index (PoS)', 18)\n",
      "('WBTC', '(PoS) Wrapped BTC', 8)\n",
      "('TRADE', 'Polytrade (PoS)', 18)\n"
     ]
    }
   ],
   "source": [
    "for coin in ICHI_POLYGON_COINS:\n",
    "    tok = Token(coin).as_erc20(set_loaded=True)\n",
    "    print((tok.symbol, tok.name, tok.decimals))"
   ]
  },
  {
   "cell_type": "code",
   "execution_count": 4,
   "metadata": {},
   "outputs": [],
   "source": [
    "from models.tmp_abi_lookup import ICHI_VAULT, ICHI_VAULT_FACTORY"
   ]
  },
  {
   "cell_type": "code",
   "execution_count": 11,
   "metadata": {},
   "outputs": [],
   "source": [
    "if False:\n",
    "    vault_factory = Contract('0x2d2c72C4dC71AA32D64e5142e336741131A73fc0').set_abi(ICHI_VAULT_FACTORY, set_loaded=True)\n",
    "    vault_created = pd.DataFrame(vault_factory.fetch_events(vault_factory.events.ICHIVaultCreated, from_block=25_697_834, by_range=10_000))\n",
    "    vault_created.to_pickle(os.path.join(models_path, '..', 'tmp', 'vault_created.pkl'))\n",
    "else:\n",
    "    vault_created = pd.read_pickle(os.path.join(models_path, '..', 'tmp', 'vault_created.pkl'))\n",
    "\n",
    "# vault_created.ichiVault.isin(['0xE5bf5D33C617556B91558aAfb7BeadB68E9Cea81'])\n",
    "# '0xE5bf5D33C617556B91558aAfb7BeadB68E9Cea81' in vault_created.ichiVault.to_list()\n",
    "\n",
    "# '0xE5bf5D33C617556B91558aAfb7BeadB68E9Cea81' in ICHI_POLYGON_VAULTS\n",
    "assert len(set(ICHI_POLYGON_VAULTS)) == len(set(vault_created.ichiVault))\n",
    "\n",
    "# context.run_model('token.deployment', {'address': '0x2d2c72C4dC71AA32D64e5142e336741131A73fc0'})"
   ]
  },
  {
   "cell_type": "code",
   "execution_count": 16,
   "metadata": {},
   "outputs": [
    {
     "name": "stdout",
     "output_type": "stream",
     "text": [
      "(0, Contract(address='0x9ff3c1390300918b40714fd464a39699ddd9fe00'), '0x0768A75F616B98ee0937673bD83B7aBF142236Ea', '0x86f1d8390222A3691C28938eC7404A1661E618e0', 'WMATIC', 'WETH', True, False, 203.4025762204604)\n",
      "(1, Contract(address='0x692437de2cae5addd26ccf6650cad722d914d974'), '0x0768A75F616B98ee0937673bD83B7aBF142236Ea', '0x3e31AB7f37c048FC6574189135D108df80F0ea26', 'LINK', 'WETH', True, False, 123.25275146959906)\n",
      "(2, Contract(address='0x70aa3c8e256c859e52c0b8c263f763d9051b95e1'), '0x0768A75F616B98ee0937673bD83B7aBF142236Ea', '0x713A96308455046a61af91bC220eC83fdc920977', 'ICHI', 'GOVI', False, True, 300002.8217032606)\n",
      "(3, Contract(address='0xf461063819ffbc6e22704ade1861b0df3bac9585'), '0x0768A75F616B98ee0937673bD83B7aBF142236Ea', '0x4fe1269a585B141F11C3E144158f9f8823c7C0e7', 'WETH', 'BAL', False, True, 16119.092595672058)\n",
      "(4, Contract(address='0xf3de925524ce6bba606107cfcb2a7a6259cd01ea'), '0x0768A75F616B98ee0937673bD83B7aBF142236Ea', '0x8f16A8E864162ec84a2906646E08a561b5A7f72d', 'GHST', 'WETH', True, False, 82.13628418944886)\n",
      "(5, Contract(address='0x711901e4b9136119fb047abe8c43d49339f161c3'), '0x0768A75F616B98ee0937673bD83B7aBF142236Ea', '0x499277a14d1eDB5583dd070A447dEDA19E7aBf85', 'ICHI', 'USDC', False, True, 1.33347595e-10)\n",
      "(6, Contract(address='0x3ac9b3db3350a515c702ba19a001d099d4a5f132'), '0x0768A75F616B98ee0937673bD83B7aBF142236Ea', '0x45dDa9cb7c25131DF268515131f647d726f50608', 'USDC', 'WETH', True, False, 60.192439084572435)\n",
      "(7, Contract(address='0xf7b1ab2545451b60345fa3ab8c5210d53c703c98'), '0x0768A75F616B98ee0937673bD83B7aBF142236Ea', '0xFC99D1c02D27DE07DfE0dCd878CDe86ee59c5f6B', 'CRV', 'WETH', True, False, 4.714118326283106)\n",
      "(8, Contract(address='0xb05be549a570e430e5dde4a10a0d34cf09a7df21'), '0x0768A75F616B98ee0937673bD83B7aBF142236Ea', '0x45dDa9cb7c25131DF268515131f647d726f50608', 'USDC', 'WETH', False, True, 30.343553635635278)\n",
      "(9, Contract(address='0x74f9d8861d42ac09759ade7809a67cf053dc7ba5'), '0x0768A75F616B98ee0937673bD83B7aBF142236Ea', '0x0312692E9cADD3dDaaCE2E112A4e36397bd2f18a', 'SUSHI', 'WETH', True, False, 58.635201345818125)\n",
      "(10, Contract(address='0xe5bf5d33c617556b91558aafb7beadb68e9cea81'), '0x0768A75F616B98ee0937673bD83B7aBF142236Ea', '0x6980e5AFAfEc8c9c5F039D0C1A8ccfA6cefb9393', 'ICHI', 'oneBTC', False, True, 42362.59246294349)\n",
      "(11, Contract(address='0x5a0834ebafdf97db54f45a43290b6b09d4226ec6'), '0x0768A75F616B98ee0937673bD83B7aBF142236Ea', '0xb035B6593FCF5EbfF11fb16730c6bC023A61F9D3', 'ICHI', 'WETH', True, False, 28.45601491841159)\n",
      "(12, Contract(address='0x5394eb43700ce8fbbf4cb83e8b52ea73b71426b6'), '0x0768A75F616B98ee0937673bD83B7aBF142236Ea', '0x1aaE2bEDFEdB0bb1c07f599445fBb740033035FA', 'ICHI', 'WBTC', True, False, 1.34430841e-10)\n",
      "(13, Contract(address='0xac6c0264511eeec305da9afc2e1aba08409f99f6'), '0x0768A75F616B98ee0937673bD83B7aBF142236Ea', '0x3D86A4B8C1b55509792d57e0C038128cC9C14fE7', 'WMATIC', 'ICHI', False, True, 10289.32222424677)\n",
      "(14, Contract(address='0xc9c785d61455a44e9281c60d19e97a5fdd858510'), '0x0768A75F616B98ee0937673bD83B7aBF142236Ea', '0x7E02ae3f794eBade542c92973EB1c46D7E2e935D', 'ICHI', 'USDC', True, False, 3.3413030442e-08)\n",
      "(15, Contract(address='0x8ac3d7cd56816da9fb45e7640aa70a24884e02f7'), '0x0768A75F616B98ee0937673bD83B7aBF142236Ea', '0xED26b64F351A04Acbf16AA3782969e4a53B12c54', 'WETH', 'DPI', False, True, 280.73224104767195)\n",
      "(16, Contract(address='0x4aef5144131db95c110af41c8ec09f46295a7c4b'), '0x0768A75F616B98ee0937673bD83B7aBF142236Ea', '0x61F7d1F537E959d62265a76Bf1ac40EB3E338De7', 'ICHI', 'WBTC', False, True, 6.8289821e-11)\n",
      "(17, Contract(address='0xfc089714519e84b7ce0a4023bfee0d99f6d767da'), '0x0768A75F616B98ee0937673bD83B7aBF142236Ea', '0x50eaEDB835021E4A108B7290636d62E9765cc6d7', 'WBTC', 'WETH', True, False, 6.537771310767248)\n",
      "(18, Contract(address='0x21e6910a769d10ef4236107493406a9788c758a3'), '0x0768A75F616B98ee0937673bD83B7aBF142236Ea', '0x362D0401ED74Db25219b6D02Ac1791cFE3542D68', 'TRADE', 'USDT', True, False, 4.97497e-13)\n"
     ]
    }
   ],
   "source": [
    "for n_vault, vault in enumerate(ICHI_POLYGON_VAULTS):\n",
    "    vault = Contract(vault).set_abi(abi=ICHI_VAULT, set_loaded=True)\n",
    "    token0 = Token(vault.functions.token0().call()).as_erc20(set_loaded=True)\n",
    "    token1 = Token(vault.functions.token1().call()).as_erc20(set_loaded=True)\n",
    "\n",
    "    print((n_vault, vault,\n",
    "           vault.functions.owner().call(), vault.functions.pool().call(),\n",
    "           token0.symbol,  token1.symbol,\n",
    "           vault.functions.allowToken0().call(), vault.functions.allowToken1().call(),\n",
    "           vault.functions.totalSupply().call() / (10**vault.functions.decimals().call())))\n",
    "    \n",
    "    # print((vault, vault.functions.pool().call()))"
   ]
  },
  {
   "cell_type": "code",
   "execution_count": 13,
   "metadata": {},
   "outputs": [],
   "source": [
    "# allowToken0, allowToken1, balanceOf, getTotalAmounts, totalSupply, token0, token1, symbol, name41354245\n",
    "# getBasePosition, getLimitPosition, hysteresis, \n",
    "# owner, ichiVaultFactory, pool, tickSpacing, fee"
   ]
  },
  {
   "cell_type": "code",
   "execution_count": null,
   "metadata": {},
   "outputs": [],
   "source": [
    "# vault operations\n",
    "# withdraw, transfer\n",
    "# deposit, transfer\n",
    "# rebalance\n",
    "\n",
    "# 0x8ac3d7cd56816da9fb45e7640aa70a24884e02f7"
   ]
  },
  {
   "cell_type": "code",
   "execution_count": 25,
   "metadata": {},
   "outputs": [
    {
     "data": {
      "text/plain": [
       "278.10168836934116"
      ]
     },
     "execution_count": 25,
     "metadata": {},
     "output_type": "execute_result"
    }
   ],
   "source": [
    "deposit_block = 41028728\n",
    "\n",
    "context.web3.eth.default_block = deposit_block\n",
    "\n",
    "vault_dpi = Token('0x8ac3d7cd56816da9fb45e7640aa70a24884e02f7').set_abi(abi=ICHI_VAULT, set_loaded=True)\n",
    "\n",
    "depositor = '0x3fabe6f79f5119336886bbbdfc0b0853dc831919'\n",
    "\n",
    "vault_dpi.scaled(vault_dpi.balance_of(Address(depositor).checksum))\n"
   ]
  },
  {
   "cell_type": "code",
   "execution_count": 27,
   "metadata": {},
   "outputs": [
    {
     "data": {
      "text/html": [
       "<div>\n",
       "<style scoped>\n",
       "    .dataframe tbody tr th:only-of-type {\n",
       "        vertical-align: middle;\n",
       "    }\n",
       "\n",
       "    .dataframe tbody tr th {\n",
       "        vertical-align: top;\n",
       "    }\n",
       "\n",
       "    .dataframe thead th {\n",
       "        text-align: right;\n",
       "    }\n",
       "</style>\n",
       "<table border=\"1\" class=\"dataframe\">\n",
       "  <thead>\n",
       "    <tr style=\"text-align: right;\">\n",
       "      <th></th>\n",
       "    </tr>\n",
       "  </thead>\n",
       "  <tbody>\n",
       "  </tbody>\n",
       "</table>\n",
       "</div>"
      ],
      "text/plain": [
       "Empty DataFrame\n",
       "Columns: []\n",
       "Index: []"
      ]
     },
     "execution_count": 27,
     "metadata": {},
     "output_type": "execute_result"
    }
   ],
   "source": [
    "context.web3.eth.default_block = fix_block_number\n",
    "\n",
    "pd.DataFrame(vault_dpi.fetch_events(vault_dpi.events.Withdraw, from_block=deposit_block, by_range=1000))"
   ]
  },
  {
   "cell_type": "code",
   "execution_count": null,
   "metadata": {},
   "outputs": [],
   "source": []
  },
  {
   "cell_type": "code",
   "execution_count": 10,
   "metadata": {},
   "outputs": [],
   "source": [
    "vault"
   ]
  },
  {
   "cell_type": "code",
   "execution_count": 8,
   "metadata": {},
   "outputs": [
    {
     "data": {
      "text/plain": [
       "(19, 19, 19)"
      ]
     },
     "execution_count": 8,
     "metadata": {},
     "output_type": "execute_result"
    }
   ],
   "source": []
  }
 ],
 "metadata": {
  "kernelspec": {
   "display_name": "cmk310",
   "language": "python",
   "name": "python3"
  },
  "language_info": {
   "codemirror_mode": {
    "name": "ipython",
    "version": 3
   },
   "file_extension": ".py",
   "mimetype": "text/x-python",
   "name": "python",
   "nbconvert_exporter": "python",
   "pygments_lexer": "ipython3",
   "version": "3.10.9"
  },
  "orig_nbformat": 4
 },
 "nbformat": 4,
 "nbformat_minor": 2
}
