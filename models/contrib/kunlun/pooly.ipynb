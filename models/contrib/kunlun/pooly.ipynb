{
 "cells": [
  {
   "attachments": {},
   "cell_type": "markdown",
   "metadata": {},
   "source": [
    "# Pooly NFT Data Analysis Board\n",
    "\n",
    "We followed the Beginner's Guide for Dune Analytics [1] to implement the dashboard in Cmf [2].\n",
    "\n",
    "Following queries are implemented\n",
    "\n",
    "- Query 1: Funds Raised in ETH\n",
    "- Query 2: Funds raised in USD\n",
    "- Query 2a: Funds raised in USD at Current ETH Value\n",
    "- Query 2b: Funds raised in USD at ETH Value at Time of Purchase\n",
    "- Query 3: Total Number of Supporters\n",
    "- Query 4a: Leaderboard using the erc721. Abstraction\n",
    "- Query 4b: Leaderboard using the pooly supporter. Decoded Table\n",
    "- Query 5: Max Supply and Remaining Supply of Each of the NFT sets\n",
    "- Query 6: Timeseries Chart of ETH Raised Over Time\n",
    "\n",
    "[1] https://mirror.xyz/phillan.eth/17VAXsMPpwJg4OQNBHKTYAQTWfJMwFuXZQDAxPStf0o\n",
    "\n",
    "[2] https://github.com/credmark/credmark-models-py/blob/main/models/contrib/kunlun/pooly_nft.py\n"
   ]
  },
  {
   "cell_type": "code",
   "execution_count": 1,
   "metadata": {},
   "outputs": [],
   "source": [
    "from IPython.display import display, HTML\n",
    "from credmark.cmf.ipython import create_cmf\n",
    "from credmark.cmf.types import Token, Contract, Address, Account, BlockNumber, Records, JoinType\n",
    "\n",
    "cmf_param = {\n",
    "    'chain_id': 1,\n",
    "    'block_number': 17_000_000,\n",
    "    'register_utility_global': True\n",
    "}\n",
    "\n",
    "context, _model_loader = create_cmf(cmf_param)"
   ]
  },
  {
   "cell_type": "code",
   "execution_count": 2,
   "metadata": {},
   "outputs": [],
   "source": [
    "# Query 1: Funds Raised in ETH\n",
    "pooly_fund_raise = context.run_model('contrib.pooly-fund-raise')"
   ]
  },
  {
   "cell_type": "code",
   "execution_count": 3,
   "metadata": {},
   "outputs": [
    {
     "data": {
      "text/html": [
       "<h2>Fund raise in ETH</h2><p style=\"font-size: 16px\">Total Raised: 1027.5002165 ETH</p><h3>Fund raise per NFT</h3><p style=\"font-size: 16px\">Pooly - Judge: 75.0 ETH</p><p style=\"font-size: 16px\">Pooly - Supporter: 670.5002165 ETH</p><p style=\"font-size: 16px\">Pooly - Lawyer: 282.0 ETH</p>"
      ],
      "text/plain": [
       "<IPython.core.display.HTML object>"
      ]
     },
     "metadata": {},
     "output_type": "display_data"
    }
   ],
   "source": [
    "display(HTML('<h2>Fund raise in ETH</h2>'\n",
    "             f'<p style=\"font-size: 16px\">Total Raised: {pooly_fund_raise[\"total_raised_qty\"]} ETH</p>'\n",
    "             '<h3>Fund raise per NFT</h3>'\n",
    "             f'<p style=\"font-size: 16px\">Pooly - Judge: {pooly_fund_raise[pooly_fund_raise[\"Pooly - Judge\"].lower()]} ETH</p>'\n",
    "             f'<p style=\"font-size: 16px\">Pooly - Supporter: {pooly_fund_raise[pooly_fund_raise[\"Pooly - Supporter\"].lower()]} ETH</p>'\n",
    "             f'<p style=\"font-size: 16px\">Pooly - Lawyer: {pooly_fund_raise[pooly_fund_raise[\"Pooly - Lawyer\"].lower()]} ETH</p>'\n",
    "             ))"
   ]
  },
  {
   "cell_type": "code",
   "execution_count": 4,
   "metadata": {},
   "outputs": [
    {
     "data": {
      "text/html": [
       "<h2>Fund raise in USD</h2><p style=\"font-size: 16px\">Total Supporters: 6338</p><p style=\"font-size: 16px\">Fund value (current price): $1,917,134.86</p><p style=\"font-size: 16px\">Fund value (at time of purchase): $1,765,532.5</p>"
      ],
      "text/plain": [
       "<IPython.core.display.HTML object>"
      ]
     },
     "metadata": {},
     "output_type": "display_data"
    }
   ],
   "source": [
    "# Query 2: Funds raised in USD\n",
    "# Query 2a: Funds raised in USD at Current ETH Value\n",
    "# Query 2b: Funds raised in USD at ETH Value at Time of Purchase\n",
    "# Query 3: Total Number of Supporters\n",
    "fund_raise_usd = context.run_model('contrib.pooly-fund-raise-usd-and-count')\n",
    "\n",
    "display(HTML('<h2>Fund raise in USD</h2>'\n",
    "             f'<p style=\"font-size: 16px\">Total Supporters: {fund_raise_usd[\"total_supporters\"]}</p>'\n",
    "             f'<p style=\"font-size: 16px\">Fund value (current price): ${round(fund_raise_usd[\"total_raise_value_latest\"],2):,}</p>'\n",
    "             f'<p style=\"font-size: 16px\">Fund value (at time of purchase): ${round(fund_raise_usd[\"total_raise_value\"],2):,}</p>'))"
   ]
  },
  {
   "cell_type": "code",
   "execution_count": 5,
   "metadata": {},
   "outputs": [
    {
     "data": {
      "text/html": [
       "<h2>Supporter Leaderboard</h2><table border=\"1\" class=\"dataframe\">\n",
       "  <thead>\n",
       "    <tr style=\"text-align: right;\">\n",
       "      <th></th>\n",
       "      <th>evt_to</th>\n",
       "      <th>evt_numberOfTokens</th>\n",
       "      <th>evt_amount</th>\n",
       "    </tr>\n",
       "  </thead>\n",
       "  <tbody>\n",
       "    <tr>\n",
       "      <th>0</th>\n",
       "      <td>0xc02052d07a6ca6a90be97d2eaf94562c448d8fa5</td>\n",
       "      <td>1</td>\n",
       "      <td>75.0</td>\n",
       "    </tr>\n",
       "    <tr>\n",
       "      <th>1</th>\n",
       "      <td>0x5e5ac1679682a3831aa19f1ac13ec5eea74f09cf</td>\n",
       "      <td>16</td>\n",
       "      <td>16.0</td>\n",
       "    </tr>\n",
       "    <tr>\n",
       "      <th>2</th>\n",
       "      <td>0xa30c4b23dcf17be00e0533c2bebb33bbc8ef75d5</td>\n",
       "      <td>13</td>\n",
       "      <td>13.0</td>\n",
       "    </tr>\n",
       "    <tr>\n",
       "      <th>3</th>\n",
       "      <td>0x76d76080e5fd807ae15a002f2d44edb2909ae569</td>\n",
       "      <td>19</td>\n",
       "      <td>5.5</td>\n",
       "    </tr>\n",
       "    <tr>\n",
       "      <th>4</th>\n",
       "      <td>0xa911ccf5f6c7bd5fb25188d41a536890c3c8fae5</td>\n",
       "      <td>15</td>\n",
       "      <td>4.2</td>\n",
       "    </tr>\n",
       "    <tr>\n",
       "      <th>5</th>\n",
       "      <td>0x1ea3697a25a3b1215d3b5e2a69c06f80c8f54d98</td>\n",
       "      <td>5</td>\n",
       "      <td>4.1</td>\n",
       "    </tr>\n",
       "    <tr>\n",
       "      <th>6</th>\n",
       "      <td>0x008c84421da5527f462886cec43d2717b686a7e4</td>\n",
       "      <td>4</td>\n",
       "      <td>4.0</td>\n",
       "    </tr>\n",
       "    <tr>\n",
       "      <th>7</th>\n",
       "      <td>0xe343e47d821a9bce54f12237426a6ef391066b60</td>\n",
       "      <td>4</td>\n",
       "      <td>4.0</td>\n",
       "    </tr>\n",
       "    <tr>\n",
       "      <th>8</th>\n",
       "      <td>0x7957e4959a88bb9767c1db24800ef07b974a7e04</td>\n",
       "      <td>12</td>\n",
       "      <td>3.0</td>\n",
       "    </tr>\n",
       "    <tr>\n",
       "      <th>9</th>\n",
       "      <td>0x4754b7e3dede42d71d6c92978f25f306176ec7e9</td>\n",
       "      <td>3</td>\n",
       "      <td>3.0</td>\n",
       "    </tr>\n",
       "    <tr>\n",
       "      <th>10</th>\n",
       "      <td>0x77368adbc2ff1d4701b48abaa3d5bf23fad44eff</td>\n",
       "      <td>3</td>\n",
       "      <td>3.0</td>\n",
       "    </tr>\n",
       "    <tr>\n",
       "      <th>11</th>\n",
       "      <td>0xa5c3a513645a9a00cb561fed40438e9dfe0d6a69</td>\n",
       "      <td>9</td>\n",
       "      <td>2.7</td>\n",
       "    </tr>\n",
       "    <tr>\n",
       "      <th>12</th>\n",
       "      <td>0xf944069b489f1ebff4c3c6a6014d58cbef7c7009</td>\n",
       "      <td>8</td>\n",
       "      <td>2.6</td>\n",
       "    </tr>\n",
       "    <tr>\n",
       "      <th>13</th>\n",
       "      <td>0x839395e20bbb182fa440d08f850e6c7a8f6f0780</td>\n",
       "      <td>16</td>\n",
       "      <td>2.5</td>\n",
       "    </tr>\n",
       "    <tr>\n",
       "      <th>14</th>\n",
       "      <td>0xe58585b22cc2ac4270a2b92c2d2d8c5db5a3330e</td>\n",
       "      <td>13</td>\n",
       "      <td>2.2</td>\n",
       "    </tr>\n",
       "    <tr>\n",
       "      <th>15</th>\n",
       "      <td>0x83c9440dc34da00c47a0d4dc2b598d7bdb1b53f7</td>\n",
       "      <td>4</td>\n",
       "      <td>2.2</td>\n",
       "    </tr>\n",
       "  </tbody>\n",
       "</table>"
      ],
      "text/plain": [
       "<IPython.core.display.HTML object>"
      ]
     },
     "metadata": {},
     "output_type": "display_data"
    }
   ],
   "source": [
    "# Query 4a: Leaderboard using the erc721. Abstraction\n",
    "# Query 4b: Leaderboard using the pooly supporter. Decoded Table\n",
    "df_leaderboard = context.run_model('contrib.pooly-fund-raise-leaderboard',\n",
    "                                   {'top_n': 15}, return_type=Records).to_dataframe()\n",
    "\n",
    "display(HTML('<h2>Supporter Leaderboard</h2>'\n",
    "             f'{df_leaderboard.to_html()}'))"
   ]
  },
  {
   "cell_type": "code",
   "execution_count": 6,
   "metadata": {},
   "outputs": [
    {
     "data": {
      "text/html": [
       "<h2>NFT Supply and Minted</h2><table border=\"1\" class=\"dataframe\">\n",
       "  <thead>\n",
       "    <tr style=\"text-align: right;\">\n",
       "      <th></th>\n",
       "      <th>nft</th>\n",
       "      <th>name</th>\n",
       "      <th>supply</th>\n",
       "      <th>max_nft</th>\n",
       "    </tr>\n",
       "  </thead>\n",
       "  <tbody>\n",
       "    <tr>\n",
       "      <th>0</th>\n",
       "      <td>0x5663e3E096f1743e77B8F71b5DE0CF9Dfd058523</td>\n",
       "      <td>Pooly - Judge</td>\n",
       "      <td>1</td>\n",
       "      <td>10</td>\n",
       "    </tr>\n",
       "    <tr>\n",
       "      <th>1</th>\n",
       "      <td>0x3545192b340F50d77403DC0A64cf2b32F03d00A9</td>\n",
       "      <td>Pooly - Lawyer</td>\n",
       "      <td>297</td>\n",
       "      <td>1000</td>\n",
       "    </tr>\n",
       "    <tr>\n",
       "      <th>2</th>\n",
       "      <td>0x90B3832e2F2aDe2FE382a911805B6933C056D6ed</td>\n",
       "      <td>Pooly - Supporter</td>\n",
       "      <td>6706</td>\n",
       "      <td>10000</td>\n",
       "    </tr>\n",
       "  </tbody>\n",
       "</table>"
      ],
      "text/plain": [
       "<IPython.core.display.HTML object>"
      ]
     },
     "metadata": {},
     "output_type": "display_data"
    }
   ],
   "source": [
    "# Query 5: Max Supply and Remaining Supply of Each of the NFT sets\n",
    "df_total_supply = context.run_model('contrib.pooly-total-supply', return_type=Records).to_dataframe()\n",
    "\n",
    "display(HTML('<h2>NFT Supply and Minted</h2>'\n",
    "             f'{df_total_supply.to_html()}'))"
   ]
  },
  {
   "cell_type": "code",
   "execution_count": 7,
   "metadata": {},
   "outputs": [
    {
     "data": {
      "image/png": "[encoded data removed]",
      "text/plain": [
       "<Figure size 1500x500 with 1 Axes>"
      ]
     },
     "metadata": {},
     "output_type": "display_data"
    }
   ],
   "source": [
    "# Query 6: Timeseries Chart of ETH Raised Over Time\n",
    "df_fund_raise = context.run_model('contrib.pooly-fund-raise-timeseries', return_type=Records).to_dataframe()\n",
    "\n",
    "(df_fund_raise\n",
    " .assign(block_time=lambda x: pd.to_datetime(x.block_time, unit='s'))\n",
    " .query('block_time < \"2022-07-01\"')\n",
    " .plot(x='block_time', y='cumu_value_eth', kind='line', figsize=(15, 5), title='Fund raise time series', ylabel='ETH', xlabel='Time'))\n",
    "\n",
    "plt.show()"
   ]
  }
 ],
 "metadata": {
  "kernelspec": {
   "display_name": "cmk310",
   "language": "python",
   "name": "python3"
  },
  "language_info": {
   "codemirror_mode": {
    "name": "ipython",
    "version": 3
   },
   "file_extension": ".py",
   "mimetype": "text/x-python",
   "name": "python",
   "nbconvert_exporter": "python",
   "pygments_lexer": "ipython3",
   "version": "3.10.10"
  },
  "orig_nbformat": 4
 },
 "nbformat": 4,
 "nbformat_minor": 2
}
